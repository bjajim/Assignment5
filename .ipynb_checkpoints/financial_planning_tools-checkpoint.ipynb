{
 "cells": [
  {
   "cell_type": "markdown",
   "metadata": {},
   "source": [
    "# Financial Planning with APIs and Simulations\n",
    "\n",
    "In this Challenge, you’ll create two financial analysis tools by using a single Jupyter notebook:\n",
    "\n",
    "Part 1: A financial planner for emergencies. The members will be able to use this tool to visualize their current savings. The members can then determine if they have enough reserves for an emergency fund.\n",
    "\n",
    "Part 2: A financial planner for retirement. This tool will forecast the performance of their retirement portfolio in 30 years. To do this, the tool will make an Alpaca API call via the Alpaca SDK to get historical price data for use in Monte Carlo simulations.\n",
    "\n",
    "You’ll use the information from the Monte Carlo simulation to answer questions about the portfolio in your Jupyter notebook.\n",
    "\n"
   ]
  },
  {
   "cell_type": "code",
   "execution_count": 14,
   "metadata": {},
   "outputs": [],
   "source": [
    "# Import the required libraries and dependencies\n",
    "import os\n",
    "import requests\n",
    "import json\n",
    "import pandas as pd\n",
    "from dotenv import load_dotenv\n",
    "import alpaca_trade_api as tradeapi\n",
    "from alpaca_trade_api import TimeFrame\n",
    "from MCForecastTools import MCSimulation\n",
    "\n",
    "%matplotlib inline"
   ]
  },
  {
   "cell_type": "code",
   "execution_count": 16,
   "metadata": {},
   "outputs": [
    {
     "data": {
      "text/plain": [
       "True"
      ]
     },
     "execution_count": 16,
     "metadata": {},
     "output_type": "execute_result"
    }
   ],
   "source": [
    "# Load the environment variables from the .env file\n",
    "#by calling the load_dotenv function\n",
    "load_dotenv(\"Environment.env\")"
   ]
  },
  {
   "cell_type": "markdown",
   "metadata": {},
   "source": [
    "## Part 1: Create a Financial Planner for Emergencies"
   ]
  },
  {
   "cell_type": "markdown",
   "metadata": {},
   "source": [
    "### Evaluate the Cryptocurrency Wallet by Using the Requests Library\n",
    "\n",
    "In this section, you’ll determine the current value of a member’s cryptocurrency wallet. You’ll collect the current prices for the Bitcoin and Ethereum cryptocurrencies by using the Python Requests library. For the prototype, you’ll assume that the member holds the 1.2 Bitcoins (BTC) and 5.3 Ethereum coins (ETH). To do all this, complete the following steps:\n",
    "\n",
    "1. Create a variable named `monthly_income`, and set its value to `12000`.\n",
    "\n",
    "2. Use the Requests library to get the current price (in US dollars) of Bitcoin (BTC) and Ethereum (ETH) by using the API endpoints that the starter code supplies.\n",
    "\n",
    "3. Navigate the JSON response object to access the current price of each coin, and store each in a variable.\n",
    "\n",
    "    > **Hint** Note the specific identifier for each cryptocurrency in the API JSON response. The Bitcoin identifier is `1`, and the Ethereum identifier is `1027`.\n",
    "\n",
    "4. Calculate the value, in US dollars, of the current amount of each cryptocurrency and of the entire cryptocurrency wallet.\n",
    "\n"
   ]
  },
  {
   "cell_type": "code",
   "execution_count": 24,
   "metadata": {},
   "outputs": [],
   "source": [
    "# The current number of coins for each cryptocurrency asset held in the portfolio.\n",
    "btc_coins = 1.2\n",
    "eth_coins = 5.3"
   ]
  },
  {
   "cell_type": "markdown",
   "metadata": {},
   "source": [
    "#### Step 1: Create a variable named `monthly_income`, and set its value to `12000`."
   ]
  },
  {
   "cell_type": "code",
   "execution_count": 25,
   "metadata": {},
   "outputs": [],
   "source": [
    "# The monthly amount for the member's household income\n",
    "# YOUR CODE HERE\n",
    "monthly_income = 12000"
   ]
  },
  {
   "cell_type": "markdown",
   "metadata": {},
   "source": [
    "#### Review the endpoint URLs for the API calls to Free Crypto API in order to get the current pricing information for both BTC and ETH."
   ]
  },
  {
   "cell_type": "code",
   "execution_count": 18,
   "metadata": {},
   "outputs": [],
   "source": [
    "# The Free Crypto API Call endpoint URLs for the held cryptocurrency assets\n",
    "btc_url = \"https://api.alternative.me/v2/ticker/Bitcoin/?convert=USD\"\n",
    "eth_url = \"https://api.alternative.me/v2/ticker/Ethereum/?convert=USD\""
   ]
  },
  {
   "cell_type": "markdown",
   "metadata": {},
   "source": [
    "#### Step 2. Use the Requests library to get the current price (in US dollars) of Bitcoin (BTC) and Ethereum (ETH) by using the API endpoints that the starter code supplied."
   ]
  },
  {
   "cell_type": "code",
   "execution_count": 19,
   "metadata": {},
   "outputs": [
    {
     "data": {
      "text/plain": [
       "'{\"data\": {\"1\": {\"id\": 1, \"name\": \"Bitcoin\", \"symbol\": \"BTC\", \"website_slug\": \"bitcoin\", \"rank\": 1, \"circulating_supply\": 18946262, \"total_supply\": 18946262, \"max_supply\": 21000000, \"quotes\": {\"USD\": {\"price\": 38732.0, \"volume_24h\": 17027733419, \"market_cap\": 733596810556, \"percentage_change_1h\": -0.164598613736863, \"percentage_change_24h\": 0.545619120842337, \"percentage_change_7d\": 5.32338762874272, \"percent_change_1h\": -0.164598613736863, \"percent_change_24h\": 0.545619120842337, \"percent_change_7d\": 5.32338762874272}}, \"last_updated\": 1643756086}}, \"metadata\": {\"timestamp\": 1643756086, \"num_cryptocurrencies\": 3105, \"error\": null}}'"
      ]
     },
     "execution_count": 19,
     "metadata": {},
     "output_type": "execute_result"
    }
   ],
   "source": [
    "# Using the Python requests library, make an API call to access the current price of BTC\n",
    "btc_response = requests.get(btc_url)\n",
    "# Use the json.dumps function to review the response data from the API call\n",
    "# Use the indent and sort_keys parameters to make the response object readable\n",
    "# YOUR CODE HERE\n",
    "json.dumps(btc_response.json())"
   ]
  },
  {
   "cell_type": "code",
   "execution_count": 20,
   "metadata": {},
   "outputs": [
    {
     "data": {
      "text/plain": [
       "'{\"data\": {\"1027\": {\"id\": 1027, \"name\": \"Ethereum\", \"symbol\": \"ETH\", \"website_slug\": \"ethereum\", \"rank\": 2, \"circulating_supply\": 119406190, \"total_supply\": 119406190, \"max_supply\": 0, \"quotes\": {\"USD\": {\"price\": 2787.85, \"volume_24h\": 13202065703, \"market_cap\": 332960106762, \"percentage_change_1h\": 0.0193262941703676, \"percentage_change_24h\": 3.87476127977584, \"percentage_change_7d\": 13.8904820509453, \"percent_change_1h\": 0.0193262941703676, \"percent_change_24h\": 3.87476127977584, \"percent_change_7d\": 13.8904820509453}}, \"last_updated\": 1643756091}}, \"metadata\": {\"timestamp\": 1643756091, \"num_cryptocurrencies\": 3105, \"error\": null}}'"
      ]
     },
     "execution_count": 20,
     "metadata": {},
     "output_type": "execute_result"
    }
   ],
   "source": [
    "# Using the Python requests library, make an API call to access the current price ETH\n",
    "eth_response = requests.get(eth_url)\n",
    "\n",
    "# Use the json.dumps function to review the response data from the API call\n",
    "# Use the indent and sort_keys parameters to make the response object readable\n",
    "# YOUR CODE HERE\n",
    "json.dumps(eth_response.json())"
   ]
  },
  {
   "cell_type": "markdown",
   "metadata": {},
   "source": [
    "#### Step 3: Navigate the JSON response object to access the current price of each coin, and store each in a variable."
   ]
  },
  {
   "cell_type": "code",
   "execution_count": 21,
   "metadata": {},
   "outputs": [
    {
     "name": "stdout",
     "output_type": "stream",
     "text": [
      "38732.0\n"
     ]
    }
   ],
   "source": [
    "# Navigate the BTC response object to access the current price of BTC\n",
    "btc_price = btc_response.json()[\"data\"][\"1\"][\"quotes\"][\"USD\"][\"price\"]\n",
    "\n",
    "# Print the current price of BTC\n",
    "# YOUR CODE HERE\n",
    "print(btc_price)"
   ]
  },
  {
   "cell_type": "code",
   "execution_count": 22,
   "metadata": {},
   "outputs": [
    {
     "name": "stdout",
     "output_type": "stream",
     "text": [
      "2787.85\n"
     ]
    }
   ],
   "source": [
    "# Navigate the BTC response object to access the current price of ETH\n",
    "eth_price = eth_response.json()[\"data\"][\"1027\"][\"quotes\"][\"USD\"][\"price\"]\n",
    "\n",
    "# Print the current price of ETH\n",
    "# YOUR CODE HERE\n",
    "print(eth_price)"
   ]
  },
  {
   "cell_type": "markdown",
   "metadata": {},
   "source": [
    "### Step 4: Calculate the value, in US dollars, of the current amount of each cryptocurrency and of the entire cryptocurrency wallet."
   ]
  },
  {
   "cell_type": "code",
   "execution_count": 26,
   "metadata": {},
   "outputs": [
    {
     "name": "stdout",
     "output_type": "stream",
     "text": [
      "46478.4\n"
     ]
    }
   ],
   "source": [
    "# Compute the current value of the BTC holding \n",
    "btc_value = btc_price * btc_coins\n",
    "# Print current value of your holding in BTC\n",
    "# YOUR CODE HERE\n",
    "print(btc_value)"
   ]
  },
  {
   "cell_type": "code",
   "execution_count": 27,
   "metadata": {},
   "outputs": [
    {
     "name": "stdout",
     "output_type": "stream",
     "text": [
      "14775.605\n"
     ]
    }
   ],
   "source": [
    "# Compute the current value of the ETH holding \n",
    "eth_value = eth_price * eth_coins\n",
    "\n",
    "# Print current value of your holding in ETH\n",
    "# YOUR CODE HERE\n",
    "print(eth_value)"
   ]
  },
  {
   "cell_type": "code",
   "execution_count": 28,
   "metadata": {},
   "outputs": [
    {
     "name": "stdout",
     "output_type": "stream",
     "text": [
      "61254.005000000005\n"
     ]
    }
   ],
   "source": [
    "# Compute the total value of the cryptocurrency wallet\n",
    "# Add the value of the BTC holding to the value of the ETH holding\n",
    "total_crypto_wallet = btc_value + eth_value\n",
    "\n",
    "# Print current cryptocurrency wallet balance\n",
    "# YOUR CODE HERE\n",
    "print(total_crypto_wallet)"
   ]
  },
  {
   "cell_type": "markdown",
   "metadata": {},
   "source": [
    "### Evaluate the Stock and Bond Holdings by Using the Alpaca SDK\n",
    "\n",
    "In this section, you’ll determine the current value of a member’s stock and bond holdings. You’ll make an API call to Alpaca via the Alpaca SDK to get the current closing prices of the SPDR S&P 500 ETF Trust (ticker: SPY) and of the iShares Core US Aggregate Bond ETF (ticker: AGG). For the prototype, assume that the member holds 110 shares of SPY, which represents the stock portion of their portfolio, and 200 shares of AGG, which represents the bond portion. To do all this, complete the following steps:\n",
    "\n",
    "1. In the `Starter_Code` folder, create an environment file (`.env`) to store the values of your Alpaca API key and Alpaca secret key.\n",
    "\n",
    "2. Set the variables for the Alpaca API and secret keys. Using the Alpaca SDK, create the Alpaca `tradeapi.REST` object. In this object, include the parameters for the Alpaca API key, the secret key, and the version number.\n",
    "\n",
    "3. Set the following parameters for the Alpaca API call:\n",
    "\n",
    "    - `tickers`: Use the tickers for the member’s stock and bond holdings.\n",
    "\n",
    "    - `timeframe`: Use a time frame of one day.\n",
    "\n",
    "    - `start_date` and `end_date`: Use the same date for these parameters, and format them with the date of the previous weekday (or `2020-08-07`). This is because you want the one closing price for the most-recent trading day.\n",
    "\n",
    "4. Get the current closing prices for `SPY` and `AGG` by using the Alpaca `get_barset` function. Format the response as a Pandas DataFrame by including the `df` property at the end of the `get_barset` function.\n",
    "\n",
    "5. Navigating the Alpaca response DataFrame, select the `SPY` and `AGG` closing prices, and store them as variables.\n",
    "\n",
    "6. Calculate the value, in US dollars, of the current amount of shares in each of the stock and bond portions of the portfolio, and print the results.\n"
   ]
  },
  {
   "cell_type": "markdown",
   "metadata": {},
   "source": [
    "#### Review the total number of shares held in both (SPY) and (AGG)."
   ]
  },
  {
   "cell_type": "code",
   "execution_count": 29,
   "metadata": {},
   "outputs": [],
   "source": [
    "# Current amount of shares held in both the stock (SPY) and bond (AGG) portion of the portfolio.\n",
    "spy_shares = 110\n",
    "agg_shares = 200\n"
   ]
  },
  {
   "cell_type": "markdown",
   "metadata": {},
   "source": [
    "#### Step 1: In the `Starter_Code` folder, create an environment file (`.env`) to store the values of your Alpaca API key and Alpaca secret key."
   ]
  },
  {
   "cell_type": "markdown",
   "metadata": {},
   "source": [
    "#### Step 2: Set the variables for the Alpaca API and secret keys. Using the Alpaca SDK, create the Alpaca `tradeapi.REST` object. In this object, include the parameters for the Alpaca API key, the secret key, and the version number."
   ]
  },
  {
   "cell_type": "code",
   "execution_count": 60,
   "metadata": {},
   "outputs": [
    {
     "name": "stdout",
     "output_type": "stream",
     "text": [
      "PKCL9BMU0HJGUTRNGN7D\n",
      "of3Fr8WQrqKAUuxK0mlavzw4Fz7I1fQwiJeuLo1M\n"
     ]
    }
   ],
   "source": [
    "# Set the variables for the Alpaca API and secret keys\n",
    "# YOUR CODE HERE\n",
    "api_key = os.getenv('ALPACA_API_KEY')\n",
    "\n",
    "print(api_key)\n",
    "# YOUR CODE HERE\n",
    "secret_key = os.getenv('ALPACA_SECRET_KEY')\n",
    "\n",
    "print(secret_key)\n",
    "# Create the Alpaca tradeapi.REST object\n",
    "# YOUR CODE HERE\n",
    "\n",
    "api = tradeapi.REST(api_key, secret_key, api_version = \"v2\")\n",
    "\n"
   ]
  },
  {
   "cell_type": "markdown",
   "metadata": {},
   "source": [
    "#### Step 3: Set the following parameters for the Alpaca API call:\n",
    "\n",
    "- `tickers`: Use the tickers for the member’s stock and bond holdings.\n",
    "\n",
    "- `timeframe`: Use a time frame of one day.\n",
    "\n",
    "- `start_date` and `end_date`: Use the same date for these parameters, and format them with the date of the previous weekday (or `2020-08-07`). This is because you want the one closing price for the most-recent trading day.\n"
   ]
  },
  {
   "cell_type": "code",
   "execution_count": 65,
   "metadata": {},
   "outputs": [],
   "source": [
    "# Set the tickers for both the bond and stock portion of the portfolio\n",
    "# YOUR CODE HERE\n",
    "tickers = [\"SPY\", \"AGG\"]\n",
    "# Set timeframe to 1D \n",
    "# YOUR CODE HERE\n",
    "timeframe = \"1D\"\n",
    "# Format current date as ISO format\n",
    "# Set both the start and end date at the date of your prior weekday \n",
    "# This will give you the closing price of the previous trading day\n",
    "# Alternatively you can use a start and end date of 2020-08-07\n",
    "# YOUR CODE HERE\n",
    "# YOUR CODE HERE\n",
    "start_date =  pd.Timestamp(\"2022-01-27\", tz=\"America/New_York\").isoformat()\n",
    "end_date = pd.Timestamp(\"2022-01-27\", tz=\"America/New_York\").isoformat()"
   ]
  },
  {
   "cell_type": "markdown",
   "metadata": {},
   "source": [
    "#### Step 4: Get the current closing prices for `SPY` and `AGG` by using the Alpaca `get_barset` function. Format the response as a Pandas DataFrame by including the `df` property at the end of the `get_barset` function."
   ]
  },
  {
   "cell_type": "code",
   "execution_count": 71,
   "metadata": {},
   "outputs": [
    {
     "name": "stderr",
     "output_type": "stream",
     "text": [
      "<ipython-input-71-58485dd2eeb2>:4: DeprecatedWarning: get_barset is deprecated as of v1.0.0. Use get_bars instead\n",
      "  alpaca_df = api.get_barset(tickers, timeframe, start = start_date, end = end_date).df\n"
     ]
    },
    {
     "data": {
      "text/html": [
       "<div>\n",
       "<style scoped>\n",
       "    .dataframe tbody tr th:only-of-type {\n",
       "        vertical-align: middle;\n",
       "    }\n",
       "\n",
       "    .dataframe tbody tr th {\n",
       "        vertical-align: top;\n",
       "    }\n",
       "\n",
       "    .dataframe thead tr th {\n",
       "        text-align: left;\n",
       "    }\n",
       "\n",
       "    .dataframe thead tr:last-of-type th {\n",
       "        text-align: right;\n",
       "    }\n",
       "</style>\n",
       "<table border=\"1\" class=\"dataframe\">\n",
       "  <thead>\n",
       "    <tr>\n",
       "      <th></th>\n",
       "      <th colspan=\"5\" halign=\"left\">AGG</th>\n",
       "      <th colspan=\"5\" halign=\"left\">SPY</th>\n",
       "    </tr>\n",
       "    <tr>\n",
       "      <th></th>\n",
       "      <th>open</th>\n",
       "      <th>high</th>\n",
       "      <th>low</th>\n",
       "      <th>close</th>\n",
       "      <th>volume</th>\n",
       "      <th>open</th>\n",
       "      <th>high</th>\n",
       "      <th>low</th>\n",
       "      <th>close</th>\n",
       "      <th>volume</th>\n",
       "    </tr>\n",
       "    <tr>\n",
       "      <th>time</th>\n",
       "      <th></th>\n",
       "      <th></th>\n",
       "      <th></th>\n",
       "      <th></th>\n",
       "      <th></th>\n",
       "      <th></th>\n",
       "      <th></th>\n",
       "      <th></th>\n",
       "      <th></th>\n",
       "      <th></th>\n",
       "    </tr>\n",
       "  </thead>\n",
       "  <tbody>\n",
       "    <tr>\n",
       "      <th>2022-01-27 00:00:00-05:00</th>\n",
       "      <td>111.62</td>\n",
       "      <td>111.88</td>\n",
       "      <td>111.62</td>\n",
       "      <td>111.72</td>\n",
       "      <td>5836124</td>\n",
       "      <td>438.26</td>\n",
       "      <td>441.58</td>\n",
       "      <td>429.45</td>\n",
       "      <td>431.27</td>\n",
       "      <td>136251597</td>\n",
       "    </tr>\n",
       "  </tbody>\n",
       "</table>\n",
       "</div>"
      ],
      "text/plain": [
       "                              AGG                                      SPY  \\\n",
       "                             open    high     low   close   volume    open   \n",
       "time                                                                         \n",
       "2022-01-27 00:00:00-05:00  111.62  111.88  111.62  111.72  5836124  438.26   \n",
       "\n",
       "                                                              \n",
       "                             high     low   close     volume  \n",
       "time                                                          \n",
       "2022-01-27 00:00:00-05:00  441.58  429.45  431.27  136251597  "
      ]
     },
     "execution_count": 71,
     "metadata": {},
     "output_type": "execute_result"
    }
   ],
   "source": [
    "# Use the Alpaca get_barset function to get current closing prices the portfolio\n",
    "# Be sure to set the `df` property after the function to format the response object as a DataFrame\n",
    "# YOUR CODE HERE\n",
    "alpaca_df = api.get_barset(tickers, timeframe, start = start_date, end = end_date).df\n",
    "\n",
    "# Review the first 5 rows of the Alpaca DataFrame\n",
    "# YOUR CODE HERE\n",
    "alpaca_df.head()"
   ]
  },
  {
   "cell_type": "markdown",
   "metadata": {},
   "source": [
    "#### Step 5: Navigating the Alpaca response DataFrame, select the `SPY` and `AGG` closing prices, and store them as variables."
   ]
  },
  {
   "cell_type": "code",
   "execution_count": 73,
   "metadata": {},
   "outputs": [
    {
     "name": "stdout",
     "output_type": "stream",
     "text": [
      "111.72\n"
     ]
    }
   ],
   "source": [
    "# Access the closing price for AGG from the Alpaca DataFrame\n",
    "# Converting the value to a floating point number\n",
    "agg_close_price = alpaca_df['AGG']['close'][0]\n",
    "\n",
    "# Print the AGG closing price\n",
    "# YOUR CODE HERE\n",
    "print(agg_close_price)"
   ]
  },
  {
   "cell_type": "code",
   "execution_count": 74,
   "metadata": {},
   "outputs": [
    {
     "name": "stdout",
     "output_type": "stream",
     "text": [
      "431.27\n"
     ]
    }
   ],
   "source": [
    "# Access the closing price for SPY from the Alpaca DataFrame\n",
    "# Converting the value to a floating point number\n",
    "spy_close_price = alpaca_df['SPY']['close'][0]\n",
    "\n",
    "# Print the SPY closing price\n",
    "# YOUR CODE HERE\n",
    "print(spy_close_price)"
   ]
  },
  {
   "cell_type": "markdown",
   "metadata": {},
   "source": [
    "#### Step 6: Calculate the value, in US dollars, of the current amount of shares in each of the stock and bond portions of the portfolio, and print the results."
   ]
  },
  {
   "cell_type": "code",
   "execution_count": 75,
   "metadata": {},
   "outputs": [
    {
     "name": "stdout",
     "output_type": "stream",
     "text": [
      "22344.0\n"
     ]
    }
   ],
   "source": [
    "# Calculate the current value of the bond portion of the portfolio\n",
    "agg_value = agg_close_price * agg_shares\n",
    "\n",
    "# Print the current value of the bond portfolio\n",
    "# YOUR CODE HERE\n",
    "print(agg_value)"
   ]
  },
  {
   "cell_type": "code",
   "execution_count": 76,
   "metadata": {},
   "outputs": [
    {
     "name": "stdout",
     "output_type": "stream",
     "text": [
      "47439.7\n"
     ]
    }
   ],
   "source": [
    "# Calculate the current value of the stock portion of the portfolio\n",
    "spy_value = spy_close_price * spy_shares\n",
    "\n",
    "# Print the current value of the stock portfolio\n",
    "# YOUR CODE HERE\n",
    "print(spy_value)"
   ]
  },
  {
   "cell_type": "code",
   "execution_count": 77,
   "metadata": {},
   "outputs": [
    {
     "name": "stdout",
     "output_type": "stream",
     "text": [
      "69783.7\n"
     ]
    }
   ],
   "source": [
    "# Calculate the total value of the stock and bond portion of the portfolio\n",
    "total_stocks_bonds = agg_value + spy_value\n",
    "\n",
    "# Print the current balance of the stock and bond portion of the portfolio\n",
    "# YOUR CODE HERE\n",
    "print(total_stocks_bonds)"
   ]
  },
  {
   "cell_type": "code",
   "execution_count": 78,
   "metadata": {},
   "outputs": [
    {
     "name": "stdout",
     "output_type": "stream",
     "text": [
      "131037.705\n"
     ]
    }
   ],
   "source": [
    "# Calculate the total value of the member's entire savings portfolio\n",
    "# Add the value of the cryptocurrency walled to the value of the total stocks and bonds\n",
    "total_portfolio = total_stocks_bonds + total_crypto_wallet\n",
    "\n",
    "# Print current cryptocurrency wallet balance\n",
    "# YOUR CODE HERE\n",
    "print(total_portfolio)"
   ]
  },
  {
   "cell_type": "markdown",
   "metadata": {},
   "source": [
    "### Evaluate the Emergency Fund\n",
    "\n",
    "In this section, you’ll use the valuations for the cryptocurrency wallet and for the stock and bond portions of the portfolio to determine if the credit union member has enough savings to build an emergency fund into their financial plan. To do this, complete the following steps:\n",
    "\n",
    "1. Create a Python list named `savings_data` that has two elements. The first element contains the total value of the cryptocurrency wallet. The second element contains the total value of the stock and bond portions of the portfolio.\n",
    "\n",
    "2. Use the `savings_data` list to create a Pandas DataFrame named `savings_df`, and then display this DataFrame. The function to create the DataFrame should take the following three parameters:\n",
    "\n",
    "    - `savings_data`: Use the list that you just created.\n",
    "\n",
    "    - `columns`: Set this parameter equal to a Python list with a single value called `amount`.\n",
    "\n",
    "    - `index`: Set this parameter equal to a Python list with the values of `crypto` and `stock/bond`.\n",
    "\n",
    "3. Use the `savings_df` DataFrame to plot a pie chart that visualizes the composition of the member’s portfolio. The y-axis of the pie chart uses `amount`. Be sure to add a title.\n",
    "\n",
    "4. Using Python, determine if the current portfolio has enough to create an emergency fund as part of the member’s financial plan. Ideally, an emergency fund should equal to three times the member’s monthly income. To do this, implement the following steps:\n",
    "\n",
    "    1. Create a variable named `emergency_fund_value`, and set it equal to three times the value of the member’s `monthly_income` of $12000. (You set this earlier in Part 1).\n",
    "\n",
    "    2. Create a series of three if statements to determine if the member’s total portfolio is large enough to fund the emergency portfolio:\n",
    "\n",
    "        1. If the total portfolio value is greater than the emergency fund value, display a message congratulating the member for having enough money in this fund.\n",
    "\n",
    "        2. Else if the total portfolio value is equal to the emergency fund value, display a message congratulating the member on reaching this important financial goal.\n",
    "\n",
    "        3. Else the total portfolio is less than the emergency fund value, so display a message showing how many dollars away the member is from reaching the goal. (Subtract the total portfolio value from the emergency fund value.)\n"
   ]
  },
  {
   "cell_type": "markdown",
   "metadata": {},
   "source": [
    "#### Step 1: Create a Python list named `savings_data` that has two elements. The first element contains the total value of the cryptocurrency wallet. The second element contains the total value of the stock and bond portions of the portfolio."
   ]
  },
  {
   "cell_type": "code",
   "execution_count": 79,
   "metadata": {},
   "outputs": [
    {
     "data": {
      "text/plain": [
       "[61254.005000000005, 69783.7]"
      ]
     },
     "execution_count": 79,
     "metadata": {},
     "output_type": "execute_result"
    }
   ],
   "source": [
    "# Consolidate financial assets data into a Python list\n",
    "# YOUR CODE HERE\n",
    "savings_data = [total_crypto_wallet, total_stocks_bonds]\n",
    "# Review the Python list savings_data\n",
    "# YOUR CODE HERE\n",
    "savings_data"
   ]
  },
  {
   "cell_type": "markdown",
   "metadata": {},
   "source": [
    "#### Step 2: Use the `savings_data` list to create a Pandas DataFrame named `savings_df`, and then display this DataFrame. The function to create the DataFrame should take the following three parameters:\n",
    "\n",
    "- `savings_data`: Use the list that you just created.\n",
    "\n",
    "- `columns`: Set this parameter equal to a Python list with a single value called `amount`.\n",
    "\n",
    "- `index`: Set this parameter equal to a Python list with the values of `crypto` and `stock/bond`.\n"
   ]
  },
  {
   "cell_type": "code",
   "execution_count": 80,
   "metadata": {},
   "outputs": [
    {
     "data": {
      "text/html": [
       "<div>\n",
       "<style scoped>\n",
       "    .dataframe tbody tr th:only-of-type {\n",
       "        vertical-align: middle;\n",
       "    }\n",
       "\n",
       "    .dataframe tbody tr th {\n",
       "        vertical-align: top;\n",
       "    }\n",
       "\n",
       "    .dataframe thead th {\n",
       "        text-align: right;\n",
       "    }\n",
       "</style>\n",
       "<table border=\"1\" class=\"dataframe\">\n",
       "  <thead>\n",
       "    <tr style=\"text-align: right;\">\n",
       "      <th></th>\n",
       "      <th>amount</th>\n",
       "    </tr>\n",
       "  </thead>\n",
       "  <tbody>\n",
       "    <tr>\n",
       "      <th>crypto</th>\n",
       "      <td>61254.005</td>\n",
       "    </tr>\n",
       "    <tr>\n",
       "      <th>stock/bond</th>\n",
       "      <td>69783.700</td>\n",
       "    </tr>\n",
       "  </tbody>\n",
       "</table>\n",
       "</div>"
      ],
      "text/plain": [
       "               amount\n",
       "crypto      61254.005\n",
       "stock/bond  69783.700"
      ]
     },
     "execution_count": 80,
     "metadata": {},
     "output_type": "execute_result"
    }
   ],
   "source": [
    "# Create a Pandas DataFrame called savings_df \n",
    "# YOUR CODE HERE\n",
    "savings_df = pd.DataFrame(savings_data, columns = [\"amount\"], index = [\"crypto\", \"stock/bond\"])\n",
    "# Display the savings_df DataFrame\n",
    "# YOUR CODE HERE\n",
    "savings_df"
   ]
  },
  {
   "cell_type": "markdown",
   "metadata": {},
   "source": [
    "#### Step 3: Use the `savings_df` DataFrame to plot a pie chart that visualizes the composition of the member’s portfolio. The y-axis of the pie chart uses `amount`. Be sure to add a title."
   ]
  },
  {
   "cell_type": "code",
   "execution_count": 81,
   "metadata": {},
   "outputs": [
    {
     "data": {
      "text/plain": [
       "<AxesSubplot:title={'center':' Personal Savings'}, ylabel='amount'>"
      ]
     },
     "execution_count": 81,
     "metadata": {},
     "output_type": "execute_result"
    },
    {
     "data": {
      "image/png": "[encoded data removed]",
      "text/plain": [
       "<Figure size 720x720 with 1 Axes>"
      ]
     },
     "metadata": {},
     "output_type": "display_data"
    }
   ],
   "source": [
    "# Plot the total value of the member's portfolio (crypto and stock/bond) in a pie chart\n",
    "# YOUR CODE HERE\n",
    "savings_df.plot.pie(y = \"amount\", title=\" Personal Savings\", figsize=(10,10))"
   ]
  },
  {
   "cell_type": "markdown",
   "metadata": {},
   "source": [
    "#### Step 4: Using Python, determine if the current portfolio has enough to create an emergency fund as part of the member’s financial plan. Ideally, an emergency fund should equal to three times the member’s monthly income. To do this, implement the following steps:\n",
    "\n",
    "Step 1. Create a variable named `emergency_fund_value`, and set it equal to three times the value of the member’s `monthly_income` of 12000. (You set this earlier in Part 1).\n",
    "\n",
    "Step 2. Create a series of three if statements to determine if the member’s total portfolio is large enough to fund the emergency portfolio:\n",
    "\n",
    "* If the total portfolio value is greater than the emergency fund value, display a message congratulating the member for having enough money in this fund.\n",
    "\n",
    "* Else if the total portfolio value is equal to the emergency fund value, display a message congratulating the member on reaching this important financial goal.\n",
    "\n",
    "* Else the total portfolio is less than the emergency fund value, so display a message showing how many dollars away the member is from reaching the goal. (Subtract the total portfolio value from the emergency fund value.)\n"
   ]
  },
  {
   "cell_type": "markdown",
   "metadata": {},
   "source": [
    "##### Step 4-1: Create a variable named `emergency_fund_value`, and set it equal to three times the value of the member’s `monthly_income` of 12000. (You set this earlier in Part 1)."
   ]
  },
  {
   "cell_type": "code",
   "execution_count": 82,
   "metadata": {},
   "outputs": [],
   "source": [
    "# Create a variable named emergency_fund_value\n",
    "# YOUR CODE HERE\n",
    "emergency_fund_value = monthly_income * 3"
   ]
  },
  {
   "cell_type": "markdown",
   "metadata": {},
   "source": [
    "##### Step 4-2: Create a series of three if statements to determine if the member’s total portfolio is large enough to fund the emergency portfolio:\n",
    "\n",
    "* If the total portfolio value is greater than the emergency fund value, display a message congratulating the member for having enough money in this fund.\n",
    "\n",
    "* Else if the total portfolio value is equal to the emergency fund value, display a message congratulating the member on reaching this important financial goal.\n",
    "\n",
    "* Else the total portfolio is less than the emergency fund value, so display a message showing how many dollars away the member is from reaching the goal. (Subtract the total portfolio value from the emergency fund value.)"
   ]
  },
  {
   "cell_type": "code",
   "execution_count": 83,
   "metadata": {},
   "outputs": [
    {
     "name": "stdout",
     "output_type": "stream",
     "text": [
      "Congratulations for having enough money for your fund\n"
     ]
    }
   ],
   "source": [
    "# Evaluate the possibility of creating an emergency fund with 3 conditions:\n",
    "# YOUR CODE HERE\n",
    "\n",
    "if total_portfolio > emergency_fund_value:\n",
    "    print(\"Congratulations for having enough money for your fund\")\n",
    "# YOUR CODE HERE\n",
    "elif total_portfolio == emergency_fund_value:\n",
    "    print(\"Congratulations for reaching this financial goal\")\n",
    "# YOUR CODE HERE\n",
    "else:\n",
    "    print(f\"You have ${emergency_fund_value - total_portfolio} left to meet your financial goal\")\n"
   ]
  },
  {
   "cell_type": "markdown",
   "metadata": {},
   "source": [
    "## Part 2: Create a Financial Planner for Retirement"
   ]
  },
  {
   "cell_type": "markdown",
   "metadata": {},
   "source": [
    "### Create the Monte Carlo Simulation\n",
    "\n",
    "In this section, you’ll use the MCForecastTools library to create a Monte Carlo simulation for the member’s savings portfolio. To do this, complete the following steps:\n",
    "\n",
    "1. Make an API call via the Alpaca SDK to get 3 years of historical closing prices for a traditional 60/40 portfolio split: 60% stocks (SPY) and 40% bonds (AGG).\n",
    "\n",
    "2. Run a Monte Carlo simulation of 500 samples and 30 years for the 60/40 portfolio, and then plot the results.The following image shows the overlay line plot resulting from a simulation with these characteristics. However, because a random number generator is used to run each live Monte Carlo simulation, your image will differ slightly from this exact image:\n",
    "\n",
    "![A screenshot depicts the resulting plot.](Images/5-4-monte-carlo-line-plot.png)\n",
    "\n",
    "3. Plot the probability distribution of the Monte Carlo simulation. Plot the probability distribution of the Monte Carlo simulation. The following image shows the histogram plot resulting from a simulation with these characteristics. However, because a random number generator is used to run each live Monte Carlo simulation, your image will differ slightly from this exact image:\n",
    "\n",
    "![A screenshot depicts the histogram plot.](Images/5-4-monte-carlo-histogram.png)\n",
    "\n",
    "4. Generate the summary statistics for the Monte Carlo simulation.\n",
    "\n"
   ]
  },
  {
   "cell_type": "markdown",
   "metadata": {},
   "source": [
    "#### Step 1: Make an API call via the Alpaca SDK to get 3 years of historical closing prices for a traditional 60/40 portfolio split: 60% stocks (SPY) and 40% bonds (AGG)."
   ]
  },
  {
   "cell_type": "code",
   "execution_count": 84,
   "metadata": {},
   "outputs": [],
   "source": [
    "# Set start and end dates of 3 years back from your current date\n",
    "# Alternatively, you can use an end date of 2020-08-07 and work 3 years back from that date \n",
    "# YOUR CODE HERE\n",
    "start_date = \"2017-08-07\"\n",
    "# YOUR CODE HERE\n",
    "end_date = \"2020-08-07\"\n",
    "# Set number of rows to 1000 to retrieve the maximum amount of rows\n",
    "# YOUR CODE HERE\n",
    "limit = 1000"
   ]
  },
  {
   "cell_type": "code",
   "execution_count": 85,
   "metadata": {},
   "outputs": [
    {
     "name": "stderr",
     "output_type": "stream",
     "text": [
      "<ipython-input-85-09e6fbafe186>:6: DeprecatedWarning: get_barset is deprecated as of v1.0.0. Use get_bars instead\n",
      "  stock_data_df = api.get_barset(tickers, timeframe, start=start_date, end=end_date, limit=limit).df\n"
     ]
    },
    {
     "data": {
      "text/html": [
       "<div>\n",
       "<style scoped>\n",
       "    .dataframe tbody tr th:only-of-type {\n",
       "        vertical-align: middle;\n",
       "    }\n",
       "\n",
       "    .dataframe tbody tr th {\n",
       "        vertical-align: top;\n",
       "    }\n",
       "\n",
       "    .dataframe thead tr th {\n",
       "        text-align: left;\n",
       "    }\n",
       "\n",
       "    .dataframe thead tr:last-of-type th {\n",
       "        text-align: right;\n",
       "    }\n",
       "</style>\n",
       "<table border=\"1\" class=\"dataframe\">\n",
       "  <thead>\n",
       "    <tr>\n",
       "      <th></th>\n",
       "      <th colspan=\"5\" halign=\"left\">AGG</th>\n",
       "      <th colspan=\"5\" halign=\"left\">SPY</th>\n",
       "    </tr>\n",
       "    <tr>\n",
       "      <th></th>\n",
       "      <th>open</th>\n",
       "      <th>high</th>\n",
       "      <th>low</th>\n",
       "      <th>close</th>\n",
       "      <th>volume</th>\n",
       "      <th>open</th>\n",
       "      <th>high</th>\n",
       "      <th>low</th>\n",
       "      <th>close</th>\n",
       "      <th>volume</th>\n",
       "    </tr>\n",
       "    <tr>\n",
       "      <th>time</th>\n",
       "      <th></th>\n",
       "      <th></th>\n",
       "      <th></th>\n",
       "      <th></th>\n",
       "      <th></th>\n",
       "      <th></th>\n",
       "      <th></th>\n",
       "      <th></th>\n",
       "      <th></th>\n",
       "      <th></th>\n",
       "    </tr>\n",
       "  </thead>\n",
       "  <tbody>\n",
       "    <tr>\n",
       "      <th>2018-02-12 00:00:00-05:00</th>\n",
       "      <td>106.74</td>\n",
       "      <td>106.9450</td>\n",
       "      <td>106.6632</td>\n",
       "      <td>106.77</td>\n",
       "      <td>5075086.0</td>\n",
       "      <td>NaN</td>\n",
       "      <td>NaN</td>\n",
       "      <td>NaN</td>\n",
       "      <td>NaN</td>\n",
       "      <td>NaN</td>\n",
       "    </tr>\n",
       "    <tr>\n",
       "      <th>2018-02-13 00:00:00-05:00</th>\n",
       "      <td>106.79</td>\n",
       "      <td>106.9100</td>\n",
       "      <td>106.7000</td>\n",
       "      <td>106.83</td>\n",
       "      <td>3689890.0</td>\n",
       "      <td>263.94</td>\n",
       "      <td>266.62</td>\n",
       "      <td>263.31</td>\n",
       "      <td>266.01</td>\n",
       "      <td>56891150.0</td>\n",
       "    </tr>\n",
       "    <tr>\n",
       "      <th>2018-02-14 00:00:00-05:00</th>\n",
       "      <td>106.57</td>\n",
       "      <td>106.6600</td>\n",
       "      <td>106.4039</td>\n",
       "      <td>106.46</td>\n",
       "      <td>3695997.0</td>\n",
       "      <td>264.47</td>\n",
       "      <td>270.00</td>\n",
       "      <td>263.97</td>\n",
       "      <td>269.71</td>\n",
       "      <td>86705860.0</td>\n",
       "    </tr>\n",
       "    <tr>\n",
       "      <th>2018-02-15 00:00:00-05:00</th>\n",
       "      <td>106.55</td>\n",
       "      <td>106.7272</td>\n",
       "      <td>106.5300</td>\n",
       "      <td>106.59</td>\n",
       "      <td>2398428.0</td>\n",
       "      <td>271.59</td>\n",
       "      <td>273.01</td>\n",
       "      <td>268.77</td>\n",
       "      <td>273.00</td>\n",
       "      <td>72021939.0</td>\n",
       "    </tr>\n",
       "    <tr>\n",
       "      <th>2018-02-16 00:00:00-05:00</th>\n",
       "      <td>106.85</td>\n",
       "      <td>106.8750</td>\n",
       "      <td>106.7100</td>\n",
       "      <td>106.81</td>\n",
       "      <td>3391074.0</td>\n",
       "      <td>272.31</td>\n",
       "      <td>275.32</td>\n",
       "      <td>272.27</td>\n",
       "      <td>273.09</td>\n",
       "      <td>76314679.0</td>\n",
       "    </tr>\n",
       "  </tbody>\n",
       "</table>\n",
       "</div>"
      ],
      "text/plain": [
       "                              AGG                                         \\\n",
       "                             open      high       low   close     volume   \n",
       "time                                                                       \n",
       "2018-02-12 00:00:00-05:00  106.74  106.9450  106.6632  106.77  5075086.0   \n",
       "2018-02-13 00:00:00-05:00  106.79  106.9100  106.7000  106.83  3689890.0   \n",
       "2018-02-14 00:00:00-05:00  106.57  106.6600  106.4039  106.46  3695997.0   \n",
       "2018-02-15 00:00:00-05:00  106.55  106.7272  106.5300  106.59  2398428.0   \n",
       "2018-02-16 00:00:00-05:00  106.85  106.8750  106.7100  106.81  3391074.0   \n",
       "\n",
       "                              SPY                                      \n",
       "                             open    high     low   close      volume  \n",
       "time                                                                   \n",
       "2018-02-12 00:00:00-05:00     NaN     NaN     NaN     NaN         NaN  \n",
       "2018-02-13 00:00:00-05:00  263.94  266.62  263.31  266.01  56891150.0  \n",
       "2018-02-14 00:00:00-05:00  264.47  270.00  263.97  269.71  86705860.0  \n",
       "2018-02-15 00:00:00-05:00  271.59  273.01  268.77  273.00  72021939.0  \n",
       "2018-02-16 00:00:00-05:00  272.31  275.32  272.27  273.09  76314679.0  "
      ]
     },
     "metadata": {},
     "output_type": "display_data"
    },
    {
     "data": {
      "text/html": [
       "<div>\n",
       "<style scoped>\n",
       "    .dataframe tbody tr th:only-of-type {\n",
       "        vertical-align: middle;\n",
       "    }\n",
       "\n",
       "    .dataframe tbody tr th {\n",
       "        vertical-align: top;\n",
       "    }\n",
       "\n",
       "    .dataframe thead th {\n",
       "        text-align: right;\n",
       "    }\n",
       "</style>\n",
       "<table border=\"1\" class=\"dataframe\">\n",
       "  <thead>\n",
       "    <tr style=\"text-align: right;\">\n",
       "      <th></th>\n",
       "      <th>open</th>\n",
       "      <th>high</th>\n",
       "      <th>low</th>\n",
       "      <th>close</th>\n",
       "      <th>volume</th>\n",
       "      <th>trade_count</th>\n",
       "      <th>vwap</th>\n",
       "      <th>symbol</th>\n",
       "    </tr>\n",
       "    <tr>\n",
       "      <th>timestamp</th>\n",
       "      <th></th>\n",
       "      <th></th>\n",
       "      <th></th>\n",
       "      <th></th>\n",
       "      <th></th>\n",
       "      <th></th>\n",
       "      <th></th>\n",
       "      <th></th>\n",
       "    </tr>\n",
       "  </thead>\n",
       "  <tbody>\n",
       "    <tr>\n",
       "      <th>2018-07-18 04:00:00+00:00</th>\n",
       "      <td>280.57</td>\n",
       "      <td>281.18</td>\n",
       "      <td>280.06</td>\n",
       "      <td>281.06</td>\n",
       "      <td>45335061</td>\n",
       "      <td>169756</td>\n",
       "      <td>280.805105</td>\n",
       "      <td>SPY</td>\n",
       "    </tr>\n",
       "    <tr>\n",
       "      <th>2018-07-19 04:00:00+00:00</th>\n",
       "      <td>280.31</td>\n",
       "      <td>280.74</td>\n",
       "      <td>279.46</td>\n",
       "      <td>279.96</td>\n",
       "      <td>61491867</td>\n",
       "      <td>236049</td>\n",
       "      <td>280.146764</td>\n",
       "      <td>SPY</td>\n",
       "    </tr>\n",
       "    <tr>\n",
       "      <th>2018-07-20 04:00:00+00:00</th>\n",
       "      <td>279.80</td>\n",
       "      <td>280.48</td>\n",
       "      <td>279.50</td>\n",
       "      <td>279.72</td>\n",
       "      <td>83383795</td>\n",
       "      <td>235636</td>\n",
       "      <td>279.865410</td>\n",
       "      <td>SPY</td>\n",
       "    </tr>\n",
       "    <tr>\n",
       "      <th>2018-07-23 04:00:00+00:00</th>\n",
       "      <td>279.45</td>\n",
       "      <td>280.43</td>\n",
       "      <td>279.06</td>\n",
       "      <td>280.24</td>\n",
       "      <td>47047565</td>\n",
       "      <td>190987</td>\n",
       "      <td>279.912183</td>\n",
       "      <td>SPY</td>\n",
       "    </tr>\n",
       "    <tr>\n",
       "      <th>2018-07-24 04:00:00+00:00</th>\n",
       "      <td>281.78</td>\n",
       "      <td>282.56</td>\n",
       "      <td>280.63</td>\n",
       "      <td>281.55</td>\n",
       "      <td>68218935</td>\n",
       "      <td>251365</td>\n",
       "      <td>281.615133</td>\n",
       "      <td>SPY</td>\n",
       "    </tr>\n",
       "  </tbody>\n",
       "</table>\n",
       "</div>"
      ],
      "text/plain": [
       "                             open    high     low   close    volume  \\\n",
       "timestamp                                                             \n",
       "2018-07-18 04:00:00+00:00  280.57  281.18  280.06  281.06  45335061   \n",
       "2018-07-19 04:00:00+00:00  280.31  280.74  279.46  279.96  61491867   \n",
       "2018-07-20 04:00:00+00:00  279.80  280.48  279.50  279.72  83383795   \n",
       "2018-07-23 04:00:00+00:00  279.45  280.43  279.06  280.24  47047565   \n",
       "2018-07-24 04:00:00+00:00  281.78  282.56  280.63  281.55  68218935   \n",
       "\n",
       "                           trade_count        vwap symbol  \n",
       "timestamp                                                  \n",
       "2018-07-18 04:00:00+00:00       169756  280.805105    SPY  \n",
       "2018-07-19 04:00:00+00:00       236049  280.146764    SPY  \n",
       "2018-07-20 04:00:00+00:00       235636  279.865410    SPY  \n",
       "2018-07-23 04:00:00+00:00       190987  279.912183    SPY  \n",
       "2018-07-24 04:00:00+00:00       251365  281.615133    SPY  "
      ]
     },
     "execution_count": 85,
     "metadata": {},
     "output_type": "execute_result"
    }
   ],
   "source": [
    "# Use the Alpaca get_barset function to make the API call to get the 3 years worth of pricing data\n",
    "# The tickers and timeframe parameters should have been set in Part 1 of this activity \n",
    "# The start and end dates should be updated with the information set above\n",
    "# Remember to add the df property to the end of the call so the response is returned as a DataFrame\n",
    "# YOUR CODE HERE\n",
    "stock_data_df = api.get_barset(tickers, timeframe, start=start_date, end=end_date, limit=limit).df\n",
    "\n",
    "# Display both the first and last five rows of the DataFrame\n",
    "# YOUR CODE HERE\n",
    "display(stock_data_df.head())\n",
    "# YOUR CODE HERE\n",
    "stcok_data_df.tail()"
   ]
  },
  {
   "cell_type": "markdown",
   "metadata": {},
   "source": [
    "#### Step 2: Run a Monte Carlo simulation of 500 samples and 30 years for the 60/40 portfolio, and then plot the results."
   ]
  },
  {
   "cell_type": "code",
   "execution_count": 87,
   "metadata": {},
   "outputs": [
    {
     "data": {
      "text/html": [
       "<div>\n",
       "<style scoped>\n",
       "    .dataframe tbody tr th:only-of-type {\n",
       "        vertical-align: middle;\n",
       "    }\n",
       "\n",
       "    .dataframe tbody tr th {\n",
       "        vertical-align: top;\n",
       "    }\n",
       "\n",
       "    .dataframe thead tr th {\n",
       "        text-align: left;\n",
       "    }\n",
       "\n",
       "    .dataframe thead tr:last-of-type th {\n",
       "        text-align: right;\n",
       "    }\n",
       "</style>\n",
       "<table border=\"1\" class=\"dataframe\">\n",
       "  <thead>\n",
       "    <tr>\n",
       "      <th></th>\n",
       "      <th colspan=\"6\" halign=\"left\">AGG</th>\n",
       "      <th colspan=\"6\" halign=\"left\">SPY</th>\n",
       "    </tr>\n",
       "    <tr>\n",
       "      <th></th>\n",
       "      <th>open</th>\n",
       "      <th>high</th>\n",
       "      <th>low</th>\n",
       "      <th>close</th>\n",
       "      <th>volume</th>\n",
       "      <th>daily_return</th>\n",
       "      <th>open</th>\n",
       "      <th>high</th>\n",
       "      <th>low</th>\n",
       "      <th>close</th>\n",
       "      <th>volume</th>\n",
       "      <th>daily_return</th>\n",
       "    </tr>\n",
       "    <tr>\n",
       "      <th>time</th>\n",
       "      <th></th>\n",
       "      <th></th>\n",
       "      <th></th>\n",
       "      <th></th>\n",
       "      <th></th>\n",
       "      <th></th>\n",
       "      <th></th>\n",
       "      <th></th>\n",
       "      <th></th>\n",
       "      <th></th>\n",
       "      <th></th>\n",
       "      <th></th>\n",
       "    </tr>\n",
       "  </thead>\n",
       "  <tbody>\n",
       "    <tr>\n",
       "      <th>2018-02-12 00:00:00-05:00</th>\n",
       "      <td>106.74</td>\n",
       "      <td>106.9450</td>\n",
       "      <td>106.6632</td>\n",
       "      <td>106.77</td>\n",
       "      <td>5075086.0</td>\n",
       "      <td>NaN</td>\n",
       "      <td>NaN</td>\n",
       "      <td>NaN</td>\n",
       "      <td>NaN</td>\n",
       "      <td>NaN</td>\n",
       "      <td>NaN</td>\n",
       "      <td>NaN</td>\n",
       "    </tr>\n",
       "    <tr>\n",
       "      <th>2018-02-13 00:00:00-05:00</th>\n",
       "      <td>106.79</td>\n",
       "      <td>106.9100</td>\n",
       "      <td>106.7000</td>\n",
       "      <td>106.83</td>\n",
       "      <td>3689890.0</td>\n",
       "      <td>0.000562</td>\n",
       "      <td>263.94</td>\n",
       "      <td>266.62</td>\n",
       "      <td>263.31</td>\n",
       "      <td>266.01</td>\n",
       "      <td>56891150.0</td>\n",
       "      <td>NaN</td>\n",
       "    </tr>\n",
       "    <tr>\n",
       "      <th>2018-02-14 00:00:00-05:00</th>\n",
       "      <td>106.57</td>\n",
       "      <td>106.6600</td>\n",
       "      <td>106.4039</td>\n",
       "      <td>106.46</td>\n",
       "      <td>3695997.0</td>\n",
       "      <td>-0.003463</td>\n",
       "      <td>264.47</td>\n",
       "      <td>270.00</td>\n",
       "      <td>263.97</td>\n",
       "      <td>269.71</td>\n",
       "      <td>86705860.0</td>\n",
       "      <td>0.013909</td>\n",
       "    </tr>\n",
       "    <tr>\n",
       "      <th>2018-02-15 00:00:00-05:00</th>\n",
       "      <td>106.55</td>\n",
       "      <td>106.7272</td>\n",
       "      <td>106.5300</td>\n",
       "      <td>106.59</td>\n",
       "      <td>2398428.0</td>\n",
       "      <td>0.001221</td>\n",
       "      <td>271.59</td>\n",
       "      <td>273.01</td>\n",
       "      <td>268.77</td>\n",
       "      <td>273.00</td>\n",
       "      <td>72021939.0</td>\n",
       "      <td>0.012198</td>\n",
       "    </tr>\n",
       "    <tr>\n",
       "      <th>2018-02-16 00:00:00-05:00</th>\n",
       "      <td>106.85</td>\n",
       "      <td>106.8750</td>\n",
       "      <td>106.7100</td>\n",
       "      <td>106.81</td>\n",
       "      <td>3391074.0</td>\n",
       "      <td>0.002064</td>\n",
       "      <td>272.31</td>\n",
       "      <td>275.32</td>\n",
       "      <td>272.27</td>\n",
       "      <td>273.09</td>\n",
       "      <td>76314679.0</td>\n",
       "      <td>0.000330</td>\n",
       "    </tr>\n",
       "  </tbody>\n",
       "</table>\n",
       "</div>"
      ],
      "text/plain": [
       "                              AGG                                         \\\n",
       "                             open      high       low   close     volume   \n",
       "time                                                                       \n",
       "2018-02-12 00:00:00-05:00  106.74  106.9450  106.6632  106.77  5075086.0   \n",
       "2018-02-13 00:00:00-05:00  106.79  106.9100  106.7000  106.83  3689890.0   \n",
       "2018-02-14 00:00:00-05:00  106.57  106.6600  106.4039  106.46  3695997.0   \n",
       "2018-02-15 00:00:00-05:00  106.55  106.7272  106.5300  106.59  2398428.0   \n",
       "2018-02-16 00:00:00-05:00  106.85  106.8750  106.7100  106.81  3391074.0   \n",
       "\n",
       "                                           SPY                          \\\n",
       "                          daily_return    open    high     low   close   \n",
       "time                                                                     \n",
       "2018-02-12 00:00:00-05:00          NaN     NaN     NaN     NaN     NaN   \n",
       "2018-02-13 00:00:00-05:00     0.000562  263.94  266.62  263.31  266.01   \n",
       "2018-02-14 00:00:00-05:00    -0.003463  264.47  270.00  263.97  269.71   \n",
       "2018-02-15 00:00:00-05:00     0.001221  271.59  273.01  268.77  273.00   \n",
       "2018-02-16 00:00:00-05:00     0.002064  272.31  275.32  272.27  273.09   \n",
       "\n",
       "                                                    \n",
       "                               volume daily_return  \n",
       "time                                                \n",
       "2018-02-12 00:00:00-05:00         NaN          NaN  \n",
       "2018-02-13 00:00:00-05:00  56891150.0          NaN  \n",
       "2018-02-14 00:00:00-05:00  86705860.0     0.013909  \n",
       "2018-02-15 00:00:00-05:00  72021939.0     0.012198  \n",
       "2018-02-16 00:00:00-05:00  76314679.0     0.000330  "
      ]
     },
     "execution_count": 87,
     "metadata": {},
     "output_type": "execute_result"
    }
   ],
   "source": [
    "# Configure the Monte Carlo simulation to forecast 30 years cumulative returns\n",
    "# The weights should be split 40% to AGG and 60% to SPY.\n",
    "# Run 500 samples.\n",
    "MC_simulation = MCSimulation(\n",
    "    portfolio_data = stock_data_df,\n",
    "    weights=[0.4,0.6],\n",
    "    num_simulation = 500,\n",
    "    num_trading_days = 252 * 30)\n",
    "# Review the simulation input data\n",
    "# YOUR CODE HERE\n",
    "MC_simulation.portfolio_data.head()"
   ]
  },
  {
   "cell_type": "code",
   "execution_count": 88,
   "metadata": {},
   "outputs": [
    {
     "name": "stdout",
     "output_type": "stream",
     "text": [
      "Running Monte Carlo simulation number 0.\n",
      "Running Monte Carlo simulation number 10.\n",
      "Running Monte Carlo simulation number 20.\n",
      "Running Monte Carlo simulation number 30.\n",
      "Running Monte Carlo simulation number 40.\n",
      "Running Monte Carlo simulation number 50.\n",
      "Running Monte Carlo simulation number 60.\n",
      "Running Monte Carlo simulation number 70.\n",
      "Running Monte Carlo simulation number 80.\n",
      "Running Monte Carlo simulation number 90.\n",
      "Running Monte Carlo simulation number 100.\n",
      "Running Monte Carlo simulation number 110.\n",
      "Running Monte Carlo simulation number 120.\n",
      "Running Monte Carlo simulation number 130.\n",
      "Running Monte Carlo simulation number 140.\n",
      "Running Monte Carlo simulation number 150.\n",
      "Running Monte Carlo simulation number 160.\n",
      "Running Monte Carlo simulation number 170.\n",
      "Running Monte Carlo simulation number 180.\n",
      "Running Monte Carlo simulation number 190.\n",
      "Running Monte Carlo simulation number 200.\n",
      "Running Monte Carlo simulation number 210.\n",
      "Running Monte Carlo simulation number 220.\n",
      "Running Monte Carlo simulation number 230.\n",
      "Running Monte Carlo simulation number 240.\n",
      "Running Monte Carlo simulation number 250.\n",
      "Running Monte Carlo simulation number 260.\n",
      "Running Monte Carlo simulation number 270.\n",
      "Running Monte Carlo simulation number 280.\n",
      "Running Monte Carlo simulation number 290.\n",
      "Running Monte Carlo simulation number 300.\n",
      "Running Monte Carlo simulation number 310.\n",
      "Running Monte Carlo simulation number 320.\n",
      "Running Monte Carlo simulation number 330.\n",
      "Running Monte Carlo simulation number 340.\n",
      "Running Monte Carlo simulation number 350.\n",
      "Running Monte Carlo simulation number 360.\n",
      "Running Monte Carlo simulation number 370.\n",
      "Running Monte Carlo simulation number 380.\n",
      "Running Monte Carlo simulation number 390.\n",
      "Running Monte Carlo simulation number 400.\n",
      "Running Monte Carlo simulation number 410.\n",
      "Running Monte Carlo simulation number 420.\n",
      "Running Monte Carlo simulation number 430.\n",
      "Running Monte Carlo simulation number 440.\n",
      "Running Monte Carlo simulation number 450.\n",
      "Running Monte Carlo simulation number 460.\n",
      "Running Monte Carlo simulation number 470.\n",
      "Running Monte Carlo simulation number 480.\n",
      "Running Monte Carlo simulation number 490.\n"
     ]
    },
    {
     "data": {
      "text/html": [
       "<div>\n",
       "<style scoped>\n",
       "    .dataframe tbody tr th:only-of-type {\n",
       "        vertical-align: middle;\n",
       "    }\n",
       "\n",
       "    .dataframe tbody tr th {\n",
       "        vertical-align: top;\n",
       "    }\n",
       "\n",
       "    .dataframe thead th {\n",
       "        text-align: right;\n",
       "    }\n",
       "</style>\n",
       "<table border=\"1\" class=\"dataframe\">\n",
       "  <thead>\n",
       "    <tr style=\"text-align: right;\">\n",
       "      <th></th>\n",
       "      <th>0</th>\n",
       "      <th>1</th>\n",
       "      <th>2</th>\n",
       "      <th>3</th>\n",
       "      <th>4</th>\n",
       "      <th>5</th>\n",
       "      <th>6</th>\n",
       "      <th>7</th>\n",
       "      <th>8</th>\n",
       "      <th>9</th>\n",
       "      <th>...</th>\n",
       "      <th>490</th>\n",
       "      <th>491</th>\n",
       "      <th>492</th>\n",
       "      <th>493</th>\n",
       "      <th>494</th>\n",
       "      <th>495</th>\n",
       "      <th>496</th>\n",
       "      <th>497</th>\n",
       "      <th>498</th>\n",
       "      <th>499</th>\n",
       "    </tr>\n",
       "  </thead>\n",
       "  <tbody>\n",
       "    <tr>\n",
       "      <th>0</th>\n",
       "      <td>1.000000</td>\n",
       "      <td>1.000000</td>\n",
       "      <td>1.000000</td>\n",
       "      <td>1.000000</td>\n",
       "      <td>1.000000</td>\n",
       "      <td>1.000000</td>\n",
       "      <td>1.000000</td>\n",
       "      <td>1.000000</td>\n",
       "      <td>1.000000</td>\n",
       "      <td>1.000000</td>\n",
       "      <td>...</td>\n",
       "      <td>1.000000</td>\n",
       "      <td>1.000000</td>\n",
       "      <td>1.000000</td>\n",
       "      <td>1.000000</td>\n",
       "      <td>1.000000</td>\n",
       "      <td>1.000000</td>\n",
       "      <td>1.000000</td>\n",
       "      <td>1.000000</td>\n",
       "      <td>1.000000</td>\n",
       "      <td>1.000000</td>\n",
       "    </tr>\n",
       "    <tr>\n",
       "      <th>1</th>\n",
       "      <td>1.003946</td>\n",
       "      <td>1.004448</td>\n",
       "      <td>1.003167</td>\n",
       "      <td>1.004487</td>\n",
       "      <td>0.996069</td>\n",
       "      <td>1.009591</td>\n",
       "      <td>1.003441</td>\n",
       "      <td>0.996501</td>\n",
       "      <td>1.000003</td>\n",
       "      <td>0.998346</td>\n",
       "      <td>...</td>\n",
       "      <td>0.999004</td>\n",
       "      <td>1.007380</td>\n",
       "      <td>0.999043</td>\n",
       "      <td>1.003899</td>\n",
       "      <td>1.001767</td>\n",
       "      <td>1.003688</td>\n",
       "      <td>0.999478</td>\n",
       "      <td>0.991638</td>\n",
       "      <td>1.011576</td>\n",
       "      <td>1.001022</td>\n",
       "    </tr>\n",
       "    <tr>\n",
       "      <th>2</th>\n",
       "      <td>1.003647</td>\n",
       "      <td>1.003419</td>\n",
       "      <td>1.000213</td>\n",
       "      <td>1.016861</td>\n",
       "      <td>0.996765</td>\n",
       "      <td>1.008131</td>\n",
       "      <td>1.000617</td>\n",
       "      <td>0.991991</td>\n",
       "      <td>0.990203</td>\n",
       "      <td>0.999221</td>\n",
       "      <td>...</td>\n",
       "      <td>0.998156</td>\n",
       "      <td>1.003825</td>\n",
       "      <td>1.007906</td>\n",
       "      <td>1.005795</td>\n",
       "      <td>0.998498</td>\n",
       "      <td>0.989278</td>\n",
       "      <td>1.015418</td>\n",
       "      <td>0.985799</td>\n",
       "      <td>1.006089</td>\n",
       "      <td>0.988672</td>\n",
       "    </tr>\n",
       "    <tr>\n",
       "      <th>3</th>\n",
       "      <td>0.998428</td>\n",
       "      <td>0.994118</td>\n",
       "      <td>1.001523</td>\n",
       "      <td>1.013033</td>\n",
       "      <td>0.975468</td>\n",
       "      <td>1.014203</td>\n",
       "      <td>0.997933</td>\n",
       "      <td>0.997381</td>\n",
       "      <td>0.982756</td>\n",
       "      <td>1.004449</td>\n",
       "      <td>...</td>\n",
       "      <td>1.004387</td>\n",
       "      <td>1.015167</td>\n",
       "      <td>1.001326</td>\n",
       "      <td>1.001752</td>\n",
       "      <td>0.975086</td>\n",
       "      <td>0.986015</td>\n",
       "      <td>1.018485</td>\n",
       "      <td>0.977807</td>\n",
       "      <td>1.002836</td>\n",
       "      <td>0.983094</td>\n",
       "    </tr>\n",
       "    <tr>\n",
       "      <th>4</th>\n",
       "      <td>1.002571</td>\n",
       "      <td>0.987085</td>\n",
       "      <td>1.001307</td>\n",
       "      <td>1.013714</td>\n",
       "      <td>0.977830</td>\n",
       "      <td>1.005730</td>\n",
       "      <td>0.991572</td>\n",
       "      <td>1.010567</td>\n",
       "      <td>0.993136</td>\n",
       "      <td>1.010427</td>\n",
       "      <td>...</td>\n",
       "      <td>0.991565</td>\n",
       "      <td>1.009858</td>\n",
       "      <td>1.022074</td>\n",
       "      <td>0.992865</td>\n",
       "      <td>0.969290</td>\n",
       "      <td>0.972687</td>\n",
       "      <td>1.017446</td>\n",
       "      <td>0.971343</td>\n",
       "      <td>1.012929</td>\n",
       "      <td>0.975417</td>\n",
       "    </tr>\n",
       "    <tr>\n",
       "      <th>...</th>\n",
       "      <td>...</td>\n",
       "      <td>...</td>\n",
       "      <td>...</td>\n",
       "      <td>...</td>\n",
       "      <td>...</td>\n",
       "      <td>...</td>\n",
       "      <td>...</td>\n",
       "      <td>...</td>\n",
       "      <td>...</td>\n",
       "      <td>...</td>\n",
       "      <td>...</td>\n",
       "      <td>...</td>\n",
       "      <td>...</td>\n",
       "      <td>...</td>\n",
       "      <td>...</td>\n",
       "      <td>...</td>\n",
       "      <td>...</td>\n",
       "      <td>...</td>\n",
       "      <td>...</td>\n",
       "      <td>...</td>\n",
       "      <td>...</td>\n",
       "    </tr>\n",
       "    <tr>\n",
       "      <th>7556</th>\n",
       "      <td>27.706778</td>\n",
       "      <td>26.838316</td>\n",
       "      <td>16.468764</td>\n",
       "      <td>46.320091</td>\n",
       "      <td>24.088469</td>\n",
       "      <td>11.155661</td>\n",
       "      <td>15.727584</td>\n",
       "      <td>13.706821</td>\n",
       "      <td>6.669076</td>\n",
       "      <td>14.760899</td>\n",
       "      <td>...</td>\n",
       "      <td>10.292942</td>\n",
       "      <td>24.256758</td>\n",
       "      <td>40.401027</td>\n",
       "      <td>8.456349</td>\n",
       "      <td>4.650208</td>\n",
       "      <td>8.989633</td>\n",
       "      <td>8.630562</td>\n",
       "      <td>32.023787</td>\n",
       "      <td>20.694702</td>\n",
       "      <td>5.950605</td>\n",
       "    </tr>\n",
       "    <tr>\n",
       "      <th>7557</th>\n",
       "      <td>27.738201</td>\n",
       "      <td>26.705685</td>\n",
       "      <td>16.636530</td>\n",
       "      <td>47.578063</td>\n",
       "      <td>24.050338</td>\n",
       "      <td>11.226867</td>\n",
       "      <td>15.963126</td>\n",
       "      <td>13.589140</td>\n",
       "      <td>6.632983</td>\n",
       "      <td>14.692430</td>\n",
       "      <td>...</td>\n",
       "      <td>10.353288</td>\n",
       "      <td>24.261645</td>\n",
       "      <td>40.927104</td>\n",
       "      <td>8.497157</td>\n",
       "      <td>4.719819</td>\n",
       "      <td>8.994800</td>\n",
       "      <td>8.668513</td>\n",
       "      <td>32.154886</td>\n",
       "      <td>20.676520</td>\n",
       "      <td>5.925614</td>\n",
       "    </tr>\n",
       "    <tr>\n",
       "      <th>7558</th>\n",
       "      <td>28.016845</td>\n",
       "      <td>26.810457</td>\n",
       "      <td>16.497127</td>\n",
       "      <td>47.193466</td>\n",
       "      <td>24.031858</td>\n",
       "      <td>11.311156</td>\n",
       "      <td>15.943259</td>\n",
       "      <td>13.625055</td>\n",
       "      <td>6.588285</td>\n",
       "      <td>14.798377</td>\n",
       "      <td>...</td>\n",
       "      <td>10.287347</td>\n",
       "      <td>24.458096</td>\n",
       "      <td>40.430466</td>\n",
       "      <td>8.473040</td>\n",
       "      <td>4.723730</td>\n",
       "      <td>9.027199</td>\n",
       "      <td>8.643923</td>\n",
       "      <td>31.834017</td>\n",
       "      <td>20.574681</td>\n",
       "      <td>5.919103</td>\n",
       "    </tr>\n",
       "    <tr>\n",
       "      <th>7559</th>\n",
       "      <td>27.895783</td>\n",
       "      <td>26.903103</td>\n",
       "      <td>16.439950</td>\n",
       "      <td>47.103452</td>\n",
       "      <td>23.919935</td>\n",
       "      <td>11.243435</td>\n",
       "      <td>15.748401</td>\n",
       "      <td>13.659943</td>\n",
       "      <td>6.555621</td>\n",
       "      <td>14.736801</td>\n",
       "      <td>...</td>\n",
       "      <td>10.351580</td>\n",
       "      <td>24.525213</td>\n",
       "      <td>40.078132</td>\n",
       "      <td>8.506420</td>\n",
       "      <td>4.644130</td>\n",
       "      <td>9.083007</td>\n",
       "      <td>8.677587</td>\n",
       "      <td>31.726007</td>\n",
       "      <td>20.430949</td>\n",
       "      <td>5.945703</td>\n",
       "    </tr>\n",
       "    <tr>\n",
       "      <th>7560</th>\n",
       "      <td>27.808800</td>\n",
       "      <td>26.714991</td>\n",
       "      <td>16.407833</td>\n",
       "      <td>47.359669</td>\n",
       "      <td>24.088941</td>\n",
       "      <td>11.189203</td>\n",
       "      <td>16.045321</td>\n",
       "      <td>13.784167</td>\n",
       "      <td>6.581057</td>\n",
       "      <td>14.945329</td>\n",
       "      <td>...</td>\n",
       "      <td>10.464801</td>\n",
       "      <td>24.467442</td>\n",
       "      <td>39.997284</td>\n",
       "      <td>8.438532</td>\n",
       "      <td>4.567771</td>\n",
       "      <td>9.215842</td>\n",
       "      <td>8.801398</td>\n",
       "      <td>31.788370</td>\n",
       "      <td>20.527409</td>\n",
       "      <td>5.964357</td>\n",
       "    </tr>\n",
       "  </tbody>\n",
       "</table>\n",
       "<p>7561 rows × 500 columns</p>\n",
       "</div>"
      ],
      "text/plain": [
       "            0          1          2          3          4          5    \\\n",
       "0      1.000000   1.000000   1.000000   1.000000   1.000000   1.000000   \n",
       "1      1.003946   1.004448   1.003167   1.004487   0.996069   1.009591   \n",
       "2      1.003647   1.003419   1.000213   1.016861   0.996765   1.008131   \n",
       "3      0.998428   0.994118   1.001523   1.013033   0.975468   1.014203   \n",
       "4      1.002571   0.987085   1.001307   1.013714   0.977830   1.005730   \n",
       "...         ...        ...        ...        ...        ...        ...   \n",
       "7556  27.706778  26.838316  16.468764  46.320091  24.088469  11.155661   \n",
       "7557  27.738201  26.705685  16.636530  47.578063  24.050338  11.226867   \n",
       "7558  28.016845  26.810457  16.497127  47.193466  24.031858  11.311156   \n",
       "7559  27.895783  26.903103  16.439950  47.103452  23.919935  11.243435   \n",
       "7560  27.808800  26.714991  16.407833  47.359669  24.088941  11.189203   \n",
       "\n",
       "            6          7         8          9    ...        490        491  \\\n",
       "0      1.000000   1.000000  1.000000   1.000000  ...   1.000000   1.000000   \n",
       "1      1.003441   0.996501  1.000003   0.998346  ...   0.999004   1.007380   \n",
       "2      1.000617   0.991991  0.990203   0.999221  ...   0.998156   1.003825   \n",
       "3      0.997933   0.997381  0.982756   1.004449  ...   1.004387   1.015167   \n",
       "4      0.991572   1.010567  0.993136   1.010427  ...   0.991565   1.009858   \n",
       "...         ...        ...       ...        ...  ...        ...        ...   \n",
       "7556  15.727584  13.706821  6.669076  14.760899  ...  10.292942  24.256758   \n",
       "7557  15.963126  13.589140  6.632983  14.692430  ...  10.353288  24.261645   \n",
       "7558  15.943259  13.625055  6.588285  14.798377  ...  10.287347  24.458096   \n",
       "7559  15.748401  13.659943  6.555621  14.736801  ...  10.351580  24.525213   \n",
       "7560  16.045321  13.784167  6.581057  14.945329  ...  10.464801  24.467442   \n",
       "\n",
       "            492       493       494       495       496        497        498  \\\n",
       "0      1.000000  1.000000  1.000000  1.000000  1.000000   1.000000   1.000000   \n",
       "1      0.999043  1.003899  1.001767  1.003688  0.999478   0.991638   1.011576   \n",
       "2      1.007906  1.005795  0.998498  0.989278  1.015418   0.985799   1.006089   \n",
       "3      1.001326  1.001752  0.975086  0.986015  1.018485   0.977807   1.002836   \n",
       "4      1.022074  0.992865  0.969290  0.972687  1.017446   0.971343   1.012929   \n",
       "...         ...       ...       ...       ...       ...        ...        ...   \n",
       "7556  40.401027  8.456349  4.650208  8.989633  8.630562  32.023787  20.694702   \n",
       "7557  40.927104  8.497157  4.719819  8.994800  8.668513  32.154886  20.676520   \n",
       "7558  40.430466  8.473040  4.723730  9.027199  8.643923  31.834017  20.574681   \n",
       "7559  40.078132  8.506420  4.644130  9.083007  8.677587  31.726007  20.430949   \n",
       "7560  39.997284  8.438532  4.567771  9.215842  8.801398  31.788370  20.527409   \n",
       "\n",
       "           499  \n",
       "0     1.000000  \n",
       "1     1.001022  \n",
       "2     0.988672  \n",
       "3     0.983094  \n",
       "4     0.975417  \n",
       "...        ...  \n",
       "7556  5.950605  \n",
       "7557  5.925614  \n",
       "7558  5.919103  \n",
       "7559  5.945703  \n",
       "7560  5.964357  \n",
       "\n",
       "[7561 rows x 500 columns]"
      ]
     },
     "execution_count": 88,
     "metadata": {},
     "output_type": "execute_result"
    }
   ],
   "source": [
    "# Run the Monte Carlo simulation to forecast 30 years cumulative returns\n",
    "# YOUR CODE HERE\n",
    "MC_simulation.calc_cumulative_return()"
   ]
  },
  {
   "cell_type": "code",
   "execution_count": 89,
   "metadata": {},
   "outputs": [
    {
     "data": {
      "text/plain": [
       "<AxesSubplot:title={'center':'500 Simulations of Cumulative Portfolio Return Trajectories Over the Next 7560 Trading Days.'}>"
      ]
     },
     "execution_count": 89,
     "metadata": {},
     "output_type": "execute_result"
    },
    {
     "data": {
      "image/png": "[encoded data removed]",
      "text/plain": [
       "<Figure size 432x288 with 1 Axes>"
      ]
     },
     "metadata": {
      "needs_background": "light"
     },
     "output_type": "display_data"
    }
   ],
   "source": [
    "# Visualize the 30-year Monte Carlo simulation by creating an\n",
    "# overlay line plot\n",
    "# YOUR CODE HERE\n",
    "MC_simulation.plot_simulation()"
   ]
  },
  {
   "cell_type": "markdown",
   "metadata": {},
   "source": [
    "#### Step 3: Plot the probability distribution of the Monte Carlo simulation."
   ]
  },
  {
   "cell_type": "code",
   "execution_count": 90,
   "metadata": {},
   "outputs": [
    {
     "data": {
      "text/plain": [
       "<AxesSubplot:title={'center':'Distribution of Final Cumuluative Returns Across All 500 Simulations'}, ylabel='Frequency'>"
      ]
     },
     "execution_count": 90,
     "metadata": {},
     "output_type": "execute_result"
    },
    {
     "data": {
      "image/png": "[encoded data removed]",
      "text/plain": [
       "<Figure size 432x288 with 1 Axes>"
      ]
     },
     "metadata": {
      "needs_background": "light"
     },
     "output_type": "display_data"
    }
   ],
   "source": [
    "# Visualize the probability distribution of the 30-year Monte Carlo simulation \n",
    "# by plotting a histogram\n",
    "# YOUR CODE HERE\n",
    "MC_simulation.plot_distribution()"
   ]
  },
  {
   "cell_type": "markdown",
   "metadata": {},
   "source": [
    "#### Step 4: Generate the summary statistics for the Monte Carlo simulation."
   ]
  },
  {
   "cell_type": "code",
   "execution_count": 91,
   "metadata": {},
   "outputs": [
    {
     "data": {
      "text/plain": [
       "count           500.000000\n",
       "mean             20.122347\n",
       "std              16.587516\n",
       "min               2.220527\n",
       "25%               9.531360\n",
       "50%              15.335035\n",
       "75%              24.503730\n",
       "max             141.197845\n",
       "95% CI Lower      4.083474\n",
       "95% CI Upper     67.590498\n",
       "Name: 7560, dtype: float64"
      ]
     },
     "execution_count": 91,
     "metadata": {},
     "output_type": "execute_result"
    }
   ],
   "source": [
    "# Generate summary statistics from the 30-year Monte Carlo simulation results\n",
    "# Save the results as a variable\n",
    "# YOUR CODE HERE\n",
    "summary_stat = MC_simulation.summarize_cumulative_return()\n",
    "\n",
    "# Review the 30-year Monte Carlo summary statistics\n",
    "# YOUR CODE HERE\n",
    "summary_stat"
   ]
  },
  {
   "cell_type": "markdown",
   "metadata": {},
   "source": [
    "### Analyze the Retirement Portfolio Forecasts\n",
    "\n",
    "Using the current value of only the stock and bond portion of the member's portfolio and the summary statistics that you generated from the Monte Carlo simulation, answer the following question in your Jupyter notebook:\n",
    "\n",
    "-  What are the lower and upper bounds for the expected value of the portfolio with a 95% confidence interval?\n"
   ]
  },
  {
   "cell_type": "code",
   "execution_count": 92,
   "metadata": {},
   "outputs": [
    {
     "name": "stdout",
     "output_type": "stream",
     "text": [
      "131037.705\n"
     ]
    }
   ],
   "source": [
    "# Print the current balance of the stock and bond portion of the members portfolio\n",
    "# YOUR CODE HERE\n",
    "print(total_portfolio)"
   ]
  },
  {
   "cell_type": "code",
   "execution_count": 94,
   "metadata": {},
   "outputs": [
    {
     "name": "stdout",
     "output_type": "stream",
     "text": [
      "Lower cumulative return: $535089.0, Upper Cummulative return: $8856904.0\n"
     ]
    }
   ],
   "source": [
    "# Use the lower and upper `95%` confidence intervals to calculate the range of the possible outcomes for the current stock/bond portfolio\n",
    "ci_lower_thirty_cumulative_return = round(summary_stat[8] *total_portfolio, 0)\n",
    "ci_upper_thirty_cumulative_return = round(summary_stat[9] *total_portfolio,0)\n",
    "\n",
    "# Print the result of your calculations\n",
    "# YOUR CODE HERE\n",
    "print(f\"Lower cumulative return: ${ci_lower_thirty_cumulative_return}, Upper Cummulative return: ${ci_upper_thirty_cumulative_return}\")"
   ]
  },
  {
   "cell_type": "markdown",
   "metadata": {},
   "source": [
    "### Forecast Cumulative Returns in 10 Years\n",
    "\n",
    "The CTO of the credit union is impressed with your work on these planning tools but wonders if 30 years is a long time to wait until retirement. So, your next task is to adjust the retirement portfolio and run a new Monte Carlo simulation to find out if the changes will allow members to retire earlier.\n",
    "\n",
    "For this new Monte Carlo simulation, do the following: \n",
    "\n",
    "- Forecast the cumulative returns for 10 years from now. Because of the shortened investment horizon (30 years to 10 years), the portfolio needs to invest more heavily in the riskier asset&mdash;that is, stock&mdash;to help accumulate wealth for retirement. \n",
    "\n",
    "- Adjust the weights of the retirement portfolio so that the composition for the Monte Carlo simulation consists of 20% bonds and 80% stocks. \n",
    "\n",
    "- Run the simulation over 500 samples, and use the same data that the API call to Alpaca generated.\n",
    "\n",
    "- Based on the new Monte Carlo simulation, answer the following questions in your Jupyter notebook:\n",
    "\n",
    "    - Using the current value of only the stock and bond portion of the member's portfolio and the summary statistics that you generated from the new Monte Carlo simulation, what are the lower and upper bounds for the expected value of the portfolio (with the new weights) with a 95% confidence interval?\n",
    "\n",
    "    - Will weighting the portfolio more heavily toward stocks allow the credit union members to retire after only 10 years?\n"
   ]
  },
  {
   "cell_type": "code",
   "execution_count": 97,
   "metadata": {},
   "outputs": [
    {
     "data": {
      "text/html": [
       "<div>\n",
       "<style scoped>\n",
       "    .dataframe tbody tr th:only-of-type {\n",
       "        vertical-align: middle;\n",
       "    }\n",
       "\n",
       "    .dataframe tbody tr th {\n",
       "        vertical-align: top;\n",
       "    }\n",
       "\n",
       "    .dataframe thead tr th {\n",
       "        text-align: left;\n",
       "    }\n",
       "\n",
       "    .dataframe thead tr:last-of-type th {\n",
       "        text-align: right;\n",
       "    }\n",
       "</style>\n",
       "<table border=\"1\" class=\"dataframe\">\n",
       "  <thead>\n",
       "    <tr>\n",
       "      <th></th>\n",
       "      <th colspan=\"6\" halign=\"left\">AGG</th>\n",
       "      <th colspan=\"6\" halign=\"left\">SPY</th>\n",
       "    </tr>\n",
       "    <tr>\n",
       "      <th></th>\n",
       "      <th>open</th>\n",
       "      <th>high</th>\n",
       "      <th>low</th>\n",
       "      <th>close</th>\n",
       "      <th>volume</th>\n",
       "      <th>daily_return</th>\n",
       "      <th>open</th>\n",
       "      <th>high</th>\n",
       "      <th>low</th>\n",
       "      <th>close</th>\n",
       "      <th>volume</th>\n",
       "      <th>daily_return</th>\n",
       "    </tr>\n",
       "    <tr>\n",
       "      <th>time</th>\n",
       "      <th></th>\n",
       "      <th></th>\n",
       "      <th></th>\n",
       "      <th></th>\n",
       "      <th></th>\n",
       "      <th></th>\n",
       "      <th></th>\n",
       "      <th></th>\n",
       "      <th></th>\n",
       "      <th></th>\n",
       "      <th></th>\n",
       "      <th></th>\n",
       "    </tr>\n",
       "  </thead>\n",
       "  <tbody>\n",
       "    <tr>\n",
       "      <th>2018-02-12 00:00:00-05:00</th>\n",
       "      <td>106.74</td>\n",
       "      <td>106.9450</td>\n",
       "      <td>106.6632</td>\n",
       "      <td>106.77</td>\n",
       "      <td>5075086.0</td>\n",
       "      <td>NaN</td>\n",
       "      <td>NaN</td>\n",
       "      <td>NaN</td>\n",
       "      <td>NaN</td>\n",
       "      <td>NaN</td>\n",
       "      <td>NaN</td>\n",
       "      <td>NaN</td>\n",
       "    </tr>\n",
       "    <tr>\n",
       "      <th>2018-02-13 00:00:00-05:00</th>\n",
       "      <td>106.79</td>\n",
       "      <td>106.9100</td>\n",
       "      <td>106.7000</td>\n",
       "      <td>106.83</td>\n",
       "      <td>3689890.0</td>\n",
       "      <td>0.000562</td>\n",
       "      <td>263.94</td>\n",
       "      <td>266.62</td>\n",
       "      <td>263.31</td>\n",
       "      <td>266.01</td>\n",
       "      <td>56891150.0</td>\n",
       "      <td>NaN</td>\n",
       "    </tr>\n",
       "    <tr>\n",
       "      <th>2018-02-14 00:00:00-05:00</th>\n",
       "      <td>106.57</td>\n",
       "      <td>106.6600</td>\n",
       "      <td>106.4039</td>\n",
       "      <td>106.46</td>\n",
       "      <td>3695997.0</td>\n",
       "      <td>-0.003463</td>\n",
       "      <td>264.47</td>\n",
       "      <td>270.00</td>\n",
       "      <td>263.97</td>\n",
       "      <td>269.71</td>\n",
       "      <td>86705860.0</td>\n",
       "      <td>0.013909</td>\n",
       "    </tr>\n",
       "    <tr>\n",
       "      <th>2018-02-15 00:00:00-05:00</th>\n",
       "      <td>106.55</td>\n",
       "      <td>106.7272</td>\n",
       "      <td>106.5300</td>\n",
       "      <td>106.59</td>\n",
       "      <td>2398428.0</td>\n",
       "      <td>0.001221</td>\n",
       "      <td>271.59</td>\n",
       "      <td>273.01</td>\n",
       "      <td>268.77</td>\n",
       "      <td>273.00</td>\n",
       "      <td>72021939.0</td>\n",
       "      <td>0.012198</td>\n",
       "    </tr>\n",
       "    <tr>\n",
       "      <th>2018-02-16 00:00:00-05:00</th>\n",
       "      <td>106.85</td>\n",
       "      <td>106.8750</td>\n",
       "      <td>106.7100</td>\n",
       "      <td>106.81</td>\n",
       "      <td>3391074.0</td>\n",
       "      <td>0.002064</td>\n",
       "      <td>272.31</td>\n",
       "      <td>275.32</td>\n",
       "      <td>272.27</td>\n",
       "      <td>273.09</td>\n",
       "      <td>76314679.0</td>\n",
       "      <td>0.000330</td>\n",
       "    </tr>\n",
       "  </tbody>\n",
       "</table>\n",
       "</div>"
      ],
      "text/plain": [
       "                              AGG                                         \\\n",
       "                             open      high       low   close     volume   \n",
       "time                                                                       \n",
       "2018-02-12 00:00:00-05:00  106.74  106.9450  106.6632  106.77  5075086.0   \n",
       "2018-02-13 00:00:00-05:00  106.79  106.9100  106.7000  106.83  3689890.0   \n",
       "2018-02-14 00:00:00-05:00  106.57  106.6600  106.4039  106.46  3695997.0   \n",
       "2018-02-15 00:00:00-05:00  106.55  106.7272  106.5300  106.59  2398428.0   \n",
       "2018-02-16 00:00:00-05:00  106.85  106.8750  106.7100  106.81  3391074.0   \n",
       "\n",
       "                                           SPY                          \\\n",
       "                          daily_return    open    high     low   close   \n",
       "time                                                                     \n",
       "2018-02-12 00:00:00-05:00          NaN     NaN     NaN     NaN     NaN   \n",
       "2018-02-13 00:00:00-05:00     0.000562  263.94  266.62  263.31  266.01   \n",
       "2018-02-14 00:00:00-05:00    -0.003463  264.47  270.00  263.97  269.71   \n",
       "2018-02-15 00:00:00-05:00     0.001221  271.59  273.01  268.77  273.00   \n",
       "2018-02-16 00:00:00-05:00     0.002064  272.31  275.32  272.27  273.09   \n",
       "\n",
       "                                                    \n",
       "                               volume daily_return  \n",
       "time                                                \n",
       "2018-02-12 00:00:00-05:00         NaN          NaN  \n",
       "2018-02-13 00:00:00-05:00  56891150.0          NaN  \n",
       "2018-02-14 00:00:00-05:00  86705860.0     0.013909  \n",
       "2018-02-15 00:00:00-05:00  72021939.0     0.012198  \n",
       "2018-02-16 00:00:00-05:00  76314679.0     0.000330  "
      ]
     },
     "execution_count": 97,
     "metadata": {},
     "output_type": "execute_result"
    }
   ],
   "source": [
    "# Configure a Monte Carlo simulation to forecast 10 years cumulative returns\n",
    "# The weights should be split 20% to AGG and 80% to SPY.\n",
    "# Run 500 samples.\n",
    "# YOUR CODE HERE\n",
    "MC_simulation_10 = MCSimulation(\n",
    "    portfolio_data = stock_data_df,\n",
    "    weights=[0.2,0.8],\n",
    "    num_simulation = 500,\n",
    "    num_trading_days = 252 * 10)\n",
    "# Review the simulation input data\n",
    "# YOUR CODE HERE\n",
    "MC_simulation_10.portfolio_data.head()"
   ]
  },
  {
   "cell_type": "code",
   "execution_count": 98,
   "metadata": {},
   "outputs": [
    {
     "name": "stdout",
     "output_type": "stream",
     "text": [
      "Running Monte Carlo simulation number 0.\n",
      "Running Monte Carlo simulation number 10.\n",
      "Running Monte Carlo simulation number 20.\n",
      "Running Monte Carlo simulation number 30.\n",
      "Running Monte Carlo simulation number 40.\n",
      "Running Monte Carlo simulation number 50.\n",
      "Running Monte Carlo simulation number 60.\n",
      "Running Monte Carlo simulation number 70.\n",
      "Running Monte Carlo simulation number 80.\n",
      "Running Monte Carlo simulation number 90.\n",
      "Running Monte Carlo simulation number 100.\n",
      "Running Monte Carlo simulation number 110.\n",
      "Running Monte Carlo simulation number 120.\n",
      "Running Monte Carlo simulation number 130.\n",
      "Running Monte Carlo simulation number 140.\n",
      "Running Monte Carlo simulation number 150.\n",
      "Running Monte Carlo simulation number 160.\n",
      "Running Monte Carlo simulation number 170.\n",
      "Running Monte Carlo simulation number 180.\n",
      "Running Monte Carlo simulation number 190.\n",
      "Running Monte Carlo simulation number 200.\n",
      "Running Monte Carlo simulation number 210.\n",
      "Running Monte Carlo simulation number 220.\n",
      "Running Monte Carlo simulation number 230.\n",
      "Running Monte Carlo simulation number 240.\n",
      "Running Monte Carlo simulation number 250.\n",
      "Running Monte Carlo simulation number 260.\n",
      "Running Monte Carlo simulation number 270.\n",
      "Running Monte Carlo simulation number 280.\n",
      "Running Monte Carlo simulation number 290.\n",
      "Running Monte Carlo simulation number 300.\n",
      "Running Monte Carlo simulation number 310.\n",
      "Running Monte Carlo simulation number 320.\n",
      "Running Monte Carlo simulation number 330.\n",
      "Running Monte Carlo simulation number 340.\n",
      "Running Monte Carlo simulation number 350.\n",
      "Running Monte Carlo simulation number 360.\n",
      "Running Monte Carlo simulation number 370.\n",
      "Running Monte Carlo simulation number 380.\n",
      "Running Monte Carlo simulation number 390.\n",
      "Running Monte Carlo simulation number 400.\n",
      "Running Monte Carlo simulation number 410.\n",
      "Running Monte Carlo simulation number 420.\n",
      "Running Monte Carlo simulation number 430.\n",
      "Running Monte Carlo simulation number 440.\n",
      "Running Monte Carlo simulation number 450.\n",
      "Running Monte Carlo simulation number 460.\n",
      "Running Monte Carlo simulation number 470.\n",
      "Running Monte Carlo simulation number 480.\n",
      "Running Monte Carlo simulation number 490.\n"
     ]
    },
    {
     "data": {
      "text/html": [
       "<div>\n",
       "<style scoped>\n",
       "    .dataframe tbody tr th:only-of-type {\n",
       "        vertical-align: middle;\n",
       "    }\n",
       "\n",
       "    .dataframe tbody tr th {\n",
       "        vertical-align: top;\n",
       "    }\n",
       "\n",
       "    .dataframe thead th {\n",
       "        text-align: right;\n",
       "    }\n",
       "</style>\n",
       "<table border=\"1\" class=\"dataframe\">\n",
       "  <thead>\n",
       "    <tr style=\"text-align: right;\">\n",
       "      <th></th>\n",
       "      <th>0</th>\n",
       "      <th>1</th>\n",
       "      <th>2</th>\n",
       "      <th>3</th>\n",
       "      <th>4</th>\n",
       "      <th>5</th>\n",
       "      <th>6</th>\n",
       "      <th>7</th>\n",
       "      <th>8</th>\n",
       "      <th>9</th>\n",
       "      <th>...</th>\n",
       "      <th>490</th>\n",
       "      <th>491</th>\n",
       "      <th>492</th>\n",
       "      <th>493</th>\n",
       "      <th>494</th>\n",
       "      <th>495</th>\n",
       "      <th>496</th>\n",
       "      <th>497</th>\n",
       "      <th>498</th>\n",
       "      <th>499</th>\n",
       "    </tr>\n",
       "  </thead>\n",
       "  <tbody>\n",
       "    <tr>\n",
       "      <th>0</th>\n",
       "      <td>1.000000</td>\n",
       "      <td>1.000000</td>\n",
       "      <td>1.000000</td>\n",
       "      <td>1.000000</td>\n",
       "      <td>1.000000</td>\n",
       "      <td>1.000000</td>\n",
       "      <td>1.000000</td>\n",
       "      <td>1.000000</td>\n",
       "      <td>1.000000</td>\n",
       "      <td>1.000000</td>\n",
       "      <td>...</td>\n",
       "      <td>1.000000</td>\n",
       "      <td>1.000000</td>\n",
       "      <td>1.000000</td>\n",
       "      <td>1.000000</td>\n",
       "      <td>1.000000</td>\n",
       "      <td>1.000000</td>\n",
       "      <td>1.000000</td>\n",
       "      <td>1.000000</td>\n",
       "      <td>1.000000</td>\n",
       "      <td>1.000000</td>\n",
       "    </tr>\n",
       "    <tr>\n",
       "      <th>1</th>\n",
       "      <td>0.999567</td>\n",
       "      <td>1.007465</td>\n",
       "      <td>1.007111</td>\n",
       "      <td>1.016779</td>\n",
       "      <td>0.987711</td>\n",
       "      <td>0.999318</td>\n",
       "      <td>0.990640</td>\n",
       "      <td>0.988204</td>\n",
       "      <td>0.992004</td>\n",
       "      <td>1.004534</td>\n",
       "      <td>...</td>\n",
       "      <td>0.997839</td>\n",
       "      <td>1.010450</td>\n",
       "      <td>0.987916</td>\n",
       "      <td>0.983724</td>\n",
       "      <td>0.996375</td>\n",
       "      <td>1.008057</td>\n",
       "      <td>0.997512</td>\n",
       "      <td>0.981222</td>\n",
       "      <td>1.010774</td>\n",
       "      <td>0.994292</td>\n",
       "    </tr>\n",
       "    <tr>\n",
       "      <th>2</th>\n",
       "      <td>0.986206</td>\n",
       "      <td>1.000662</td>\n",
       "      <td>0.980562</td>\n",
       "      <td>1.021990</td>\n",
       "      <td>0.980058</td>\n",
       "      <td>0.998166</td>\n",
       "      <td>0.978375</td>\n",
       "      <td>0.985571</td>\n",
       "      <td>0.986315</td>\n",
       "      <td>1.006142</td>\n",
       "      <td>...</td>\n",
       "      <td>0.986448</td>\n",
       "      <td>0.999393</td>\n",
       "      <td>0.995294</td>\n",
       "      <td>0.990911</td>\n",
       "      <td>0.996455</td>\n",
       "      <td>1.001881</td>\n",
       "      <td>1.013212</td>\n",
       "      <td>0.989227</td>\n",
       "      <td>1.015657</td>\n",
       "      <td>0.998706</td>\n",
       "    </tr>\n",
       "    <tr>\n",
       "      <th>3</th>\n",
       "      <td>0.997364</td>\n",
       "      <td>0.982701</td>\n",
       "      <td>0.974423</td>\n",
       "      <td>1.022252</td>\n",
       "      <td>0.994247</td>\n",
       "      <td>1.024046</td>\n",
       "      <td>0.981937</td>\n",
       "      <td>0.984060</td>\n",
       "      <td>0.995789</td>\n",
       "      <td>1.008723</td>\n",
       "      <td>...</td>\n",
       "      <td>0.974404</td>\n",
       "      <td>0.998315</td>\n",
       "      <td>0.995900</td>\n",
       "      <td>0.977618</td>\n",
       "      <td>1.000187</td>\n",
       "      <td>1.018866</td>\n",
       "      <td>1.019982</td>\n",
       "      <td>0.990243</td>\n",
       "      <td>1.034006</td>\n",
       "      <td>1.010701</td>\n",
       "    </tr>\n",
       "    <tr>\n",
       "      <th>4</th>\n",
       "      <td>1.001578</td>\n",
       "      <td>0.962187</td>\n",
       "      <td>0.987684</td>\n",
       "      <td>1.016747</td>\n",
       "      <td>1.003739</td>\n",
       "      <td>1.047187</td>\n",
       "      <td>0.985749</td>\n",
       "      <td>0.993261</td>\n",
       "      <td>0.983251</td>\n",
       "      <td>1.011319</td>\n",
       "      <td>...</td>\n",
       "      <td>0.981644</td>\n",
       "      <td>1.004471</td>\n",
       "      <td>0.998541</td>\n",
       "      <td>0.986251</td>\n",
       "      <td>0.998473</td>\n",
       "      <td>1.010509</td>\n",
       "      <td>1.028797</td>\n",
       "      <td>0.984382</td>\n",
       "      <td>1.041208</td>\n",
       "      <td>1.010208</td>\n",
       "    </tr>\n",
       "    <tr>\n",
       "      <th>...</th>\n",
       "      <td>...</td>\n",
       "      <td>...</td>\n",
       "      <td>...</td>\n",
       "      <td>...</td>\n",
       "      <td>...</td>\n",
       "      <td>...</td>\n",
       "      <td>...</td>\n",
       "      <td>...</td>\n",
       "      <td>...</td>\n",
       "      <td>...</td>\n",
       "      <td>...</td>\n",
       "      <td>...</td>\n",
       "      <td>...</td>\n",
       "      <td>...</td>\n",
       "      <td>...</td>\n",
       "      <td>...</td>\n",
       "      <td>...</td>\n",
       "      <td>...</td>\n",
       "      <td>...</td>\n",
       "      <td>...</td>\n",
       "      <td>...</td>\n",
       "    </tr>\n",
       "    <tr>\n",
       "      <th>2516</th>\n",
       "      <td>3.396125</td>\n",
       "      <td>2.640016</td>\n",
       "      <td>2.499520</td>\n",
       "      <td>6.209337</td>\n",
       "      <td>2.144254</td>\n",
       "      <td>2.947772</td>\n",
       "      <td>4.095879</td>\n",
       "      <td>3.184643</td>\n",
       "      <td>1.969551</td>\n",
       "      <td>2.331516</td>\n",
       "      <td>...</td>\n",
       "      <td>4.276882</td>\n",
       "      <td>2.103381</td>\n",
       "      <td>3.519148</td>\n",
       "      <td>2.917929</td>\n",
       "      <td>4.102567</td>\n",
       "      <td>13.759966</td>\n",
       "      <td>6.216453</td>\n",
       "      <td>2.012618</td>\n",
       "      <td>4.356991</td>\n",
       "      <td>2.695835</td>\n",
       "    </tr>\n",
       "    <tr>\n",
       "      <th>2517</th>\n",
       "      <td>3.407963</td>\n",
       "      <td>2.637696</td>\n",
       "      <td>2.496724</td>\n",
       "      <td>6.217492</td>\n",
       "      <td>2.177103</td>\n",
       "      <td>2.961035</td>\n",
       "      <td>4.061601</td>\n",
       "      <td>3.160019</td>\n",
       "      <td>1.953166</td>\n",
       "      <td>2.335988</td>\n",
       "      <td>...</td>\n",
       "      <td>4.225406</td>\n",
       "      <td>2.088447</td>\n",
       "      <td>3.538968</td>\n",
       "      <td>2.889892</td>\n",
       "      <td>4.068590</td>\n",
       "      <td>13.621754</td>\n",
       "      <td>6.203897</td>\n",
       "      <td>2.015055</td>\n",
       "      <td>4.360823</td>\n",
       "      <td>2.734418</td>\n",
       "    </tr>\n",
       "    <tr>\n",
       "      <th>2518</th>\n",
       "      <td>3.369700</td>\n",
       "      <td>2.610137</td>\n",
       "      <td>2.521583</td>\n",
       "      <td>6.241366</td>\n",
       "      <td>2.193113</td>\n",
       "      <td>3.019093</td>\n",
       "      <td>4.056098</td>\n",
       "      <td>3.156158</td>\n",
       "      <td>1.925803</td>\n",
       "      <td>2.350657</td>\n",
       "      <td>...</td>\n",
       "      <td>4.189692</td>\n",
       "      <td>2.067092</td>\n",
       "      <td>3.521295</td>\n",
       "      <td>2.844803</td>\n",
       "      <td>4.053230</td>\n",
       "      <td>13.646439</td>\n",
       "      <td>6.269618</td>\n",
       "      <td>1.994954</td>\n",
       "      <td>4.375973</td>\n",
       "      <td>2.732966</td>\n",
       "    </tr>\n",
       "    <tr>\n",
       "      <th>2519</th>\n",
       "      <td>3.366851</td>\n",
       "      <td>2.627776</td>\n",
       "      <td>2.543090</td>\n",
       "      <td>6.162845</td>\n",
       "      <td>2.204817</td>\n",
       "      <td>2.998905</td>\n",
       "      <td>4.109142</td>\n",
       "      <td>3.103477</td>\n",
       "      <td>1.926453</td>\n",
       "      <td>2.339857</td>\n",
       "      <td>...</td>\n",
       "      <td>4.193900</td>\n",
       "      <td>2.077295</td>\n",
       "      <td>3.582314</td>\n",
       "      <td>2.866831</td>\n",
       "      <td>4.061954</td>\n",
       "      <td>14.057204</td>\n",
       "      <td>6.362940</td>\n",
       "      <td>1.977741</td>\n",
       "      <td>4.373650</td>\n",
       "      <td>2.730582</td>\n",
       "    </tr>\n",
       "    <tr>\n",
       "      <th>2520</th>\n",
       "      <td>3.349514</td>\n",
       "      <td>2.636225</td>\n",
       "      <td>2.545059</td>\n",
       "      <td>6.113507</td>\n",
       "      <td>2.237015</td>\n",
       "      <td>3.001689</td>\n",
       "      <td>4.238578</td>\n",
       "      <td>3.101444</td>\n",
       "      <td>1.968006</td>\n",
       "      <td>2.308680</td>\n",
       "      <td>...</td>\n",
       "      <td>4.221582</td>\n",
       "      <td>2.081395</td>\n",
       "      <td>3.532565</td>\n",
       "      <td>2.887236</td>\n",
       "      <td>4.162594</td>\n",
       "      <td>14.438678</td>\n",
       "      <td>6.380631</td>\n",
       "      <td>1.971532</td>\n",
       "      <td>4.433847</td>\n",
       "      <td>2.739133</td>\n",
       "    </tr>\n",
       "  </tbody>\n",
       "</table>\n",
       "<p>2521 rows × 500 columns</p>\n",
       "</div>"
      ],
      "text/plain": [
       "           0         1         2         3         4         5         6    \\\n",
       "0     1.000000  1.000000  1.000000  1.000000  1.000000  1.000000  1.000000   \n",
       "1     0.999567  1.007465  1.007111  1.016779  0.987711  0.999318  0.990640   \n",
       "2     0.986206  1.000662  0.980562  1.021990  0.980058  0.998166  0.978375   \n",
       "3     0.997364  0.982701  0.974423  1.022252  0.994247  1.024046  0.981937   \n",
       "4     1.001578  0.962187  0.987684  1.016747  1.003739  1.047187  0.985749   \n",
       "...        ...       ...       ...       ...       ...       ...       ...   \n",
       "2516  3.396125  2.640016  2.499520  6.209337  2.144254  2.947772  4.095879   \n",
       "2517  3.407963  2.637696  2.496724  6.217492  2.177103  2.961035  4.061601   \n",
       "2518  3.369700  2.610137  2.521583  6.241366  2.193113  3.019093  4.056098   \n",
       "2519  3.366851  2.627776  2.543090  6.162845  2.204817  2.998905  4.109142   \n",
       "2520  3.349514  2.636225  2.545059  6.113507  2.237015  3.001689  4.238578   \n",
       "\n",
       "           7         8         9    ...       490       491       492  \\\n",
       "0     1.000000  1.000000  1.000000  ...  1.000000  1.000000  1.000000   \n",
       "1     0.988204  0.992004  1.004534  ...  0.997839  1.010450  0.987916   \n",
       "2     0.985571  0.986315  1.006142  ...  0.986448  0.999393  0.995294   \n",
       "3     0.984060  0.995789  1.008723  ...  0.974404  0.998315  0.995900   \n",
       "4     0.993261  0.983251  1.011319  ...  0.981644  1.004471  0.998541   \n",
       "...        ...       ...       ...  ...       ...       ...       ...   \n",
       "2516  3.184643  1.969551  2.331516  ...  4.276882  2.103381  3.519148   \n",
       "2517  3.160019  1.953166  2.335988  ...  4.225406  2.088447  3.538968   \n",
       "2518  3.156158  1.925803  2.350657  ...  4.189692  2.067092  3.521295   \n",
       "2519  3.103477  1.926453  2.339857  ...  4.193900  2.077295  3.582314   \n",
       "2520  3.101444  1.968006  2.308680  ...  4.221582  2.081395  3.532565   \n",
       "\n",
       "           493       494        495       496       497       498       499  \n",
       "0     1.000000  1.000000   1.000000  1.000000  1.000000  1.000000  1.000000  \n",
       "1     0.983724  0.996375   1.008057  0.997512  0.981222  1.010774  0.994292  \n",
       "2     0.990911  0.996455   1.001881  1.013212  0.989227  1.015657  0.998706  \n",
       "3     0.977618  1.000187   1.018866  1.019982  0.990243  1.034006  1.010701  \n",
       "4     0.986251  0.998473   1.010509  1.028797  0.984382  1.041208  1.010208  \n",
       "...        ...       ...        ...       ...       ...       ...       ...  \n",
       "2516  2.917929  4.102567  13.759966  6.216453  2.012618  4.356991  2.695835  \n",
       "2517  2.889892  4.068590  13.621754  6.203897  2.015055  4.360823  2.734418  \n",
       "2518  2.844803  4.053230  13.646439  6.269618  1.994954  4.375973  2.732966  \n",
       "2519  2.866831  4.061954  14.057204  6.362940  1.977741  4.373650  2.730582  \n",
       "2520  2.887236  4.162594  14.438678  6.380631  1.971532  4.433847  2.739133  \n",
       "\n",
       "[2521 rows x 500 columns]"
      ]
     },
     "execution_count": 98,
     "metadata": {},
     "output_type": "execute_result"
    }
   ],
   "source": [
    "# Run the Monte Carlo simulation to forecast 10 years cumulative returns\n",
    "# YOUR CODE HERE\n",
    "MC_simulation_10.calc_cumulative_return()"
   ]
  },
  {
   "cell_type": "code",
   "execution_count": 99,
   "metadata": {},
   "outputs": [
    {
     "data": {
      "text/plain": [
       "<AxesSubplot:title={'center':'500 Simulations of Cumulative Portfolio Return Trajectories Over the Next 2520 Trading Days.'}>"
      ]
     },
     "execution_count": 99,
     "metadata": {},
     "output_type": "execute_result"
    },
    {
     "data": {
      "image/png": "[encoded data removed]",
      "text/plain": [
       "<Figure size 432x288 with 1 Axes>"
      ]
     },
     "metadata": {
      "needs_background": "light"
     },
     "output_type": "display_data"
    }
   ],
   "source": [
    "# Visualize the 10-year Monte Carlo simulation by creating an\n",
    "# overlay line plot\n",
    "# YOUR CODE HERE\n",
    "MC_simulation_10.plot_simulation()"
   ]
  },
  {
   "cell_type": "code",
   "execution_count": 100,
   "metadata": {},
   "outputs": [
    {
     "data": {
      "text/plain": [
       "<AxesSubplot:title={'center':'Distribution of Final Cumuluative Returns Across All 500 Simulations'}, ylabel='Frequency'>"
      ]
     },
     "execution_count": 100,
     "metadata": {},
     "output_type": "execute_result"
    },
    {
     "data": {
      "image/png": "[encoded data removed]",
      "text/plain": [
       "<Figure size 432x288 with 1 Axes>"
      ]
     },
     "metadata": {
      "needs_background": "light"
     },
     "output_type": "display_data"
    }
   ],
   "source": [
    "# Visualize the probability distribution of the 10-year Monte Carlo simulation \n",
    "# by plotting a histogram\n",
    "# YOUR CODE HERE\n",
    "MC_simulation_10.plot_distribution()"
   ]
  },
  {
   "cell_type": "code",
   "execution_count": 101,
   "metadata": {},
   "outputs": [
    {
     "data": {
      "text/plain": [
       "count           500.000000\n",
       "mean              3.615730\n",
       "std               2.143947\n",
       "min               0.545160\n",
       "25%               2.164974\n",
       "50%               3.074412\n",
       "75%               4.559590\n",
       "max              20.242250\n",
       "95% CI Lower      1.039575\n",
       "95% CI Upper      8.388951\n",
       "Name: 2520, dtype: float64"
      ]
     },
     "execution_count": 101,
     "metadata": {},
     "output_type": "execute_result"
    }
   ],
   "source": [
    "# Generate summary statistics from the 10-year Monte Carlo simulation results\n",
    "# Save the results as a variable\n",
    "# YOUR CODE HERE\n",
    "summary_stat_10 = MC_simulation.summarize_cumulative_return()\n",
    "\n",
    "# Review the 10-year Monte Carlo summary statistics\n",
    "# YOUR CODE HERE\n",
    "summary_stat_10"
   ]
  },
  {
   "cell_type": "markdown",
   "metadata": {},
   "source": [
    "### Answer the following questions:"
   ]
  },
  {
   "cell_type": "markdown",
   "metadata": {},
   "source": [
    "#### Question: Using the current value of only the stock and bond portion of the member's portfolio and the summary statistics that you generated from the new Monte Carlo simulation, what are the lower and upper bounds for the expected value of the portfolio (with the new weights) with a 95% confidence interval?"
   ]
  },
  {
   "cell_type": "code",
   "execution_count": 102,
   "metadata": {},
   "outputs": [
    {
     "name": "stdout",
     "output_type": "stream",
     "text": [
      "131037.705\n"
     ]
    }
   ],
   "source": [
    "# Print the current balance of the stock and bond portion of the members portfolio\n",
    "# YOUR CODE HERE\n",
    "print(total_portfolio)"
   ]
  },
  {
   "cell_type": "code",
   "execution_count": 103,
   "metadata": {},
   "outputs": [
    {
     "name": "stdout",
     "output_type": "stream",
     "text": [
      "Lower cumulative return: $136224.0, Upper Cummulative return: $1099269.0\n"
     ]
    }
   ],
   "source": [
    "# Use the lower and upper `95%` confidence intervals to calculate the range of the possible outcomes for the current stock/bond portfolio\n",
    "ci_lower_ten_cumulative_return = round(summary_stat_10[8] *total_portfolio, 0)\n",
    "ci_upper_ten_cumulative_return = round(summary_stat_10[9] *total_portfolio, 0)\n",
    "\n",
    "# Print the result of your calculations\n",
    "# YOUR CODE HERE\n",
    "print(f\"Lower cumulative return: ${ci_lower_ten_cumulative_return}, Upper Cummulative return: ${ci_upper_ten_cumulative_return}\")"
   ]
  },
  {
   "cell_type": "markdown",
   "metadata": {},
   "source": [
    "#### Question: Will weighting the portfolio more heavily to stocks allow the credit union members to retire after only 10 years?"
   ]
  },
  {
   "cell_type": "raw",
   "metadata": {},
   "source": [
    "**Answer** # This doesn't look so as he is making like 20% of what he initially will make in 30 years. It is not that favourable"
   ]
  },
  {
   "cell_type": "code",
   "execution_count": null,
   "metadata": {},
   "outputs": [],
   "source": []
  }
 ],
 "metadata": {
  "kernelspec": {
   "display_name": "Python 3",
   "language": "python",
   "name": "python3"
  },
  "language_info": {
   "codemirror_mode": {
    "name": "ipython",
    "version": 3
   },
   "file_extension": ".py",
   "mimetype": "text/x-python",
   "name": "python",
   "nbconvert_exporter": "python",
   "pygments_lexer": "ipython3",
   "version": "3.8.8"
  }
 },
 "nbformat": 4,
 "nbformat_minor": 4
}
