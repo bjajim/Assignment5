{
 "cells": [
  {
   "cell_type": "markdown",
   "metadata": {},
   "source": [
    "# Financial Planning with APIs and Simulations\n",
    "\n",
    "In this Challenge, you’ll create two financial analysis tools by using a single Jupyter notebook:\n",
    "\n",
    "Part 1: A financial planner for emergencies. The members will be able to use this tool to visualize their current savings. The members can then determine if they have enough reserves for an emergency fund.\n",
    "\n",
    "Part 2: A financial planner for retirement. This tool will forecast the performance of their retirement portfolio in 30 years. To do this, the tool will make an Alpaca API call via the Alpaca SDK to get historical price data for use in Monte Carlo simulations.\n",
    "\n",
    "You’ll use the information from the Monte Carlo simulation to answer questions about the portfolio in your Jupyter notebook.\n",
    "\n"
   ]
  },
  {
   "cell_type": "code",
   "execution_count": 1,
   "metadata": {},
   "outputs": [],
   "source": [
    "# Import the required libraries and dependencies\n",
    "import os\n",
    "import requests\n",
    "import json\n",
    "import pandas as pd\n",
    "from dotenv import load_dotenv\n",
    "import alpaca_trade_api as tradeapi\n",
    "from alpaca_trade_api import TimeFrame\n",
    "from MCForecastTools import MCSimulation\n",
    "\n",
    "%matplotlib inline"
   ]
  },
  {
   "cell_type": "code",
   "execution_count": 2,
   "metadata": {},
   "outputs": [
    {
     "data": {
      "text/plain": [
       "True"
      ]
     },
     "execution_count": 2,
     "metadata": {},
     "output_type": "execute_result"
    }
   ],
   "source": [
    "# Load the environment variables from the .env file\n",
    "#by calling the load_dotenv function\n",
    "load_dotenv(\"Environment.env\")"
   ]
  },
  {
   "cell_type": "markdown",
   "metadata": {},
   "source": [
    "## Part 1: Create a Financial Planner for Emergencies"
   ]
  },
  {
   "cell_type": "markdown",
   "metadata": {},
   "source": [
    "### Evaluate the Cryptocurrency Wallet by Using the Requests Library\n",
    "\n",
    "In this section, you’ll determine the current value of a member’s cryptocurrency wallet. You’ll collect the current prices for the Bitcoin and Ethereum cryptocurrencies by using the Python Requests library. For the prototype, you’ll assume that the member holds the 1.2 Bitcoins (BTC) and 5.3 Ethereum coins (ETH). To do all this, complete the following steps:\n",
    "\n",
    "1. Create a variable named `monthly_income`, and set its value to `12000`.\n",
    "\n",
    "2. Use the Requests library to get the current price (in US dollars) of Bitcoin (BTC) and Ethereum (ETH) by using the API endpoints that the starter code supplies.\n",
    "\n",
    "3. Navigate the JSON response object to access the current price of each coin, and store each in a variable.\n",
    "\n",
    "    > **Hint** Note the specific identifier for each cryptocurrency in the API JSON response. The Bitcoin identifier is `1`, and the Ethereum identifier is `1027`.\n",
    "\n",
    "4. Calculate the value, in US dollars, of the current amount of each cryptocurrency and of the entire cryptocurrency wallet.\n",
    "\n"
   ]
  },
  {
   "cell_type": "code",
   "execution_count": 3,
   "metadata": {},
   "outputs": [],
   "source": [
    "# The current number of coins for each cryptocurrency asset held in the portfolio.\n",
    "btc_coins = 1.2\n",
    "eth_coins = 5.3"
   ]
  },
  {
   "cell_type": "markdown",
   "metadata": {},
   "source": [
    "#### Step 1: Create a variable named `monthly_income`, and set its value to `12000`."
   ]
  },
  {
   "cell_type": "code",
   "execution_count": 4,
   "metadata": {},
   "outputs": [],
   "source": [
    "# The monthly amount for the member's household income\n",
    "# YOUR CODE HERE\n",
    "monthly_income = 12000"
   ]
  },
  {
   "cell_type": "markdown",
   "metadata": {},
   "source": [
    "#### Review the endpoint URLs for the API calls to Free Crypto API in order to get the current pricing information for both BTC and ETH."
   ]
  },
  {
   "cell_type": "code",
   "execution_count": 5,
   "metadata": {},
   "outputs": [],
   "source": [
    "# The Free Crypto API Call endpoint URLs for the held cryptocurrency assets\n",
    "btc_url = \"https://api.alternative.me/v2/ticker/Bitcoin/?convert=USD\"\n",
    "eth_url = \"https://api.alternative.me/v2/ticker/Ethereum/?convert=USD\""
   ]
  },
  {
   "cell_type": "markdown",
   "metadata": {},
   "source": [
    "#### Step 2. Use the Requests library to get the current price (in US dollars) of Bitcoin (BTC) and Ethereum (ETH) by using the API endpoints that the starter code supplied."
   ]
  },
  {
   "cell_type": "code",
   "execution_count": 6,
   "metadata": {},
   "outputs": [
    {
     "data": {
      "text/plain": [
       "'{\"data\": {\"1\": {\"id\": 1, \"name\": \"Bitcoin\", \"symbol\": \"BTC\", \"website_slug\": \"bitcoin\", \"rank\": 1, \"circulating_supply\": 18946306, \"total_supply\": 18946306, \"max_supply\": 21000000, \"quotes\": {\"USD\": {\"price\": 38860.0, \"volume_24h\": 17150537744, \"market_cap\": 737457205542, \"percentage_change_1h\": 0.393273713137754, \"percentage_change_24h\": 0.965717253453173, \"percentage_change_7d\": 5.67327821066296, \"percent_change_1h\": 0.393273713137754, \"percent_change_24h\": 0.965717253453173, \"percent_change_7d\": 5.67327821066296}}, \"last_updated\": 1643758982}}, \"metadata\": {\"timestamp\": 1643758982, \"num_cryptocurrencies\": 3105, \"error\": null}}'"
      ]
     },
     "execution_count": 6,
     "metadata": {},
     "output_type": "execute_result"
    }
   ],
   "source": [
    "# Using the Python requests library, make an API call to access the current price of BTC\n",
    "btc_response = requests.get(btc_url)\n",
    "# Use the json.dumps function to review the response data from the API call\n",
    "# Use the indent and sort_keys parameters to make the response object readable\n",
    "# YOUR CODE HERE\n",
    "json.dumps(btc_response.json())"
   ]
  },
  {
   "cell_type": "code",
   "execution_count": 7,
   "metadata": {},
   "outputs": [
    {
     "data": {
      "text/plain": [
       "'{\"data\": {\"1027\": {\"id\": 1027, \"name\": \"Ethereum\", \"symbol\": \"ETH\", \"website_slug\": \"ethereum\", \"rank\": 2, \"circulating_supply\": 119406766, \"total_supply\": 119406766, \"max_supply\": 0, \"quotes\": {\"USD\": {\"price\": 2799.01, \"volume_24h\": 13212318014, \"market_cap\": 334478199717, \"percentage_change_1h\": 0.477405666935232, \"percentage_change_24h\": 4.18522420443613, \"percentage_change_7d\": 14.3464366432674, \"percent_change_1h\": 0.477405666935232, \"percent_change_24h\": 4.18522420443613, \"percent_change_7d\": 14.3464366432674}}, \"last_updated\": 1643758987}}, \"metadata\": {\"timestamp\": 1643758987, \"num_cryptocurrencies\": 3105, \"error\": null}}'"
      ]
     },
     "execution_count": 7,
     "metadata": {},
     "output_type": "execute_result"
    }
   ],
   "source": [
    "# Using the Python requests library, make an API call to access the current price ETH\n",
    "eth_response = requests.get(eth_url)\n",
    "\n",
    "# Use the json.dumps function to review the response data from the API call\n",
    "# Use the indent and sort_keys parameters to make the response object readable\n",
    "# YOUR CODE HERE\n",
    "json.dumps(eth_response.json())"
   ]
  },
  {
   "cell_type": "markdown",
   "metadata": {},
   "source": [
    "#### Step 3: Navigate the JSON response object to access the current price of each coin, and store each in a variable."
   ]
  },
  {
   "cell_type": "code",
   "execution_count": 8,
   "metadata": {},
   "outputs": [
    {
     "name": "stdout",
     "output_type": "stream",
     "text": [
      "38860.0\n"
     ]
    }
   ],
   "source": [
    "# Navigate the BTC response object to access the current price of BTC\n",
    "btc_price = btc_response.json()[\"data\"][\"1\"][\"quotes\"][\"USD\"][\"price\"]\n",
    "\n",
    "# Print the current price of BTC\n",
    "# YOUR CODE HERE\n",
    "print(btc_price)"
   ]
  },
  {
   "cell_type": "code",
   "execution_count": 9,
   "metadata": {},
   "outputs": [
    {
     "name": "stdout",
     "output_type": "stream",
     "text": [
      "2799.01\n"
     ]
    }
   ],
   "source": [
    "# Navigate the BTC response object to access the current price of ETH\n",
    "eth_price = eth_response.json()[\"data\"][\"1027\"][\"quotes\"][\"USD\"][\"price\"]\n",
    "\n",
    "# Print the current price of ETH\n",
    "# YOUR CODE HERE\n",
    "print(eth_price)"
   ]
  },
  {
   "cell_type": "markdown",
   "metadata": {},
   "source": [
    "### Step 4: Calculate the value, in US dollars, of the current amount of each cryptocurrency and of the entire cryptocurrency wallet."
   ]
  },
  {
   "cell_type": "code",
   "execution_count": 10,
   "metadata": {},
   "outputs": [
    {
     "name": "stdout",
     "output_type": "stream",
     "text": [
      "46632.0\n"
     ]
    }
   ],
   "source": [
    "# Compute the current value of the BTC holding \n",
    "btc_value = btc_price * btc_coins\n",
    "# Print current value of your holding in BTC\n",
    "# YOUR CODE HERE\n",
    "print(btc_value)"
   ]
  },
  {
   "cell_type": "code",
   "execution_count": 11,
   "metadata": {},
   "outputs": [
    {
     "name": "stdout",
     "output_type": "stream",
     "text": [
      "14834.753\n"
     ]
    }
   ],
   "source": [
    "# Compute the current value of the ETH holding \n",
    "eth_value = eth_price * eth_coins\n",
    "\n",
    "# Print current value of your holding in ETH\n",
    "# YOUR CODE HERE\n",
    "print(eth_value)"
   ]
  },
  {
   "cell_type": "code",
   "execution_count": 12,
   "metadata": {},
   "outputs": [
    {
     "name": "stdout",
     "output_type": "stream",
     "text": [
      "61466.753\n"
     ]
    }
   ],
   "source": [
    "# Compute the total value of the cryptocurrency wallet\n",
    "# Add the value of the BTC holding to the value of the ETH holding\n",
    "total_crypto_wallet = btc_value + eth_value\n",
    "\n",
    "# Print current cryptocurrency wallet balance\n",
    "# YOUR CODE HERE\n",
    "print(total_crypto_wallet)"
   ]
  },
  {
   "cell_type": "markdown",
   "metadata": {},
   "source": [
    "### Evaluate the Stock and Bond Holdings by Using the Alpaca SDK\n",
    "\n",
    "In this section, you’ll determine the current value of a member’s stock and bond holdings. You’ll make an API call to Alpaca via the Alpaca SDK to get the current closing prices of the SPDR S&P 500 ETF Trust (ticker: SPY) and of the iShares Core US Aggregate Bond ETF (ticker: AGG). For the prototype, assume that the member holds 110 shares of SPY, which represents the stock portion of their portfolio, and 200 shares of AGG, which represents the bond portion. To do all this, complete the following steps:\n",
    "\n",
    "1. In the `Starter_Code` folder, create an environment file (`.env`) to store the values of your Alpaca API key and Alpaca secret key.\n",
    "\n",
    "2. Set the variables for the Alpaca API and secret keys. Using the Alpaca SDK, create the Alpaca `tradeapi.REST` object. In this object, include the parameters for the Alpaca API key, the secret key, and the version number.\n",
    "\n",
    "3. Set the following parameters for the Alpaca API call:\n",
    "\n",
    "    - `tickers`: Use the tickers for the member’s stock and bond holdings.\n",
    "\n",
    "    - `timeframe`: Use a time frame of one day.\n",
    "\n",
    "    - `start_date` and `end_date`: Use the same date for these parameters, and format them with the date of the previous weekday (or `2020-08-07`). This is because you want the one closing price for the most-recent trading day.\n",
    "\n",
    "4. Get the current closing prices for `SPY` and `AGG` by using the Alpaca `get_barset` function. Format the response as a Pandas DataFrame by including the `df` property at the end of the `get_barset` function.\n",
    "\n",
    "5. Navigating the Alpaca response DataFrame, select the `SPY` and `AGG` closing prices, and store them as variables.\n",
    "\n",
    "6. Calculate the value, in US dollars, of the current amount of shares in each of the stock and bond portions of the portfolio, and print the results.\n"
   ]
  },
  {
   "cell_type": "markdown",
   "metadata": {},
   "source": [
    "#### Review the total number of shares held in both (SPY) and (AGG)."
   ]
  },
  {
   "cell_type": "code",
   "execution_count": 13,
   "metadata": {},
   "outputs": [],
   "source": [
    "# Current amount of shares held in both the stock (SPY) and bond (AGG) portion of the portfolio.\n",
    "spy_shares = 110\n",
    "agg_shares = 200\n"
   ]
  },
  {
   "cell_type": "markdown",
   "metadata": {},
   "source": [
    "#### Step 1: In the `Starter_Code` folder, create an environment file (`.env`) to store the values of your Alpaca API key and Alpaca secret key."
   ]
  },
  {
   "cell_type": "markdown",
   "metadata": {},
   "source": [
    "#### Step 2: Set the variables for the Alpaca API and secret keys. Using the Alpaca SDK, create the Alpaca `tradeapi.REST` object. In this object, include the parameters for the Alpaca API key, the secret key, and the version number."
   ]
  },
  {
   "cell_type": "code",
   "execution_count": 14,
   "metadata": {},
   "outputs": [
    {
     "name": "stdout",
     "output_type": "stream",
     "text": [
      "PKCL9BMU0HJGUTRNGN7D\n",
      "of3Fr8WQrqKAUuxK0mlavzw4Fz7I1fQwiJeuLo1M\n"
     ]
    }
   ],
   "source": [
    "# Set the variables for the Alpaca API and secret keys\n",
    "# YOUR CODE HERE\n",
    "api_key = os.getenv('ALPACA_API_KEY')\n",
    "\n",
    "print(api_key)\n",
    "# YOUR CODE HERE\n",
    "secret_key = os.getenv('ALPACA_SECRET_KEY')\n",
    "\n",
    "print(secret_key)\n",
    "# Create the Alpaca tradeapi.REST object\n",
    "# YOUR CODE HERE\n",
    "\n",
    "api = tradeapi.REST(api_key, secret_key, api_version = \"v2\")\n",
    "\n"
   ]
  },
  {
   "cell_type": "markdown",
   "metadata": {},
   "source": [
    "#### Step 3: Set the following parameters for the Alpaca API call:\n",
    "\n",
    "- `tickers`: Use the tickers for the member’s stock and bond holdings.\n",
    "\n",
    "- `timeframe`: Use a time frame of one day.\n",
    "\n",
    "- `start_date` and `end_date`: Use the same date for these parameters, and format them with the date of the previous weekday (or `2020-08-07`). This is because you want the one closing price for the most-recent trading day.\n"
   ]
  },
  {
   "cell_type": "code",
   "execution_count": 15,
   "metadata": {},
   "outputs": [],
   "source": [
    "# Set the tickers for both the bond and stock portion of the portfolio\n",
    "# YOUR CODE HERE\n",
    "tickers = [\"SPY\", \"AGG\"]\n",
    "# Set timeframe to 1D \n",
    "# YOUR CODE HERE\n",
    "timeframe = \"1D\"\n",
    "# Format current date as ISO format\n",
    "# Set both the start and end date at the date of your prior weekday \n",
    "# This will give you the closing price of the previous trading day\n",
    "# Alternatively you can use a start and end date of 2020-08-07\n",
    "# YOUR CODE HERE\n",
    "# YOUR CODE HERE\n",
    "start_date =  pd.Timestamp(\"2022-01-27\", tz=\"America/New_York\").isoformat()\n",
    "end_date = pd.Timestamp(\"2022-01-27\", tz=\"America/New_York\").isoformat()"
   ]
  },
  {
   "cell_type": "markdown",
   "metadata": {},
   "source": [
    "#### Step 4: Get the current closing prices for `SPY` and `AGG` by using the Alpaca `get_barset` function. Format the response as a Pandas DataFrame by including the `df` property at the end of the `get_barset` function."
   ]
  },
  {
   "cell_type": "code",
   "execution_count": 16,
   "metadata": {},
   "outputs": [
    {
     "name": "stderr",
     "output_type": "stream",
     "text": [
      "<ipython-input-16-58485dd2eeb2>:4: DeprecatedWarning: get_barset is deprecated as of v1.0.0. Use get_bars instead\n",
      "  alpaca_df = api.get_barset(tickers, timeframe, start = start_date, end = end_date).df\n"
     ]
    },
    {
     "data": {
      "text/html": [
       "<div>\n",
       "<style scoped>\n",
       "    .dataframe tbody tr th:only-of-type {\n",
       "        vertical-align: middle;\n",
       "    }\n",
       "\n",
       "    .dataframe tbody tr th {\n",
       "        vertical-align: top;\n",
       "    }\n",
       "\n",
       "    .dataframe thead tr th {\n",
       "        text-align: left;\n",
       "    }\n",
       "\n",
       "    .dataframe thead tr:last-of-type th {\n",
       "        text-align: right;\n",
       "    }\n",
       "</style>\n",
       "<table border=\"1\" class=\"dataframe\">\n",
       "  <thead>\n",
       "    <tr>\n",
       "      <th></th>\n",
       "      <th colspan=\"5\" halign=\"left\">AGG</th>\n",
       "      <th colspan=\"5\" halign=\"left\">SPY</th>\n",
       "    </tr>\n",
       "    <tr>\n",
       "      <th></th>\n",
       "      <th>open</th>\n",
       "      <th>high</th>\n",
       "      <th>low</th>\n",
       "      <th>close</th>\n",
       "      <th>volume</th>\n",
       "      <th>open</th>\n",
       "      <th>high</th>\n",
       "      <th>low</th>\n",
       "      <th>close</th>\n",
       "      <th>volume</th>\n",
       "    </tr>\n",
       "    <tr>\n",
       "      <th>time</th>\n",
       "      <th></th>\n",
       "      <th></th>\n",
       "      <th></th>\n",
       "      <th></th>\n",
       "      <th></th>\n",
       "      <th></th>\n",
       "      <th></th>\n",
       "      <th></th>\n",
       "      <th></th>\n",
       "      <th></th>\n",
       "    </tr>\n",
       "  </thead>\n",
       "  <tbody>\n",
       "    <tr>\n",
       "      <th>2022-01-27 00:00:00-05:00</th>\n",
       "      <td>111.62</td>\n",
       "      <td>111.88</td>\n",
       "      <td>111.62</td>\n",
       "      <td>111.72</td>\n",
       "      <td>5836124</td>\n",
       "      <td>438.26</td>\n",
       "      <td>441.58</td>\n",
       "      <td>429.45</td>\n",
       "      <td>431.27</td>\n",
       "      <td>136251597</td>\n",
       "    </tr>\n",
       "  </tbody>\n",
       "</table>\n",
       "</div>"
      ],
      "text/plain": [
       "                              AGG                                      SPY  \\\n",
       "                             open    high     low   close   volume    open   \n",
       "time                                                                         \n",
       "2022-01-27 00:00:00-05:00  111.62  111.88  111.62  111.72  5836124  438.26   \n",
       "\n",
       "                                                              \n",
       "                             high     low   close     volume  \n",
       "time                                                          \n",
       "2022-01-27 00:00:00-05:00  441.58  429.45  431.27  136251597  "
      ]
     },
     "execution_count": 16,
     "metadata": {},
     "output_type": "execute_result"
    }
   ],
   "source": [
    "# Use the Alpaca get_barset function to get current closing prices the portfolio\n",
    "# Be sure to set the `df` property after the function to format the response object as a DataFrame\n",
    "# YOUR CODE HERE\n",
    "alpaca_df = api.get_barset(tickers, timeframe, start = start_date, end = end_date).df\n",
    "\n",
    "# Review the first 5 rows of the Alpaca DataFrame\n",
    "# YOUR CODE HERE\n",
    "alpaca_df.head()"
   ]
  },
  {
   "cell_type": "markdown",
   "metadata": {},
   "source": [
    "#### Step 5: Navigating the Alpaca response DataFrame, select the `SPY` and `AGG` closing prices, and store them as variables."
   ]
  },
  {
   "cell_type": "code",
   "execution_count": 17,
   "metadata": {},
   "outputs": [
    {
     "name": "stdout",
     "output_type": "stream",
     "text": [
      "111.72\n"
     ]
    }
   ],
   "source": [
    "# Access the closing price for AGG from the Alpaca DataFrame\n",
    "# Converting the value to a floating point number\n",
    "agg_close_price = alpaca_df['AGG']['close'][0]\n",
    "\n",
    "# Print the AGG closing price\n",
    "# YOUR CODE HERE\n",
    "print(agg_close_price)"
   ]
  },
  {
   "cell_type": "code",
   "execution_count": 18,
   "metadata": {},
   "outputs": [
    {
     "name": "stdout",
     "output_type": "stream",
     "text": [
      "431.27\n"
     ]
    }
   ],
   "source": [
    "# Access the closing price for SPY from the Alpaca DataFrame\n",
    "# Converting the value to a floating point number\n",
    "spy_close_price = alpaca_df['SPY']['close'][0]\n",
    "\n",
    "# Print the SPY closing price\n",
    "# YOUR CODE HERE\n",
    "print(spy_close_price)"
   ]
  },
  {
   "cell_type": "markdown",
   "metadata": {},
   "source": [
    "#### Step 6: Calculate the value, in US dollars, of the current amount of shares in each of the stock and bond portions of the portfolio, and print the results."
   ]
  },
  {
   "cell_type": "code",
   "execution_count": 19,
   "metadata": {},
   "outputs": [
    {
     "name": "stdout",
     "output_type": "stream",
     "text": [
      "22344.0\n"
     ]
    }
   ],
   "source": [
    "# Calculate the current value of the bond portion of the portfolio\n",
    "agg_value = agg_close_price * agg_shares\n",
    "\n",
    "# Print the current value of the bond portfolio\n",
    "# YOUR CODE HERE\n",
    "print(agg_value)"
   ]
  },
  {
   "cell_type": "code",
   "execution_count": 20,
   "metadata": {},
   "outputs": [
    {
     "name": "stdout",
     "output_type": "stream",
     "text": [
      "47439.7\n"
     ]
    }
   ],
   "source": [
    "# Calculate the current value of the stock portion of the portfolio\n",
    "spy_value = spy_close_price * spy_shares\n",
    "\n",
    "# Print the current value of the stock portfolio\n",
    "# YOUR CODE HERE\n",
    "print(spy_value)"
   ]
  },
  {
   "cell_type": "code",
   "execution_count": 21,
   "metadata": {},
   "outputs": [
    {
     "name": "stdout",
     "output_type": "stream",
     "text": [
      "69783.7\n"
     ]
    }
   ],
   "source": [
    "# Calculate the total value of the stock and bond portion of the portfolio\n",
    "total_stocks_bonds = agg_value + spy_value\n",
    "\n",
    "# Print the current balance of the stock and bond portion of the portfolio\n",
    "# YOUR CODE HERE\n",
    "print(total_stocks_bonds)"
   ]
  },
  {
   "cell_type": "code",
   "execution_count": 22,
   "metadata": {},
   "outputs": [
    {
     "name": "stdout",
     "output_type": "stream",
     "text": [
      "131250.45299999998\n"
     ]
    }
   ],
   "source": [
    "# Calculate the total value of the member's entire savings portfolio\n",
    "# Add the value of the cryptocurrency walled to the value of the total stocks and bonds\n",
    "total_portfolio = total_stocks_bonds + total_crypto_wallet\n",
    "\n",
    "# Print current cryptocurrency wallet balance\n",
    "# YOUR CODE HERE\n",
    "print(total_portfolio)"
   ]
  },
  {
   "cell_type": "markdown",
   "metadata": {},
   "source": [
    "### Evaluate the Emergency Fund\n",
    "\n",
    "In this section, you’ll use the valuations for the cryptocurrency wallet and for the stock and bond portions of the portfolio to determine if the credit union member has enough savings to build an emergency fund into their financial plan. To do this, complete the following steps:\n",
    "\n",
    "1. Create a Python list named `savings_data` that has two elements. The first element contains the total value of the cryptocurrency wallet. The second element contains the total value of the stock and bond portions of the portfolio.\n",
    "\n",
    "2. Use the `savings_data` list to create a Pandas DataFrame named `savings_df`, and then display this DataFrame. The function to create the DataFrame should take the following three parameters:\n",
    "\n",
    "    - `savings_data`: Use the list that you just created.\n",
    "\n",
    "    - `columns`: Set this parameter equal to a Python list with a single value called `amount`.\n",
    "\n",
    "    - `index`: Set this parameter equal to a Python list with the values of `crypto` and `stock/bond`.\n",
    "\n",
    "3. Use the `savings_df` DataFrame to plot a pie chart that visualizes the composition of the member’s portfolio. The y-axis of the pie chart uses `amount`. Be sure to add a title.\n",
    "\n",
    "4. Using Python, determine if the current portfolio has enough to create an emergency fund as part of the member’s financial plan. Ideally, an emergency fund should equal to three times the member’s monthly income. To do this, implement the following steps:\n",
    "\n",
    "    1. Create a variable named `emergency_fund_value`, and set it equal to three times the value of the member’s `monthly_income` of $12000. (You set this earlier in Part 1).\n",
    "\n",
    "    2. Create a series of three if statements to determine if the member’s total portfolio is large enough to fund the emergency portfolio:\n",
    "\n",
    "        1. If the total portfolio value is greater than the emergency fund value, display a message congratulating the member for having enough money in this fund.\n",
    "\n",
    "        2. Else if the total portfolio value is equal to the emergency fund value, display a message congratulating the member on reaching this important financial goal.\n",
    "\n",
    "        3. Else the total portfolio is less than the emergency fund value, so display a message showing how many dollars away the member is from reaching the goal. (Subtract the total portfolio value from the emergency fund value.)\n"
   ]
  },
  {
   "cell_type": "markdown",
   "metadata": {},
   "source": [
    "#### Step 1: Create a Python list named `savings_data` that has two elements. The first element contains the total value of the cryptocurrency wallet. The second element contains the total value of the stock and bond portions of the portfolio."
   ]
  },
  {
   "cell_type": "code",
   "execution_count": 23,
   "metadata": {},
   "outputs": [
    {
     "data": {
      "text/plain": [
       "[61466.753, 69783.7]"
      ]
     },
     "execution_count": 23,
     "metadata": {},
     "output_type": "execute_result"
    }
   ],
   "source": [
    "# Consolidate financial assets data into a Python list\n",
    "# YOUR CODE HERE\n",
    "savings_data = [total_crypto_wallet, total_stocks_bonds]\n",
    "# Review the Python list savings_data\n",
    "# YOUR CODE HERE\n",
    "savings_data"
   ]
  },
  {
   "cell_type": "markdown",
   "metadata": {},
   "source": [
    "#### Step 2: Use the `savings_data` list to create a Pandas DataFrame named `savings_df`, and then display this DataFrame. The function to create the DataFrame should take the following three parameters:\n",
    "\n",
    "- `savings_data`: Use the list that you just created.\n",
    "\n",
    "- `columns`: Set this parameter equal to a Python list with a single value called `amount`.\n",
    "\n",
    "- `index`: Set this parameter equal to a Python list with the values of `crypto` and `stock/bond`.\n"
   ]
  },
  {
   "cell_type": "code",
   "execution_count": 24,
   "metadata": {},
   "outputs": [
    {
     "data": {
      "text/html": [
       "<div>\n",
       "<style scoped>\n",
       "    .dataframe tbody tr th:only-of-type {\n",
       "        vertical-align: middle;\n",
       "    }\n",
       "\n",
       "    .dataframe tbody tr th {\n",
       "        vertical-align: top;\n",
       "    }\n",
       "\n",
       "    .dataframe thead th {\n",
       "        text-align: right;\n",
       "    }\n",
       "</style>\n",
       "<table border=\"1\" class=\"dataframe\">\n",
       "  <thead>\n",
       "    <tr style=\"text-align: right;\">\n",
       "      <th></th>\n",
       "      <th>amount</th>\n",
       "    </tr>\n",
       "  </thead>\n",
       "  <tbody>\n",
       "    <tr>\n",
       "      <th>crypto</th>\n",
       "      <td>61466.753</td>\n",
       "    </tr>\n",
       "    <tr>\n",
       "      <th>stock/bond</th>\n",
       "      <td>69783.700</td>\n",
       "    </tr>\n",
       "  </tbody>\n",
       "</table>\n",
       "</div>"
      ],
      "text/plain": [
       "               amount\n",
       "crypto      61466.753\n",
       "stock/bond  69783.700"
      ]
     },
     "execution_count": 24,
     "metadata": {},
     "output_type": "execute_result"
    }
   ],
   "source": [
    "# Create a Pandas DataFrame called savings_df \n",
    "# YOUR CODE HERE\n",
    "savings_df = pd.DataFrame(savings_data, columns = [\"amount\"], index = [\"crypto\", \"stock/bond\"])\n",
    "# Display the savings_df DataFrame\n",
    "# YOUR CODE HERE\n",
    "savings_df"
   ]
  },
  {
   "cell_type": "markdown",
   "metadata": {},
   "source": [
    "#### Step 3: Use the `savings_df` DataFrame to plot a pie chart that visualizes the composition of the member’s portfolio. The y-axis of the pie chart uses `amount`. Be sure to add a title."
   ]
  },
  {
   "cell_type": "code",
   "execution_count": 25,
   "metadata": {},
   "outputs": [
    {
     "data": {
      "text/plain": [
       "<AxesSubplot:title={'center':' Personal Savings'}, ylabel='amount'>"
      ]
     },
     "execution_count": 25,
     "metadata": {},
     "output_type": "execute_result"
    },
    {
     "data": {
      "image/png": "[encoded data removed]",
      "text/plain": [
       "<Figure size 720x720 with 1 Axes>"
      ]
     },
     "metadata": {},
     "output_type": "display_data"
    }
   ],
   "source": [
    "# Plot the total value of the member's portfolio (crypto and stock/bond) in a pie chart\n",
    "# YOUR CODE HERE\n",
    "savings_df.plot.pie(y = \"amount\", title=\" Personal Savings\", figsize=(10,10))"
   ]
  },
  {
   "cell_type": "markdown",
   "metadata": {},
   "source": [
    "#### Step 4: Using Python, determine if the current portfolio has enough to create an emergency fund as part of the member’s financial plan. Ideally, an emergency fund should equal to three times the member’s monthly income. To do this, implement the following steps:\n",
    "\n",
    "Step 1. Create a variable named `emergency_fund_value`, and set it equal to three times the value of the member’s `monthly_income` of 12000. (You set this earlier in Part 1).\n",
    "\n",
    "Step 2. Create a series of three if statements to determine if the member’s total portfolio is large enough to fund the emergency portfolio:\n",
    "\n",
    "* If the total portfolio value is greater than the emergency fund value, display a message congratulating the member for having enough money in this fund.\n",
    "\n",
    "* Else if the total portfolio value is equal to the emergency fund value, display a message congratulating the member on reaching this important financial goal.\n",
    "\n",
    "* Else the total portfolio is less than the emergency fund value, so display a message showing how many dollars away the member is from reaching the goal. (Subtract the total portfolio value from the emergency fund value.)\n"
   ]
  },
  {
   "cell_type": "markdown",
   "metadata": {},
   "source": [
    "##### Step 4-1: Create a variable named `emergency_fund_value`, and set it equal to three times the value of the member’s `monthly_income` of 12000. (You set this earlier in Part 1)."
   ]
  },
  {
   "cell_type": "code",
   "execution_count": 26,
   "metadata": {},
   "outputs": [],
   "source": [
    "# Create a variable named emergency_fund_value\n",
    "# YOUR CODE HERE\n",
    "emergency_fund_value = monthly_income * 3"
   ]
  },
  {
   "cell_type": "markdown",
   "metadata": {},
   "source": [
    "##### Step 4-2: Create a series of three if statements to determine if the member’s total portfolio is large enough to fund the emergency portfolio:\n",
    "\n",
    "* If the total portfolio value is greater than the emergency fund value, display a message congratulating the member for having enough money in this fund.\n",
    "\n",
    "* Else if the total portfolio value is equal to the emergency fund value, display a message congratulating the member on reaching this important financial goal.\n",
    "\n",
    "* Else the total portfolio is less than the emergency fund value, so display a message showing how many dollars away the member is from reaching the goal. (Subtract the total portfolio value from the emergency fund value.)"
   ]
  },
  {
   "cell_type": "code",
   "execution_count": 27,
   "metadata": {},
   "outputs": [
    {
     "name": "stdout",
     "output_type": "stream",
     "text": [
      "Congratulations for having enough money for your fund\n"
     ]
    }
   ],
   "source": [
    "# Evaluate the possibility of creating an emergency fund with 3 conditions:\n",
    "# YOUR CODE HERE\n",
    "\n",
    "if total_portfolio > emergency_fund_value:\n",
    "    print(\"Congratulations for having enough money for your fund\")\n",
    "# YOUR CODE HERE\n",
    "elif total_portfolio == emergency_fund_value:\n",
    "    print(\"Congratulations for reaching this financial goal\")\n",
    "# YOUR CODE HERE\n",
    "else:\n",
    "    print(f\"You have ${emergency_fund_value - total_portfolio} left to meet your financial goal\")\n"
   ]
  },
  {
   "cell_type": "markdown",
   "metadata": {},
   "source": [
    "## Part 2: Create a Financial Planner for Retirement"
   ]
  },
  {
   "cell_type": "markdown",
   "metadata": {},
   "source": [
    "### Create the Monte Carlo Simulation\n",
    "\n",
    "In this section, you’ll use the MCForecastTools library to create a Monte Carlo simulation for the member’s savings portfolio. To do this, complete the following steps:\n",
    "\n",
    "1. Make an API call via the Alpaca SDK to get 3 years of historical closing prices for a traditional 60/40 portfolio split: 60% stocks (SPY) and 40% bonds (AGG).\n",
    "\n",
    "2. Run a Monte Carlo simulation of 500 samples and 30 years for the 60/40 portfolio, and then plot the results.The following image shows the overlay line plot resulting from a simulation with these characteristics. However, because a random number generator is used to run each live Monte Carlo simulation, your image will differ slightly from this exact image:\n",
    "\n",
    "![A screenshot depicts the resulting plot.](Images/5-4-monte-carlo-line-plot.png)\n",
    "\n",
    "3. Plot the probability distribution of the Monte Carlo simulation. Plot the probability distribution of the Monte Carlo simulation. The following image shows the histogram plot resulting from a simulation with these characteristics. However, because a random number generator is used to run each live Monte Carlo simulation, your image will differ slightly from this exact image:\n",
    "\n",
    "![A screenshot depicts the histogram plot.](Images/5-4-monte-carlo-histogram.png)\n",
    "\n",
    "4. Generate the summary statistics for the Monte Carlo simulation.\n",
    "\n"
   ]
  },
  {
   "cell_type": "markdown",
   "metadata": {},
   "source": [
    "#### Step 1: Make an API call via the Alpaca SDK to get 3 years of historical closing prices for a traditional 60/40 portfolio split: 60% stocks (SPY) and 40% bonds (AGG)."
   ]
  },
  {
   "cell_type": "code",
   "execution_count": 28,
   "metadata": {},
   "outputs": [],
   "source": [
    "# Set start and end dates of 3 years back from your current date\n",
    "# Alternatively, you can use an end date of 2020-08-07 and work 3 years back from that date \n",
    "# YOUR CODE HERE\n",
    "start_date = \"2017-08-07\"\n",
    "# YOUR CODE HERE\n",
    "end_date = \"2020-08-07\"\n",
    "# Set number of rows to 1000 to retrieve the maximum amount of rows\n",
    "# YOUR CODE HERE\n",
    "limit = 1000"
   ]
  },
  {
   "cell_type": "code",
   "execution_count": 29,
   "metadata": {},
   "outputs": [
    {
     "name": "stderr",
     "output_type": "stream",
     "text": [
      "<ipython-input-29-e679ab6d5b7e>:6: DeprecatedWarning: get_barset is deprecated as of v1.0.0. Use get_bars instead\n",
      "  stock_data_df = api.get_barset(tickers, timeframe, start=start_date, end=end_date, limit=limit).df\n"
     ]
    },
    {
     "data": {
      "text/html": [
       "<div>\n",
       "<style scoped>\n",
       "    .dataframe tbody tr th:only-of-type {\n",
       "        vertical-align: middle;\n",
       "    }\n",
       "\n",
       "    .dataframe tbody tr th {\n",
       "        vertical-align: top;\n",
       "    }\n",
       "\n",
       "    .dataframe thead tr th {\n",
       "        text-align: left;\n",
       "    }\n",
       "\n",
       "    .dataframe thead tr:last-of-type th {\n",
       "        text-align: right;\n",
       "    }\n",
       "</style>\n",
       "<table border=\"1\" class=\"dataframe\">\n",
       "  <thead>\n",
       "    <tr>\n",
       "      <th></th>\n",
       "      <th colspan=\"5\" halign=\"left\">AGG</th>\n",
       "      <th colspan=\"5\" halign=\"left\">SPY</th>\n",
       "    </tr>\n",
       "    <tr>\n",
       "      <th></th>\n",
       "      <th>open</th>\n",
       "      <th>high</th>\n",
       "      <th>low</th>\n",
       "      <th>close</th>\n",
       "      <th>volume</th>\n",
       "      <th>open</th>\n",
       "      <th>high</th>\n",
       "      <th>low</th>\n",
       "      <th>close</th>\n",
       "      <th>volume</th>\n",
       "    </tr>\n",
       "    <tr>\n",
       "      <th>time</th>\n",
       "      <th></th>\n",
       "      <th></th>\n",
       "      <th></th>\n",
       "      <th></th>\n",
       "      <th></th>\n",
       "      <th></th>\n",
       "      <th></th>\n",
       "      <th></th>\n",
       "      <th></th>\n",
       "      <th></th>\n",
       "    </tr>\n",
       "  </thead>\n",
       "  <tbody>\n",
       "    <tr>\n",
       "      <th>2018-02-13 00:00:00-05:00</th>\n",
       "      <td>106.79</td>\n",
       "      <td>106.9100</td>\n",
       "      <td>106.7000</td>\n",
       "      <td>106.83</td>\n",
       "      <td>3689890</td>\n",
       "      <td>263.94</td>\n",
       "      <td>266.62</td>\n",
       "      <td>263.31</td>\n",
       "      <td>266.01</td>\n",
       "      <td>56891150</td>\n",
       "    </tr>\n",
       "    <tr>\n",
       "      <th>2018-02-14 00:00:00-05:00</th>\n",
       "      <td>106.57</td>\n",
       "      <td>106.6600</td>\n",
       "      <td>106.4039</td>\n",
       "      <td>106.46</td>\n",
       "      <td>3695997</td>\n",
       "      <td>264.47</td>\n",
       "      <td>270.00</td>\n",
       "      <td>263.97</td>\n",
       "      <td>269.71</td>\n",
       "      <td>86705860</td>\n",
       "    </tr>\n",
       "    <tr>\n",
       "      <th>2018-02-15 00:00:00-05:00</th>\n",
       "      <td>106.55</td>\n",
       "      <td>106.7272</td>\n",
       "      <td>106.5300</td>\n",
       "      <td>106.59</td>\n",
       "      <td>2398428</td>\n",
       "      <td>271.59</td>\n",
       "      <td>273.01</td>\n",
       "      <td>268.77</td>\n",
       "      <td>273.00</td>\n",
       "      <td>72021939</td>\n",
       "    </tr>\n",
       "    <tr>\n",
       "      <th>2018-02-16 00:00:00-05:00</th>\n",
       "      <td>106.85</td>\n",
       "      <td>106.8750</td>\n",
       "      <td>106.7100</td>\n",
       "      <td>106.81</td>\n",
       "      <td>3391074</td>\n",
       "      <td>272.31</td>\n",
       "      <td>275.32</td>\n",
       "      <td>272.27</td>\n",
       "      <td>273.09</td>\n",
       "      <td>76314679</td>\n",
       "    </tr>\n",
       "    <tr>\n",
       "      <th>2018-02-20 00:00:00-05:00</th>\n",
       "      <td>106.69</td>\n",
       "      <td>106.7099</td>\n",
       "      <td>106.5501</td>\n",
       "      <td>106.68</td>\n",
       "      <td>2372055</td>\n",
       "      <td>272.03</td>\n",
       "      <td>273.67</td>\n",
       "      <td>264.84</td>\n",
       "      <td>271.43</td>\n",
       "      <td>54829423</td>\n",
       "    </tr>\n",
       "  </tbody>\n",
       "</table>\n",
       "</div>"
      ],
      "text/plain": [
       "                              AGG                                       \\\n",
       "                             open      high       low   close   volume   \n",
       "time                                                                     \n",
       "2018-02-13 00:00:00-05:00  106.79  106.9100  106.7000  106.83  3689890   \n",
       "2018-02-14 00:00:00-05:00  106.57  106.6600  106.4039  106.46  3695997   \n",
       "2018-02-15 00:00:00-05:00  106.55  106.7272  106.5300  106.59  2398428   \n",
       "2018-02-16 00:00:00-05:00  106.85  106.8750  106.7100  106.81  3391074   \n",
       "2018-02-20 00:00:00-05:00  106.69  106.7099  106.5501  106.68  2372055   \n",
       "\n",
       "                              SPY                                    \n",
       "                             open    high     low   close    volume  \n",
       "time                                                                 \n",
       "2018-02-13 00:00:00-05:00  263.94  266.62  263.31  266.01  56891150  \n",
       "2018-02-14 00:00:00-05:00  264.47  270.00  263.97  269.71  86705860  \n",
       "2018-02-15 00:00:00-05:00  271.59  273.01  268.77  273.00  72021939  \n",
       "2018-02-16 00:00:00-05:00  272.31  275.32  272.27  273.09  76314679  \n",
       "2018-02-20 00:00:00-05:00  272.03  273.67  264.84  271.43  54829423  "
      ]
     },
     "metadata": {},
     "output_type": "display_data"
    },
    {
     "data": {
      "text/html": [
       "<div>\n",
       "<style scoped>\n",
       "    .dataframe tbody tr th:only-of-type {\n",
       "        vertical-align: middle;\n",
       "    }\n",
       "\n",
       "    .dataframe tbody tr th {\n",
       "        vertical-align: top;\n",
       "    }\n",
       "\n",
       "    .dataframe thead tr th {\n",
       "        text-align: left;\n",
       "    }\n",
       "\n",
       "    .dataframe thead tr:last-of-type th {\n",
       "        text-align: right;\n",
       "    }\n",
       "</style>\n",
       "<table border=\"1\" class=\"dataframe\">\n",
       "  <thead>\n",
       "    <tr>\n",
       "      <th></th>\n",
       "      <th colspan=\"5\" halign=\"left\">AGG</th>\n",
       "      <th colspan=\"5\" halign=\"left\">SPY</th>\n",
       "    </tr>\n",
       "    <tr>\n",
       "      <th></th>\n",
       "      <th>open</th>\n",
       "      <th>high</th>\n",
       "      <th>low</th>\n",
       "      <th>close</th>\n",
       "      <th>volume</th>\n",
       "      <th>open</th>\n",
       "      <th>high</th>\n",
       "      <th>low</th>\n",
       "      <th>close</th>\n",
       "      <th>volume</th>\n",
       "    </tr>\n",
       "    <tr>\n",
       "      <th>time</th>\n",
       "      <th></th>\n",
       "      <th></th>\n",
       "      <th></th>\n",
       "      <th></th>\n",
       "      <th></th>\n",
       "      <th></th>\n",
       "      <th></th>\n",
       "      <th></th>\n",
       "      <th></th>\n",
       "      <th></th>\n",
       "    </tr>\n",
       "  </thead>\n",
       "  <tbody>\n",
       "    <tr>\n",
       "      <th>2022-01-26 00:00:00-05:00</th>\n",
       "      <td>112.06</td>\n",
       "      <td>112.1300</td>\n",
       "      <td>111.36</td>\n",
       "      <td>111.36</td>\n",
       "      <td>10170465</td>\n",
       "      <td>440.72</td>\n",
       "      <td>444.04</td>\n",
       "      <td>428.8600</td>\n",
       "      <td>433.450</td>\n",
       "      <td>174214548</td>\n",
       "    </tr>\n",
       "    <tr>\n",
       "      <th>2022-01-27 00:00:00-05:00</th>\n",
       "      <td>111.62</td>\n",
       "      <td>111.8800</td>\n",
       "      <td>111.62</td>\n",
       "      <td>111.72</td>\n",
       "      <td>5836124</td>\n",
       "      <td>438.26</td>\n",
       "      <td>441.58</td>\n",
       "      <td>429.4500</td>\n",
       "      <td>431.270</td>\n",
       "      <td>136251597</td>\n",
       "    </tr>\n",
       "    <tr>\n",
       "      <th>2022-01-28 00:00:00-05:00</th>\n",
       "      <td>111.46</td>\n",
       "      <td>111.8600</td>\n",
       "      <td>111.44</td>\n",
       "      <td>111.81</td>\n",
       "      <td>10400422</td>\n",
       "      <td>432.70</td>\n",
       "      <td>442.00</td>\n",
       "      <td>427.8200</td>\n",
       "      <td>441.920</td>\n",
       "      <td>142062305</td>\n",
       "    </tr>\n",
       "    <tr>\n",
       "      <th>2022-01-31 00:00:00-05:00</th>\n",
       "      <td>111.64</td>\n",
       "      <td>111.8900</td>\n",
       "      <td>111.60</td>\n",
       "      <td>111.78</td>\n",
       "      <td>11437834</td>\n",
       "      <td>441.24</td>\n",
       "      <td>450.28</td>\n",
       "      <td>439.8100</td>\n",
       "      <td>449.815</td>\n",
       "      <td>128202383</td>\n",
       "    </tr>\n",
       "    <tr>\n",
       "      <th>2022-02-01 00:00:00-05:00</th>\n",
       "      <td>111.66</td>\n",
       "      <td>111.6764</td>\n",
       "      <td>111.38</td>\n",
       "      <td>111.59</td>\n",
       "      <td>9477222</td>\n",
       "      <td>450.72</td>\n",
       "      <td>453.63</td>\n",
       "      <td>446.9384</td>\n",
       "      <td>452.960</td>\n",
       "      <td>106515279</td>\n",
       "    </tr>\n",
       "  </tbody>\n",
       "</table>\n",
       "</div>"
      ],
      "text/plain": [
       "                              AGG                                         SPY  \\\n",
       "                             open      high     low   close    volume    open   \n",
       "time                                                                            \n",
       "2022-01-26 00:00:00-05:00  112.06  112.1300  111.36  111.36  10170465  440.72   \n",
       "2022-01-27 00:00:00-05:00  111.62  111.8800  111.62  111.72   5836124  438.26   \n",
       "2022-01-28 00:00:00-05:00  111.46  111.8600  111.44  111.81  10400422  432.70   \n",
       "2022-01-31 00:00:00-05:00  111.64  111.8900  111.60  111.78  11437834  441.24   \n",
       "2022-02-01 00:00:00-05:00  111.66  111.6764  111.38  111.59   9477222  450.72   \n",
       "\n",
       "                                                                 \n",
       "                             high       low    close     volume  \n",
       "time                                                             \n",
       "2022-01-26 00:00:00-05:00  444.04  428.8600  433.450  174214548  \n",
       "2022-01-27 00:00:00-05:00  441.58  429.4500  431.270  136251597  \n",
       "2022-01-28 00:00:00-05:00  442.00  427.8200  441.920  142062305  \n",
       "2022-01-31 00:00:00-05:00  450.28  439.8100  449.815  128202383  \n",
       "2022-02-01 00:00:00-05:00  453.63  446.9384  452.960  106515279  "
      ]
     },
     "execution_count": 29,
     "metadata": {},
     "output_type": "execute_result"
    }
   ],
   "source": [
    "# Use the Alpaca get_barset function to make the API call to get the 3 years worth of pricing data\n",
    "# The tickers and timeframe parameters should have been set in Part 1 of this activity \n",
    "# The start and end dates should be updated with the information set above\n",
    "# Remember to add the df property to the end of the call so the response is returned as a DataFrame\n",
    "# YOUR CODE HERE\n",
    "stock_data_df = api.get_barset(tickers, timeframe, start=start_date, end=end_date, limit=limit).df\n",
    "\n",
    "# Display both the first and last five rows of the DataFrame\n",
    "# YOUR CODE HERE\n",
    "display(stock_data_df.head())\n",
    "# YOUR CODE HERE\n",
    "stock_data_df.tail()"
   ]
  },
  {
   "cell_type": "markdown",
   "metadata": {},
   "source": [
    "#### Step 2: Run a Monte Carlo simulation of 500 samples and 30 years for the 60/40 portfolio, and then plot the results."
   ]
  },
  {
   "cell_type": "code",
   "execution_count": 30,
   "metadata": {},
   "outputs": [
    {
     "data": {
      "text/html": [
       "<div>\n",
       "<style scoped>\n",
       "    .dataframe tbody tr th:only-of-type {\n",
       "        vertical-align: middle;\n",
       "    }\n",
       "\n",
       "    .dataframe tbody tr th {\n",
       "        vertical-align: top;\n",
       "    }\n",
       "\n",
       "    .dataframe thead tr th {\n",
       "        text-align: left;\n",
       "    }\n",
       "\n",
       "    .dataframe thead tr:last-of-type th {\n",
       "        text-align: right;\n",
       "    }\n",
       "</style>\n",
       "<table border=\"1\" class=\"dataframe\">\n",
       "  <thead>\n",
       "    <tr>\n",
       "      <th></th>\n",
       "      <th colspan=\"6\" halign=\"left\">AGG</th>\n",
       "      <th colspan=\"6\" halign=\"left\">SPY</th>\n",
       "    </tr>\n",
       "    <tr>\n",
       "      <th></th>\n",
       "      <th>open</th>\n",
       "      <th>high</th>\n",
       "      <th>low</th>\n",
       "      <th>close</th>\n",
       "      <th>volume</th>\n",
       "      <th>daily_return</th>\n",
       "      <th>open</th>\n",
       "      <th>high</th>\n",
       "      <th>low</th>\n",
       "      <th>close</th>\n",
       "      <th>volume</th>\n",
       "      <th>daily_return</th>\n",
       "    </tr>\n",
       "    <tr>\n",
       "      <th>time</th>\n",
       "      <th></th>\n",
       "      <th></th>\n",
       "      <th></th>\n",
       "      <th></th>\n",
       "      <th></th>\n",
       "      <th></th>\n",
       "      <th></th>\n",
       "      <th></th>\n",
       "      <th></th>\n",
       "      <th></th>\n",
       "      <th></th>\n",
       "      <th></th>\n",
       "    </tr>\n",
       "  </thead>\n",
       "  <tbody>\n",
       "    <tr>\n",
       "      <th>2018-02-13 00:00:00-05:00</th>\n",
       "      <td>106.79</td>\n",
       "      <td>106.9100</td>\n",
       "      <td>106.7000</td>\n",
       "      <td>106.83</td>\n",
       "      <td>3689890</td>\n",
       "      <td>NaN</td>\n",
       "      <td>263.94</td>\n",
       "      <td>266.62</td>\n",
       "      <td>263.31</td>\n",
       "      <td>266.01</td>\n",
       "      <td>56891150</td>\n",
       "      <td>NaN</td>\n",
       "    </tr>\n",
       "    <tr>\n",
       "      <th>2018-02-14 00:00:00-05:00</th>\n",
       "      <td>106.57</td>\n",
       "      <td>106.6600</td>\n",
       "      <td>106.4039</td>\n",
       "      <td>106.46</td>\n",
       "      <td>3695997</td>\n",
       "      <td>-0.003463</td>\n",
       "      <td>264.47</td>\n",
       "      <td>270.00</td>\n",
       "      <td>263.97</td>\n",
       "      <td>269.71</td>\n",
       "      <td>86705860</td>\n",
       "      <td>0.013909</td>\n",
       "    </tr>\n",
       "    <tr>\n",
       "      <th>2018-02-15 00:00:00-05:00</th>\n",
       "      <td>106.55</td>\n",
       "      <td>106.7272</td>\n",
       "      <td>106.5300</td>\n",
       "      <td>106.59</td>\n",
       "      <td>2398428</td>\n",
       "      <td>0.001221</td>\n",
       "      <td>271.59</td>\n",
       "      <td>273.01</td>\n",
       "      <td>268.77</td>\n",
       "      <td>273.00</td>\n",
       "      <td>72021939</td>\n",
       "      <td>0.012198</td>\n",
       "    </tr>\n",
       "    <tr>\n",
       "      <th>2018-02-16 00:00:00-05:00</th>\n",
       "      <td>106.85</td>\n",
       "      <td>106.8750</td>\n",
       "      <td>106.7100</td>\n",
       "      <td>106.81</td>\n",
       "      <td>3391074</td>\n",
       "      <td>0.002064</td>\n",
       "      <td>272.31</td>\n",
       "      <td>275.32</td>\n",
       "      <td>272.27</td>\n",
       "      <td>273.09</td>\n",
       "      <td>76314679</td>\n",
       "      <td>0.000330</td>\n",
       "    </tr>\n",
       "    <tr>\n",
       "      <th>2018-02-20 00:00:00-05:00</th>\n",
       "      <td>106.69</td>\n",
       "      <td>106.7099</td>\n",
       "      <td>106.5501</td>\n",
       "      <td>106.68</td>\n",
       "      <td>2372055</td>\n",
       "      <td>-0.001217</td>\n",
       "      <td>272.03</td>\n",
       "      <td>273.67</td>\n",
       "      <td>264.84</td>\n",
       "      <td>271.43</td>\n",
       "      <td>54829423</td>\n",
       "      <td>-0.006079</td>\n",
       "    </tr>\n",
       "  </tbody>\n",
       "</table>\n",
       "</div>"
      ],
      "text/plain": [
       "                              AGG                                       \\\n",
       "                             open      high       low   close   volume   \n",
       "time                                                                     \n",
       "2018-02-13 00:00:00-05:00  106.79  106.9100  106.7000  106.83  3689890   \n",
       "2018-02-14 00:00:00-05:00  106.57  106.6600  106.4039  106.46  3695997   \n",
       "2018-02-15 00:00:00-05:00  106.55  106.7272  106.5300  106.59  2398428   \n",
       "2018-02-16 00:00:00-05:00  106.85  106.8750  106.7100  106.81  3391074   \n",
       "2018-02-20 00:00:00-05:00  106.69  106.7099  106.5501  106.68  2372055   \n",
       "\n",
       "                                           SPY                          \\\n",
       "                          daily_return    open    high     low   close   \n",
       "time                                                                     \n",
       "2018-02-13 00:00:00-05:00          NaN  263.94  266.62  263.31  266.01   \n",
       "2018-02-14 00:00:00-05:00    -0.003463  264.47  270.00  263.97  269.71   \n",
       "2018-02-15 00:00:00-05:00     0.001221  271.59  273.01  268.77  273.00   \n",
       "2018-02-16 00:00:00-05:00     0.002064  272.31  275.32  272.27  273.09   \n",
       "2018-02-20 00:00:00-05:00    -0.001217  272.03  273.67  264.84  271.43   \n",
       "\n",
       "                                                  \n",
       "                             volume daily_return  \n",
       "time                                              \n",
       "2018-02-13 00:00:00-05:00  56891150          NaN  \n",
       "2018-02-14 00:00:00-05:00  86705860     0.013909  \n",
       "2018-02-15 00:00:00-05:00  72021939     0.012198  \n",
       "2018-02-16 00:00:00-05:00  76314679     0.000330  \n",
       "2018-02-20 00:00:00-05:00  54829423    -0.006079  "
      ]
     },
     "execution_count": 30,
     "metadata": {},
     "output_type": "execute_result"
    }
   ],
   "source": [
    "# Configure the Monte Carlo simulation to forecast 30 years cumulative returns\n",
    "# The weights should be split 40% to AGG and 60% to SPY.\n",
    "# Run 500 samples.\n",
    "MC_simulation = MCSimulation(\n",
    "    portfolio_data = stock_data_df,\n",
    "    weights=[0.4,0.6],\n",
    "    num_simulation = 500,\n",
    "    num_trading_days = 252 * 30)\n",
    "# Review the simulation input data\n",
    "# YOUR CODE HERE\n",
    "MC_simulation.portfolio_data.head()"
   ]
  },
  {
   "cell_type": "code",
   "execution_count": 31,
   "metadata": {},
   "outputs": [
    {
     "name": "stdout",
     "output_type": "stream",
     "text": [
      "Running Monte Carlo simulation number 0.\n",
      "Running Monte Carlo simulation number 10.\n",
      "Running Monte Carlo simulation number 20.\n",
      "Running Monte Carlo simulation number 30.\n",
      "Running Monte Carlo simulation number 40.\n",
      "Running Monte Carlo simulation number 50.\n",
      "Running Monte Carlo simulation number 60.\n",
      "Running Monte Carlo simulation number 70.\n",
      "Running Monte Carlo simulation number 80.\n",
      "Running Monte Carlo simulation number 90.\n",
      "Running Monte Carlo simulation number 100.\n",
      "Running Monte Carlo simulation number 110.\n",
      "Running Monte Carlo simulation number 120.\n",
      "Running Monte Carlo simulation number 130.\n",
      "Running Monte Carlo simulation number 140.\n",
      "Running Monte Carlo simulation number 150.\n",
      "Running Monte Carlo simulation number 160.\n",
      "Running Monte Carlo simulation number 170.\n",
      "Running Monte Carlo simulation number 180.\n",
      "Running Monte Carlo simulation number 190.\n",
      "Running Monte Carlo simulation number 200.\n",
      "Running Monte Carlo simulation number 210.\n",
      "Running Monte Carlo simulation number 220.\n",
      "Running Monte Carlo simulation number 230.\n",
      "Running Monte Carlo simulation number 240.\n",
      "Running Monte Carlo simulation number 250.\n",
      "Running Monte Carlo simulation number 260.\n",
      "Running Monte Carlo simulation number 270.\n",
      "Running Monte Carlo simulation number 280.\n",
      "Running Monte Carlo simulation number 290.\n",
      "Running Monte Carlo simulation number 300.\n",
      "Running Monte Carlo simulation number 310.\n",
      "Running Monte Carlo simulation number 320.\n",
      "Running Monte Carlo simulation number 330.\n",
      "Running Monte Carlo simulation number 340.\n",
      "Running Monte Carlo simulation number 350.\n",
      "Running Monte Carlo simulation number 360.\n",
      "Running Monte Carlo simulation number 370.\n",
      "Running Monte Carlo simulation number 380.\n",
      "Running Monte Carlo simulation number 390.\n",
      "Running Monte Carlo simulation number 400.\n",
      "Running Monte Carlo simulation number 410.\n",
      "Running Monte Carlo simulation number 420.\n",
      "Running Monte Carlo simulation number 430.\n",
      "Running Monte Carlo simulation number 440.\n",
      "Running Monte Carlo simulation number 450.\n",
      "Running Monte Carlo simulation number 460.\n",
      "Running Monte Carlo simulation number 470.\n",
      "Running Monte Carlo simulation number 480.\n",
      "Running Monte Carlo simulation number 490.\n"
     ]
    },
    {
     "data": {
      "text/html": [
       "<div>\n",
       "<style scoped>\n",
       "    .dataframe tbody tr th:only-of-type {\n",
       "        vertical-align: middle;\n",
       "    }\n",
       "\n",
       "    .dataframe tbody tr th {\n",
       "        vertical-align: top;\n",
       "    }\n",
       "\n",
       "    .dataframe thead th {\n",
       "        text-align: right;\n",
       "    }\n",
       "</style>\n",
       "<table border=\"1\" class=\"dataframe\">\n",
       "  <thead>\n",
       "    <tr style=\"text-align: right;\">\n",
       "      <th></th>\n",
       "      <th>0</th>\n",
       "      <th>1</th>\n",
       "      <th>2</th>\n",
       "      <th>3</th>\n",
       "      <th>4</th>\n",
       "      <th>5</th>\n",
       "      <th>6</th>\n",
       "      <th>7</th>\n",
       "      <th>8</th>\n",
       "      <th>9</th>\n",
       "      <th>...</th>\n",
       "      <th>490</th>\n",
       "      <th>491</th>\n",
       "      <th>492</th>\n",
       "      <th>493</th>\n",
       "      <th>494</th>\n",
       "      <th>495</th>\n",
       "      <th>496</th>\n",
       "      <th>497</th>\n",
       "      <th>498</th>\n",
       "      <th>499</th>\n",
       "    </tr>\n",
       "  </thead>\n",
       "  <tbody>\n",
       "    <tr>\n",
       "      <th>0</th>\n",
       "      <td>1.000000</td>\n",
       "      <td>1.000000</td>\n",
       "      <td>1.000000</td>\n",
       "      <td>1.000000</td>\n",
       "      <td>1.000000</td>\n",
       "      <td>1.000000</td>\n",
       "      <td>1.000000</td>\n",
       "      <td>1.000000</td>\n",
       "      <td>1.000000</td>\n",
       "      <td>1.000000</td>\n",
       "      <td>...</td>\n",
       "      <td>1.000000</td>\n",
       "      <td>1.000000</td>\n",
       "      <td>1.000000</td>\n",
       "      <td>1.000000</td>\n",
       "      <td>1.000000</td>\n",
       "      <td>1.000000</td>\n",
       "      <td>1.000000</td>\n",
       "      <td>1.000000</td>\n",
       "      <td>1.000000</td>\n",
       "      <td>1.000000</td>\n",
       "    </tr>\n",
       "    <tr>\n",
       "      <th>1</th>\n",
       "      <td>1.005138</td>\n",
       "      <td>0.994376</td>\n",
       "      <td>1.007106</td>\n",
       "      <td>0.993867</td>\n",
       "      <td>1.003942</td>\n",
       "      <td>1.000316</td>\n",
       "      <td>1.002738</td>\n",
       "      <td>1.001638</td>\n",
       "      <td>1.001645</td>\n",
       "      <td>0.996227</td>\n",
       "      <td>...</td>\n",
       "      <td>0.997874</td>\n",
       "      <td>1.003400</td>\n",
       "      <td>1.007737</td>\n",
       "      <td>0.987340</td>\n",
       "      <td>0.999749</td>\n",
       "      <td>0.992468</td>\n",
       "      <td>0.998662</td>\n",
       "      <td>0.998218</td>\n",
       "      <td>1.001178</td>\n",
       "      <td>0.986117</td>\n",
       "    </tr>\n",
       "    <tr>\n",
       "      <th>2</th>\n",
       "      <td>0.987086</td>\n",
       "      <td>1.004446</td>\n",
       "      <td>1.016983</td>\n",
       "      <td>0.994970</td>\n",
       "      <td>1.011959</td>\n",
       "      <td>1.008753</td>\n",
       "      <td>1.013285</td>\n",
       "      <td>1.000280</td>\n",
       "      <td>0.995561</td>\n",
       "      <td>0.995231</td>\n",
       "      <td>...</td>\n",
       "      <td>0.999016</td>\n",
       "      <td>1.009023</td>\n",
       "      <td>1.011539</td>\n",
       "      <td>0.997493</td>\n",
       "      <td>0.999456</td>\n",
       "      <td>0.985419</td>\n",
       "      <td>0.995940</td>\n",
       "      <td>0.991665</td>\n",
       "      <td>0.995724</td>\n",
       "      <td>0.985053</td>\n",
       "    </tr>\n",
       "    <tr>\n",
       "      <th>3</th>\n",
       "      <td>0.986775</td>\n",
       "      <td>1.005328</td>\n",
       "      <td>1.017086</td>\n",
       "      <td>1.011290</td>\n",
       "      <td>1.025795</td>\n",
       "      <td>1.003556</td>\n",
       "      <td>1.023286</td>\n",
       "      <td>1.006402</td>\n",
       "      <td>0.996174</td>\n",
       "      <td>0.998100</td>\n",
       "      <td>...</td>\n",
       "      <td>1.007952</td>\n",
       "      <td>1.010485</td>\n",
       "      <td>1.012207</td>\n",
       "      <td>0.993609</td>\n",
       "      <td>0.991669</td>\n",
       "      <td>0.990211</td>\n",
       "      <td>0.981068</td>\n",
       "      <td>0.990611</td>\n",
       "      <td>0.995965</td>\n",
       "      <td>0.995058</td>\n",
       "    </tr>\n",
       "    <tr>\n",
       "      <th>4</th>\n",
       "      <td>0.988833</td>\n",
       "      <td>1.002799</td>\n",
       "      <td>1.019254</td>\n",
       "      <td>1.008930</td>\n",
       "      <td>1.038006</td>\n",
       "      <td>1.014927</td>\n",
       "      <td>1.023677</td>\n",
       "      <td>1.008959</td>\n",
       "      <td>0.998013</td>\n",
       "      <td>0.997312</td>\n",
       "      <td>...</td>\n",
       "      <td>1.014078</td>\n",
       "      <td>1.008539</td>\n",
       "      <td>1.017623</td>\n",
       "      <td>0.989133</td>\n",
       "      <td>0.990123</td>\n",
       "      <td>0.995322</td>\n",
       "      <td>1.002715</td>\n",
       "      <td>0.976247</td>\n",
       "      <td>0.989048</td>\n",
       "      <td>0.995822</td>\n",
       "    </tr>\n",
       "    <tr>\n",
       "      <th>...</th>\n",
       "      <td>...</td>\n",
       "      <td>...</td>\n",
       "      <td>...</td>\n",
       "      <td>...</td>\n",
       "      <td>...</td>\n",
       "      <td>...</td>\n",
       "      <td>...</td>\n",
       "      <td>...</td>\n",
       "      <td>...</td>\n",
       "      <td>...</td>\n",
       "      <td>...</td>\n",
       "      <td>...</td>\n",
       "      <td>...</td>\n",
       "      <td>...</td>\n",
       "      <td>...</td>\n",
       "      <td>...</td>\n",
       "      <td>...</td>\n",
       "      <td>...</td>\n",
       "      <td>...</td>\n",
       "      <td>...</td>\n",
       "      <td>...</td>\n",
       "    </tr>\n",
       "    <tr>\n",
       "      <th>7556</th>\n",
       "      <td>8.000005</td>\n",
       "      <td>17.898645</td>\n",
       "      <td>9.332358</td>\n",
       "      <td>21.600934</td>\n",
       "      <td>12.333304</td>\n",
       "      <td>15.982760</td>\n",
       "      <td>23.616858</td>\n",
       "      <td>10.243739</td>\n",
       "      <td>10.368646</td>\n",
       "      <td>9.152179</td>\n",
       "      <td>...</td>\n",
       "      <td>4.333769</td>\n",
       "      <td>59.451614</td>\n",
       "      <td>8.596506</td>\n",
       "      <td>16.181584</td>\n",
       "      <td>17.452272</td>\n",
       "      <td>5.203208</td>\n",
       "      <td>37.070283</td>\n",
       "      <td>27.816072</td>\n",
       "      <td>18.869306</td>\n",
       "      <td>8.543479</td>\n",
       "    </tr>\n",
       "    <tr>\n",
       "      <th>7557</th>\n",
       "      <td>8.037123</td>\n",
       "      <td>17.817153</td>\n",
       "      <td>9.253319</td>\n",
       "      <td>21.519037</td>\n",
       "      <td>12.283789</td>\n",
       "      <td>15.888638</td>\n",
       "      <td>23.347038</td>\n",
       "      <td>10.442464</td>\n",
       "      <td>10.492749</td>\n",
       "      <td>9.181559</td>\n",
       "      <td>...</td>\n",
       "      <td>4.323465</td>\n",
       "      <td>59.865481</td>\n",
       "      <td>8.528267</td>\n",
       "      <td>16.284002</td>\n",
       "      <td>17.410283</td>\n",
       "      <td>5.228588</td>\n",
       "      <td>36.953965</td>\n",
       "      <td>27.379260</td>\n",
       "      <td>19.180390</td>\n",
       "      <td>8.585582</td>\n",
       "    </tr>\n",
       "    <tr>\n",
       "      <th>7558</th>\n",
       "      <td>8.065106</td>\n",
       "      <td>17.847673</td>\n",
       "      <td>9.229534</td>\n",
       "      <td>21.795520</td>\n",
       "      <td>12.247306</td>\n",
       "      <td>15.848954</td>\n",
       "      <td>23.429578</td>\n",
       "      <td>10.447350</td>\n",
       "      <td>10.467417</td>\n",
       "      <td>9.132553</td>\n",
       "      <td>...</td>\n",
       "      <td>4.284537</td>\n",
       "      <td>60.594001</td>\n",
       "      <td>8.431004</td>\n",
       "      <td>16.319885</td>\n",
       "      <td>17.234445</td>\n",
       "      <td>5.254898</td>\n",
       "      <td>37.284454</td>\n",
       "      <td>27.313490</td>\n",
       "      <td>18.972821</td>\n",
       "      <td>8.722393</td>\n",
       "    </tr>\n",
       "    <tr>\n",
       "      <th>7559</th>\n",
       "      <td>7.994772</td>\n",
       "      <td>18.027938</td>\n",
       "      <td>9.211385</td>\n",
       "      <td>22.062290</td>\n",
       "      <td>12.267497</td>\n",
       "      <td>15.779361</td>\n",
       "      <td>23.359270</td>\n",
       "      <td>10.475193</td>\n",
       "      <td>10.441949</td>\n",
       "      <td>9.079563</td>\n",
       "      <td>...</td>\n",
       "      <td>4.353046</td>\n",
       "      <td>61.280119</td>\n",
       "      <td>8.361431</td>\n",
       "      <td>16.523218</td>\n",
       "      <td>17.253024</td>\n",
       "      <td>5.270211</td>\n",
       "      <td>37.202156</td>\n",
       "      <td>27.176056</td>\n",
       "      <td>19.287596</td>\n",
       "      <td>8.708325</td>\n",
       "    </tr>\n",
       "    <tr>\n",
       "      <th>7560</th>\n",
       "      <td>7.874064</td>\n",
       "      <td>18.187263</td>\n",
       "      <td>9.209253</td>\n",
       "      <td>22.212521</td>\n",
       "      <td>12.296156</td>\n",
       "      <td>15.826159</td>\n",
       "      <td>22.972491</td>\n",
       "      <td>10.392391</td>\n",
       "      <td>10.465737</td>\n",
       "      <td>8.991779</td>\n",
       "      <td>...</td>\n",
       "      <td>4.327588</td>\n",
       "      <td>61.096998</td>\n",
       "      <td>8.450586</td>\n",
       "      <td>16.781124</td>\n",
       "      <td>17.347128</td>\n",
       "      <td>5.228355</td>\n",
       "      <td>37.383158</td>\n",
       "      <td>27.667709</td>\n",
       "      <td>19.234763</td>\n",
       "      <td>8.851202</td>\n",
       "    </tr>\n",
       "  </tbody>\n",
       "</table>\n",
       "<p>7561 rows × 500 columns</p>\n",
       "</div>"
      ],
      "text/plain": [
       "           0          1         2          3          4          5    \\\n",
       "0     1.000000   1.000000  1.000000   1.000000   1.000000   1.000000   \n",
       "1     1.005138   0.994376  1.007106   0.993867   1.003942   1.000316   \n",
       "2     0.987086   1.004446  1.016983   0.994970   1.011959   1.008753   \n",
       "3     0.986775   1.005328  1.017086   1.011290   1.025795   1.003556   \n",
       "4     0.988833   1.002799  1.019254   1.008930   1.038006   1.014927   \n",
       "...        ...        ...       ...        ...        ...        ...   \n",
       "7556  8.000005  17.898645  9.332358  21.600934  12.333304  15.982760   \n",
       "7557  8.037123  17.817153  9.253319  21.519037  12.283789  15.888638   \n",
       "7558  8.065106  17.847673  9.229534  21.795520  12.247306  15.848954   \n",
       "7559  7.994772  18.027938  9.211385  22.062290  12.267497  15.779361   \n",
       "7560  7.874064  18.187263  9.209253  22.212521  12.296156  15.826159   \n",
       "\n",
       "            6          7          8         9    ...       490        491  \\\n",
       "0      1.000000   1.000000   1.000000  1.000000  ...  1.000000   1.000000   \n",
       "1      1.002738   1.001638   1.001645  0.996227  ...  0.997874   1.003400   \n",
       "2      1.013285   1.000280   0.995561  0.995231  ...  0.999016   1.009023   \n",
       "3      1.023286   1.006402   0.996174  0.998100  ...  1.007952   1.010485   \n",
       "4      1.023677   1.008959   0.998013  0.997312  ...  1.014078   1.008539   \n",
       "...         ...        ...        ...       ...  ...       ...        ...   \n",
       "7556  23.616858  10.243739  10.368646  9.152179  ...  4.333769  59.451614   \n",
       "7557  23.347038  10.442464  10.492749  9.181559  ...  4.323465  59.865481   \n",
       "7558  23.429578  10.447350  10.467417  9.132553  ...  4.284537  60.594001   \n",
       "7559  23.359270  10.475193  10.441949  9.079563  ...  4.353046  61.280119   \n",
       "7560  22.972491  10.392391  10.465737  8.991779  ...  4.327588  61.096998   \n",
       "\n",
       "           492        493        494       495        496        497  \\\n",
       "0     1.000000   1.000000   1.000000  1.000000   1.000000   1.000000   \n",
       "1     1.007737   0.987340   0.999749  0.992468   0.998662   0.998218   \n",
       "2     1.011539   0.997493   0.999456  0.985419   0.995940   0.991665   \n",
       "3     1.012207   0.993609   0.991669  0.990211   0.981068   0.990611   \n",
       "4     1.017623   0.989133   0.990123  0.995322   1.002715   0.976247   \n",
       "...        ...        ...        ...       ...        ...        ...   \n",
       "7556  8.596506  16.181584  17.452272  5.203208  37.070283  27.816072   \n",
       "7557  8.528267  16.284002  17.410283  5.228588  36.953965  27.379260   \n",
       "7558  8.431004  16.319885  17.234445  5.254898  37.284454  27.313490   \n",
       "7559  8.361431  16.523218  17.253024  5.270211  37.202156  27.176056   \n",
       "7560  8.450586  16.781124  17.347128  5.228355  37.383158  27.667709   \n",
       "\n",
       "            498       499  \n",
       "0      1.000000  1.000000  \n",
       "1      1.001178  0.986117  \n",
       "2      0.995724  0.985053  \n",
       "3      0.995965  0.995058  \n",
       "4      0.989048  0.995822  \n",
       "...         ...       ...  \n",
       "7556  18.869306  8.543479  \n",
       "7557  19.180390  8.585582  \n",
       "7558  18.972821  8.722393  \n",
       "7559  19.287596  8.708325  \n",
       "7560  19.234763  8.851202  \n",
       "\n",
       "[7561 rows x 500 columns]"
      ]
     },
     "execution_count": 31,
     "metadata": {},
     "output_type": "execute_result"
    }
   ],
   "source": [
    "# Run the Monte Carlo simulation to forecast 30 years cumulative returns\n",
    "# YOUR CODE HERE\n",
    "MC_simulation.calc_cumulative_return()"
   ]
  },
  {
   "cell_type": "code",
   "execution_count": 32,
   "metadata": {},
   "outputs": [
    {
     "data": {
      "text/plain": [
       "<AxesSubplot:title={'center':'500 Simulations of Cumulative Portfolio Return Trajectories Over the Next 7560 Trading Days.'}>"
      ]
     },
     "execution_count": 32,
     "metadata": {},
     "output_type": "execute_result"
    },
    {
     "data": {
      "image/png": "[encoded data removed]",
      "text/plain": [
       "<Figure size 432x288 with 1 Axes>"
      ]
     },
     "metadata": {
      "needs_background": "light"
     },
     "output_type": "display_data"
    }
   ],
   "source": [
    "# Visualize the 30-year Monte Carlo simulation by creating an\n",
    "# overlay line plot\n",
    "# YOUR CODE HERE\n",
    "MC_simulation.plot_simulation()"
   ]
  },
  {
   "cell_type": "markdown",
   "metadata": {},
   "source": [
    "#### Step 3: Plot the probability distribution of the Monte Carlo simulation."
   ]
  },
  {
   "cell_type": "code",
   "execution_count": 33,
   "metadata": {},
   "outputs": [
    {
     "data": {
      "text/plain": [
       "<AxesSubplot:title={'center':'Distribution of Final Cumuluative Returns Across All 500 Simulations'}, ylabel='Frequency'>"
      ]
     },
     "execution_count": 33,
     "metadata": {},
     "output_type": "execute_result"
    },
    {
     "data": {
      "image/png": "[encoded data removed]",
      "text/plain": [
       "<Figure size 432x288 with 1 Axes>"
      ]
     },
     "metadata": {
      "needs_background": "light"
     },
     "output_type": "display_data"
    }
   ],
   "source": [
    "# Visualize the probability distribution of the 30-year Monte Carlo simulation \n",
    "# by plotting a histogram\n",
    "# YOUR CODE HERE\n",
    "MC_simulation.plot_distribution()"
   ]
  },
  {
   "cell_type": "markdown",
   "metadata": {},
   "source": [
    "#### Step 4: Generate the summary statistics for the Monte Carlo simulation."
   ]
  },
  {
   "cell_type": "code",
   "execution_count": 34,
   "metadata": {},
   "outputs": [
    {
     "data": {
      "text/plain": [
       "count           500.000000\n",
       "mean             19.867929\n",
       "std              15.000813\n",
       "min               1.478481\n",
       "25%               9.974416\n",
       "50%              15.898099\n",
       "75%              24.466290\n",
       "max             138.110437\n",
       "95% CI Lower      3.997143\n",
       "95% CI Upper     58.704975\n",
       "Name: 7560, dtype: float64"
      ]
     },
     "execution_count": 34,
     "metadata": {},
     "output_type": "execute_result"
    }
   ],
   "source": [
    "# Generate summary statistics from the 30-year Monte Carlo simulation results\n",
    "# Save the results as a variable\n",
    "# YOUR CODE HERE\n",
    "summary_stat = MC_simulation.summarize_cumulative_return()\n",
    "\n",
    "# Review the 30-year Monte Carlo summary statistics\n",
    "# YOUR CODE HERE\n",
    "summary_stat"
   ]
  },
  {
   "cell_type": "markdown",
   "metadata": {},
   "source": [
    "### Analyze the Retirement Portfolio Forecasts\n",
    "\n",
    "Using the current value of only the stock and bond portion of the member's portfolio and the summary statistics that you generated from the Monte Carlo simulation, answer the following question in your Jupyter notebook:\n",
    "\n",
    "-  What are the lower and upper bounds for the expected value of the portfolio with a 95% confidence interval?\n"
   ]
  },
  {
   "cell_type": "code",
   "execution_count": 35,
   "metadata": {},
   "outputs": [
    {
     "name": "stdout",
     "output_type": "stream",
     "text": [
      "131250.45299999998\n"
     ]
    }
   ],
   "source": [
    "# Print the current balance of the stock and bond portion of the members portfolio\n",
    "# YOUR CODE HERE\n",
    "print(total_portfolio)"
   ]
  },
  {
   "cell_type": "code",
   "execution_count": 36,
   "metadata": {},
   "outputs": [
    {
     "name": "stdout",
     "output_type": "stream",
     "text": [
      "Lower cumulative return: $524627.0, Upper Cummulative return: $7705055.0\n"
     ]
    }
   ],
   "source": [
    "# Use the lower and upper `95%` confidence intervals to calculate the range of the possible outcomes for the current stock/bond portfolio\n",
    "ci_lower_thirty_cumulative_return = round(summary_stat[8] *total_portfolio, 0)\n",
    "ci_upper_thirty_cumulative_return = round(summary_stat[9] *total_portfolio,0)\n",
    "\n",
    "# Print the result of your calculations\n",
    "# YOUR CODE HERE\n",
    "print(f\"Lower cumulative return: ${ci_lower_thirty_cumulative_return}, Upper Cummulative return: ${ci_upper_thirty_cumulative_return}\")"
   ]
  },
  {
   "cell_type": "markdown",
   "metadata": {},
   "source": [
    "### Forecast Cumulative Returns in 10 Years\n",
    "\n",
    "The CTO of the credit union is impressed with your work on these planning tools but wonders if 30 years is a long time to wait until retirement. So, your next task is to adjust the retirement portfolio and run a new Monte Carlo simulation to find out if the changes will allow members to retire earlier.\n",
    "\n",
    "For this new Monte Carlo simulation, do the following: \n",
    "\n",
    "- Forecast the cumulative returns for 10 years from now. Because of the shortened investment horizon (30 years to 10 years), the portfolio needs to invest more heavily in the riskier asset&mdash;that is, stock&mdash;to help accumulate wealth for retirement. \n",
    "\n",
    "- Adjust the weights of the retirement portfolio so that the composition for the Monte Carlo simulation consists of 20% bonds and 80% stocks. \n",
    "\n",
    "- Run the simulation over 500 samples, and use the same data that the API call to Alpaca generated.\n",
    "\n",
    "- Based on the new Monte Carlo simulation, answer the following questions in your Jupyter notebook:\n",
    "\n",
    "    - Using the current value of only the stock and bond portion of the member's portfolio and the summary statistics that you generated from the new Monte Carlo simulation, what are the lower and upper bounds for the expected value of the portfolio (with the new weights) with a 95% confidence interval?\n",
    "\n",
    "    - Will weighting the portfolio more heavily toward stocks allow the credit union members to retire after only 10 years?\n"
   ]
  },
  {
   "cell_type": "code",
   "execution_count": 37,
   "metadata": {},
   "outputs": [
    {
     "data": {
      "text/html": [
       "<div>\n",
       "<style scoped>\n",
       "    .dataframe tbody tr th:only-of-type {\n",
       "        vertical-align: middle;\n",
       "    }\n",
       "\n",
       "    .dataframe tbody tr th {\n",
       "        vertical-align: top;\n",
       "    }\n",
       "\n",
       "    .dataframe thead tr th {\n",
       "        text-align: left;\n",
       "    }\n",
       "\n",
       "    .dataframe thead tr:last-of-type th {\n",
       "        text-align: right;\n",
       "    }\n",
       "</style>\n",
       "<table border=\"1\" class=\"dataframe\">\n",
       "  <thead>\n",
       "    <tr>\n",
       "      <th></th>\n",
       "      <th colspan=\"6\" halign=\"left\">AGG</th>\n",
       "      <th colspan=\"6\" halign=\"left\">SPY</th>\n",
       "    </tr>\n",
       "    <tr>\n",
       "      <th></th>\n",
       "      <th>open</th>\n",
       "      <th>high</th>\n",
       "      <th>low</th>\n",
       "      <th>close</th>\n",
       "      <th>volume</th>\n",
       "      <th>daily_return</th>\n",
       "      <th>open</th>\n",
       "      <th>high</th>\n",
       "      <th>low</th>\n",
       "      <th>close</th>\n",
       "      <th>volume</th>\n",
       "      <th>daily_return</th>\n",
       "    </tr>\n",
       "    <tr>\n",
       "      <th>time</th>\n",
       "      <th></th>\n",
       "      <th></th>\n",
       "      <th></th>\n",
       "      <th></th>\n",
       "      <th></th>\n",
       "      <th></th>\n",
       "      <th></th>\n",
       "      <th></th>\n",
       "      <th></th>\n",
       "      <th></th>\n",
       "      <th></th>\n",
       "      <th></th>\n",
       "    </tr>\n",
       "  </thead>\n",
       "  <tbody>\n",
       "    <tr>\n",
       "      <th>2018-02-13 00:00:00-05:00</th>\n",
       "      <td>106.79</td>\n",
       "      <td>106.9100</td>\n",
       "      <td>106.7000</td>\n",
       "      <td>106.83</td>\n",
       "      <td>3689890</td>\n",
       "      <td>NaN</td>\n",
       "      <td>263.94</td>\n",
       "      <td>266.62</td>\n",
       "      <td>263.31</td>\n",
       "      <td>266.01</td>\n",
       "      <td>56891150</td>\n",
       "      <td>NaN</td>\n",
       "    </tr>\n",
       "    <tr>\n",
       "      <th>2018-02-14 00:00:00-05:00</th>\n",
       "      <td>106.57</td>\n",
       "      <td>106.6600</td>\n",
       "      <td>106.4039</td>\n",
       "      <td>106.46</td>\n",
       "      <td>3695997</td>\n",
       "      <td>-0.003463</td>\n",
       "      <td>264.47</td>\n",
       "      <td>270.00</td>\n",
       "      <td>263.97</td>\n",
       "      <td>269.71</td>\n",
       "      <td>86705860</td>\n",
       "      <td>0.013909</td>\n",
       "    </tr>\n",
       "    <tr>\n",
       "      <th>2018-02-15 00:00:00-05:00</th>\n",
       "      <td>106.55</td>\n",
       "      <td>106.7272</td>\n",
       "      <td>106.5300</td>\n",
       "      <td>106.59</td>\n",
       "      <td>2398428</td>\n",
       "      <td>0.001221</td>\n",
       "      <td>271.59</td>\n",
       "      <td>273.01</td>\n",
       "      <td>268.77</td>\n",
       "      <td>273.00</td>\n",
       "      <td>72021939</td>\n",
       "      <td>0.012198</td>\n",
       "    </tr>\n",
       "    <tr>\n",
       "      <th>2018-02-16 00:00:00-05:00</th>\n",
       "      <td>106.85</td>\n",
       "      <td>106.8750</td>\n",
       "      <td>106.7100</td>\n",
       "      <td>106.81</td>\n",
       "      <td>3391074</td>\n",
       "      <td>0.002064</td>\n",
       "      <td>272.31</td>\n",
       "      <td>275.32</td>\n",
       "      <td>272.27</td>\n",
       "      <td>273.09</td>\n",
       "      <td>76314679</td>\n",
       "      <td>0.000330</td>\n",
       "    </tr>\n",
       "    <tr>\n",
       "      <th>2018-02-20 00:00:00-05:00</th>\n",
       "      <td>106.69</td>\n",
       "      <td>106.7099</td>\n",
       "      <td>106.5501</td>\n",
       "      <td>106.68</td>\n",
       "      <td>2372055</td>\n",
       "      <td>-0.001217</td>\n",
       "      <td>272.03</td>\n",
       "      <td>273.67</td>\n",
       "      <td>264.84</td>\n",
       "      <td>271.43</td>\n",
       "      <td>54829423</td>\n",
       "      <td>-0.006079</td>\n",
       "    </tr>\n",
       "  </tbody>\n",
       "</table>\n",
       "</div>"
      ],
      "text/plain": [
       "                              AGG                                       \\\n",
       "                             open      high       low   close   volume   \n",
       "time                                                                     \n",
       "2018-02-13 00:00:00-05:00  106.79  106.9100  106.7000  106.83  3689890   \n",
       "2018-02-14 00:00:00-05:00  106.57  106.6600  106.4039  106.46  3695997   \n",
       "2018-02-15 00:00:00-05:00  106.55  106.7272  106.5300  106.59  2398428   \n",
       "2018-02-16 00:00:00-05:00  106.85  106.8750  106.7100  106.81  3391074   \n",
       "2018-02-20 00:00:00-05:00  106.69  106.7099  106.5501  106.68  2372055   \n",
       "\n",
       "                                           SPY                          \\\n",
       "                          daily_return    open    high     low   close   \n",
       "time                                                                     \n",
       "2018-02-13 00:00:00-05:00          NaN  263.94  266.62  263.31  266.01   \n",
       "2018-02-14 00:00:00-05:00    -0.003463  264.47  270.00  263.97  269.71   \n",
       "2018-02-15 00:00:00-05:00     0.001221  271.59  273.01  268.77  273.00   \n",
       "2018-02-16 00:00:00-05:00     0.002064  272.31  275.32  272.27  273.09   \n",
       "2018-02-20 00:00:00-05:00    -0.001217  272.03  273.67  264.84  271.43   \n",
       "\n",
       "                                                  \n",
       "                             volume daily_return  \n",
       "time                                              \n",
       "2018-02-13 00:00:00-05:00  56891150          NaN  \n",
       "2018-02-14 00:00:00-05:00  86705860     0.013909  \n",
       "2018-02-15 00:00:00-05:00  72021939     0.012198  \n",
       "2018-02-16 00:00:00-05:00  76314679     0.000330  \n",
       "2018-02-20 00:00:00-05:00  54829423    -0.006079  "
      ]
     },
     "execution_count": 37,
     "metadata": {},
     "output_type": "execute_result"
    }
   ],
   "source": [
    "# Configure a Monte Carlo simulation to forecast 10 years cumulative returns\n",
    "# The weights should be split 20% to AGG and 80% to SPY.\n",
    "# Run 500 samples.\n",
    "# YOUR CODE HERE\n",
    "MC_simulation_10 = MCSimulation(\n",
    "    portfolio_data = stock_data_df,\n",
    "    weights=[0.2,0.8],\n",
    "    num_simulation = 500,\n",
    "    num_trading_days = 252 * 10)\n",
    "# Review the simulation input data\n",
    "# YOUR CODE HERE\n",
    "MC_simulation_10.portfolio_data.head()"
   ]
  },
  {
   "cell_type": "code",
   "execution_count": 38,
   "metadata": {},
   "outputs": [
    {
     "name": "stdout",
     "output_type": "stream",
     "text": [
      "Running Monte Carlo simulation number 0.\n",
      "Running Monte Carlo simulation number 10.\n",
      "Running Monte Carlo simulation number 20.\n",
      "Running Monte Carlo simulation number 30.\n",
      "Running Monte Carlo simulation number 40.\n",
      "Running Monte Carlo simulation number 50.\n",
      "Running Monte Carlo simulation number 60.\n",
      "Running Monte Carlo simulation number 70.\n",
      "Running Monte Carlo simulation number 80.\n",
      "Running Monte Carlo simulation number 90.\n",
      "Running Monte Carlo simulation number 100.\n",
      "Running Monte Carlo simulation number 110.\n",
      "Running Monte Carlo simulation number 120.\n",
      "Running Monte Carlo simulation number 130.\n",
      "Running Monte Carlo simulation number 140.\n",
      "Running Monte Carlo simulation number 150.\n",
      "Running Monte Carlo simulation number 160.\n",
      "Running Monte Carlo simulation number 170.\n",
      "Running Monte Carlo simulation number 180.\n",
      "Running Monte Carlo simulation number 190.\n",
      "Running Monte Carlo simulation number 200.\n",
      "Running Monte Carlo simulation number 210.\n",
      "Running Monte Carlo simulation number 220.\n",
      "Running Monte Carlo simulation number 230.\n",
      "Running Monte Carlo simulation number 240.\n",
      "Running Monte Carlo simulation number 250.\n",
      "Running Monte Carlo simulation number 260.\n",
      "Running Monte Carlo simulation number 270.\n",
      "Running Monte Carlo simulation number 280.\n",
      "Running Monte Carlo simulation number 290.\n",
      "Running Monte Carlo simulation number 300.\n",
      "Running Monte Carlo simulation number 310.\n",
      "Running Monte Carlo simulation number 320.\n",
      "Running Monte Carlo simulation number 330.\n",
      "Running Monte Carlo simulation number 340.\n",
      "Running Monte Carlo simulation number 350.\n",
      "Running Monte Carlo simulation number 360.\n",
      "Running Monte Carlo simulation number 370.\n",
      "Running Monte Carlo simulation number 380.\n",
      "Running Monte Carlo simulation number 390.\n",
      "Running Monte Carlo simulation number 400.\n",
      "Running Monte Carlo simulation number 410.\n",
      "Running Monte Carlo simulation number 420.\n",
      "Running Monte Carlo simulation number 430.\n",
      "Running Monte Carlo simulation number 440.\n",
      "Running Monte Carlo simulation number 450.\n",
      "Running Monte Carlo simulation number 460.\n",
      "Running Monte Carlo simulation number 470.\n",
      "Running Monte Carlo simulation number 480.\n",
      "Running Monte Carlo simulation number 490.\n"
     ]
    },
    {
     "data": {
      "text/html": [
       "<div>\n",
       "<style scoped>\n",
       "    .dataframe tbody tr th:only-of-type {\n",
       "        vertical-align: middle;\n",
       "    }\n",
       "\n",
       "    .dataframe tbody tr th {\n",
       "        vertical-align: top;\n",
       "    }\n",
       "\n",
       "    .dataframe thead th {\n",
       "        text-align: right;\n",
       "    }\n",
       "</style>\n",
       "<table border=\"1\" class=\"dataframe\">\n",
       "  <thead>\n",
       "    <tr style=\"text-align: right;\">\n",
       "      <th></th>\n",
       "      <th>0</th>\n",
       "      <th>1</th>\n",
       "      <th>2</th>\n",
       "      <th>3</th>\n",
       "      <th>4</th>\n",
       "      <th>5</th>\n",
       "      <th>6</th>\n",
       "      <th>7</th>\n",
       "      <th>8</th>\n",
       "      <th>9</th>\n",
       "      <th>...</th>\n",
       "      <th>490</th>\n",
       "      <th>491</th>\n",
       "      <th>492</th>\n",
       "      <th>493</th>\n",
       "      <th>494</th>\n",
       "      <th>495</th>\n",
       "      <th>496</th>\n",
       "      <th>497</th>\n",
       "      <th>498</th>\n",
       "      <th>499</th>\n",
       "    </tr>\n",
       "  </thead>\n",
       "  <tbody>\n",
       "    <tr>\n",
       "      <th>0</th>\n",
       "      <td>1.000000</td>\n",
       "      <td>1.000000</td>\n",
       "      <td>1.000000</td>\n",
       "      <td>1.000000</td>\n",
       "      <td>1.000000</td>\n",
       "      <td>1.000000</td>\n",
       "      <td>1.000000</td>\n",
       "      <td>1.000000</td>\n",
       "      <td>1.000000</td>\n",
       "      <td>1.000000</td>\n",
       "      <td>...</td>\n",
       "      <td>1.000000</td>\n",
       "      <td>1.000000</td>\n",
       "      <td>1.000000</td>\n",
       "      <td>1.000000</td>\n",
       "      <td>1.000000</td>\n",
       "      <td>1.000000</td>\n",
       "      <td>1.000000</td>\n",
       "      <td>1.000000</td>\n",
       "      <td>1.000000</td>\n",
       "      <td>1.000000</td>\n",
       "    </tr>\n",
       "    <tr>\n",
       "      <th>1</th>\n",
       "      <td>0.990031</td>\n",
       "      <td>1.003134</td>\n",
       "      <td>1.001829</td>\n",
       "      <td>1.011537</td>\n",
       "      <td>1.005836</td>\n",
       "      <td>1.000334</td>\n",
       "      <td>1.014397</td>\n",
       "      <td>1.011919</td>\n",
       "      <td>1.003457</td>\n",
       "      <td>1.020761</td>\n",
       "      <td>...</td>\n",
       "      <td>1.003191</td>\n",
       "      <td>0.995783</td>\n",
       "      <td>1.020901</td>\n",
       "      <td>0.987452</td>\n",
       "      <td>0.992452</td>\n",
       "      <td>1.013997</td>\n",
       "      <td>1.003610</td>\n",
       "      <td>1.005379</td>\n",
       "      <td>0.998757</td>\n",
       "      <td>1.023284</td>\n",
       "    </tr>\n",
       "    <tr>\n",
       "      <th>2</th>\n",
       "      <td>1.019080</td>\n",
       "      <td>1.013681</td>\n",
       "      <td>0.984076</td>\n",
       "      <td>1.003097</td>\n",
       "      <td>0.995018</td>\n",
       "      <td>1.010082</td>\n",
       "      <td>1.024232</td>\n",
       "      <td>1.004417</td>\n",
       "      <td>0.996317</td>\n",
       "      <td>1.008626</td>\n",
       "      <td>...</td>\n",
       "      <td>0.991501</td>\n",
       "      <td>1.030512</td>\n",
       "      <td>1.013541</td>\n",
       "      <td>0.992129</td>\n",
       "      <td>0.988131</td>\n",
       "      <td>1.017813</td>\n",
       "      <td>1.001023</td>\n",
       "      <td>1.011935</td>\n",
       "      <td>1.000743</td>\n",
       "      <td>1.031274</td>\n",
       "    </tr>\n",
       "    <tr>\n",
       "      <th>3</th>\n",
       "      <td>1.026043</td>\n",
       "      <td>1.014705</td>\n",
       "      <td>0.975748</td>\n",
       "      <td>1.004524</td>\n",
       "      <td>0.992541</td>\n",
       "      <td>0.994671</td>\n",
       "      <td>1.031957</td>\n",
       "      <td>0.987206</td>\n",
       "      <td>1.009585</td>\n",
       "      <td>1.024566</td>\n",
       "      <td>...</td>\n",
       "      <td>0.976349</td>\n",
       "      <td>1.037528</td>\n",
       "      <td>0.995931</td>\n",
       "      <td>0.986454</td>\n",
       "      <td>0.998018</td>\n",
       "      <td>0.995938</td>\n",
       "      <td>0.996751</td>\n",
       "      <td>1.015321</td>\n",
       "      <td>1.022325</td>\n",
       "      <td>1.059883</td>\n",
       "    </tr>\n",
       "    <tr>\n",
       "      <th>4</th>\n",
       "      <td>1.018961</td>\n",
       "      <td>1.026270</td>\n",
       "      <td>0.986568</td>\n",
       "      <td>1.001745</td>\n",
       "      <td>0.981161</td>\n",
       "      <td>1.002053</td>\n",
       "      <td>1.028884</td>\n",
       "      <td>0.977663</td>\n",
       "      <td>1.015310</td>\n",
       "      <td>1.047995</td>\n",
       "      <td>...</td>\n",
       "      <td>0.993953</td>\n",
       "      <td>1.045030</td>\n",
       "      <td>1.010215</td>\n",
       "      <td>0.971364</td>\n",
       "      <td>1.002543</td>\n",
       "      <td>1.005370</td>\n",
       "      <td>1.001041</td>\n",
       "      <td>1.018643</td>\n",
       "      <td>1.023454</td>\n",
       "      <td>1.062324</td>\n",
       "    </tr>\n",
       "    <tr>\n",
       "      <th>...</th>\n",
       "      <td>...</td>\n",
       "      <td>...</td>\n",
       "      <td>...</td>\n",
       "      <td>...</td>\n",
       "      <td>...</td>\n",
       "      <td>...</td>\n",
       "      <td>...</td>\n",
       "      <td>...</td>\n",
       "      <td>...</td>\n",
       "      <td>...</td>\n",
       "      <td>...</td>\n",
       "      <td>...</td>\n",
       "      <td>...</td>\n",
       "      <td>...</td>\n",
       "      <td>...</td>\n",
       "      <td>...</td>\n",
       "      <td>...</td>\n",
       "      <td>...</td>\n",
       "      <td>...</td>\n",
       "      <td>...</td>\n",
       "      <td>...</td>\n",
       "    </tr>\n",
       "    <tr>\n",
       "      <th>2516</th>\n",
       "      <td>1.848914</td>\n",
       "      <td>2.236924</td>\n",
       "      <td>2.884924</td>\n",
       "      <td>1.675706</td>\n",
       "      <td>3.217782</td>\n",
       "      <td>5.799155</td>\n",
       "      <td>4.353800</td>\n",
       "      <td>1.834791</td>\n",
       "      <td>2.911281</td>\n",
       "      <td>4.326242</td>\n",
       "      <td>...</td>\n",
       "      <td>2.857659</td>\n",
       "      <td>2.870806</td>\n",
       "      <td>3.029642</td>\n",
       "      <td>3.008751</td>\n",
       "      <td>2.715341</td>\n",
       "      <td>5.312016</td>\n",
       "      <td>2.287099</td>\n",
       "      <td>1.977341</td>\n",
       "      <td>1.646079</td>\n",
       "      <td>1.101282</td>\n",
       "    </tr>\n",
       "    <tr>\n",
       "      <th>2517</th>\n",
       "      <td>1.826114</td>\n",
       "      <td>2.182301</td>\n",
       "      <td>2.888541</td>\n",
       "      <td>1.712651</td>\n",
       "      <td>3.210473</td>\n",
       "      <td>5.851191</td>\n",
       "      <td>4.346427</td>\n",
       "      <td>1.860220</td>\n",
       "      <td>2.925039</td>\n",
       "      <td>4.353366</td>\n",
       "      <td>...</td>\n",
       "      <td>2.880864</td>\n",
       "      <td>2.842622</td>\n",
       "      <td>3.070484</td>\n",
       "      <td>3.049633</td>\n",
       "      <td>2.726537</td>\n",
       "      <td>5.368599</td>\n",
       "      <td>2.294687</td>\n",
       "      <td>1.987483</td>\n",
       "      <td>1.637656</td>\n",
       "      <td>1.108852</td>\n",
       "    </tr>\n",
       "    <tr>\n",
       "      <th>2518</th>\n",
       "      <td>1.834030</td>\n",
       "      <td>2.242079</td>\n",
       "      <td>2.970425</td>\n",
       "      <td>1.693289</td>\n",
       "      <td>3.230141</td>\n",
       "      <td>5.899004</td>\n",
       "      <td>4.397692</td>\n",
       "      <td>1.831226</td>\n",
       "      <td>2.874773</td>\n",
       "      <td>4.334293</td>\n",
       "      <td>...</td>\n",
       "      <td>2.901616</td>\n",
       "      <td>2.852261</td>\n",
       "      <td>3.043524</td>\n",
       "      <td>3.067048</td>\n",
       "      <td>2.759195</td>\n",
       "      <td>5.381939</td>\n",
       "      <td>2.305192</td>\n",
       "      <td>1.986230</td>\n",
       "      <td>1.633091</td>\n",
       "      <td>1.108437</td>\n",
       "    </tr>\n",
       "    <tr>\n",
       "      <th>2519</th>\n",
       "      <td>1.827402</td>\n",
       "      <td>2.262553</td>\n",
       "      <td>2.987476</td>\n",
       "      <td>1.687194</td>\n",
       "      <td>3.253636</td>\n",
       "      <td>5.959096</td>\n",
       "      <td>4.461189</td>\n",
       "      <td>1.806240</td>\n",
       "      <td>2.839614</td>\n",
       "      <td>4.332238</td>\n",
       "      <td>...</td>\n",
       "      <td>2.924158</td>\n",
       "      <td>2.879338</td>\n",
       "      <td>3.029607</td>\n",
       "      <td>3.065428</td>\n",
       "      <td>2.733591</td>\n",
       "      <td>5.397633</td>\n",
       "      <td>2.323579</td>\n",
       "      <td>1.966888</td>\n",
       "      <td>1.615312</td>\n",
       "      <td>1.121437</td>\n",
       "    </tr>\n",
       "    <tr>\n",
       "      <th>2520</th>\n",
       "      <td>1.832572</td>\n",
       "      <td>2.325545</td>\n",
       "      <td>2.956458</td>\n",
       "      <td>1.673688</td>\n",
       "      <td>3.202180</td>\n",
       "      <td>5.915081</td>\n",
       "      <td>4.477396</td>\n",
       "      <td>1.842353</td>\n",
       "      <td>2.819514</td>\n",
       "      <td>4.301005</td>\n",
       "      <td>...</td>\n",
       "      <td>2.953459</td>\n",
       "      <td>2.861425</td>\n",
       "      <td>3.047389</td>\n",
       "      <td>3.077014</td>\n",
       "      <td>2.740821</td>\n",
       "      <td>5.498115</td>\n",
       "      <td>2.287977</td>\n",
       "      <td>1.957051</td>\n",
       "      <td>1.601955</td>\n",
       "      <td>1.135068</td>\n",
       "    </tr>\n",
       "  </tbody>\n",
       "</table>\n",
       "<p>2521 rows × 500 columns</p>\n",
       "</div>"
      ],
      "text/plain": [
       "           0         1         2         3         4         5         6    \\\n",
       "0     1.000000  1.000000  1.000000  1.000000  1.000000  1.000000  1.000000   \n",
       "1     0.990031  1.003134  1.001829  1.011537  1.005836  1.000334  1.014397   \n",
       "2     1.019080  1.013681  0.984076  1.003097  0.995018  1.010082  1.024232   \n",
       "3     1.026043  1.014705  0.975748  1.004524  0.992541  0.994671  1.031957   \n",
       "4     1.018961  1.026270  0.986568  1.001745  0.981161  1.002053  1.028884   \n",
       "...        ...       ...       ...       ...       ...       ...       ...   \n",
       "2516  1.848914  2.236924  2.884924  1.675706  3.217782  5.799155  4.353800   \n",
       "2517  1.826114  2.182301  2.888541  1.712651  3.210473  5.851191  4.346427   \n",
       "2518  1.834030  2.242079  2.970425  1.693289  3.230141  5.899004  4.397692   \n",
       "2519  1.827402  2.262553  2.987476  1.687194  3.253636  5.959096  4.461189   \n",
       "2520  1.832572  2.325545  2.956458  1.673688  3.202180  5.915081  4.477396   \n",
       "\n",
       "           7         8         9    ...       490       491       492  \\\n",
       "0     1.000000  1.000000  1.000000  ...  1.000000  1.000000  1.000000   \n",
       "1     1.011919  1.003457  1.020761  ...  1.003191  0.995783  1.020901   \n",
       "2     1.004417  0.996317  1.008626  ...  0.991501  1.030512  1.013541   \n",
       "3     0.987206  1.009585  1.024566  ...  0.976349  1.037528  0.995931   \n",
       "4     0.977663  1.015310  1.047995  ...  0.993953  1.045030  1.010215   \n",
       "...        ...       ...       ...  ...       ...       ...       ...   \n",
       "2516  1.834791  2.911281  4.326242  ...  2.857659  2.870806  3.029642   \n",
       "2517  1.860220  2.925039  4.353366  ...  2.880864  2.842622  3.070484   \n",
       "2518  1.831226  2.874773  4.334293  ...  2.901616  2.852261  3.043524   \n",
       "2519  1.806240  2.839614  4.332238  ...  2.924158  2.879338  3.029607   \n",
       "2520  1.842353  2.819514  4.301005  ...  2.953459  2.861425  3.047389   \n",
       "\n",
       "           493       494       495       496       497       498       499  \n",
       "0     1.000000  1.000000  1.000000  1.000000  1.000000  1.000000  1.000000  \n",
       "1     0.987452  0.992452  1.013997  1.003610  1.005379  0.998757  1.023284  \n",
       "2     0.992129  0.988131  1.017813  1.001023  1.011935  1.000743  1.031274  \n",
       "3     0.986454  0.998018  0.995938  0.996751  1.015321  1.022325  1.059883  \n",
       "4     0.971364  1.002543  1.005370  1.001041  1.018643  1.023454  1.062324  \n",
       "...        ...       ...       ...       ...       ...       ...       ...  \n",
       "2516  3.008751  2.715341  5.312016  2.287099  1.977341  1.646079  1.101282  \n",
       "2517  3.049633  2.726537  5.368599  2.294687  1.987483  1.637656  1.108852  \n",
       "2518  3.067048  2.759195  5.381939  2.305192  1.986230  1.633091  1.108437  \n",
       "2519  3.065428  2.733591  5.397633  2.323579  1.966888  1.615312  1.121437  \n",
       "2520  3.077014  2.740821  5.498115  2.287977  1.957051  1.601955  1.135068  \n",
       "\n",
       "[2521 rows x 500 columns]"
      ]
     },
     "execution_count": 38,
     "metadata": {},
     "output_type": "execute_result"
    }
   ],
   "source": [
    "# Run the Monte Carlo simulation to forecast 10 years cumulative returns\n",
    "# YOUR CODE HERE\n",
    "MC_simulation_10.calc_cumulative_return()"
   ]
  },
  {
   "cell_type": "code",
   "execution_count": 39,
   "metadata": {},
   "outputs": [
    {
     "data": {
      "text/plain": [
       "<AxesSubplot:title={'center':'500 Simulations of Cumulative Portfolio Return Trajectories Over the Next 2520 Trading Days.'}>"
      ]
     },
     "execution_count": 39,
     "metadata": {},
     "output_type": "execute_result"
    },
    {
     "data": {
      "image/png": "[encoded data removed]",
      "text/plain": [
       "<Figure size 432x288 with 1 Axes>"
      ]
     },
     "metadata": {
      "needs_background": "light"
     },
     "output_type": "display_data"
    }
   ],
   "source": [
    "# Visualize the 10-year Monte Carlo simulation by creating an\n",
    "# overlay line plot\n",
    "# YOUR CODE HERE\n",
    "MC_simulation_10.plot_simulation()"
   ]
  },
  {
   "cell_type": "code",
   "execution_count": 40,
   "metadata": {},
   "outputs": [
    {
     "data": {
      "text/plain": [
       "<AxesSubplot:title={'center':'Distribution of Final Cumuluative Returns Across All 500 Simulations'}, ylabel='Frequency'>"
      ]
     },
     "execution_count": 40,
     "metadata": {},
     "output_type": "execute_result"
    },
    {
     "data": {
      "image/png": "[encoded data removed]",
      "text/plain": [
       "<Figure size 432x288 with 1 Axes>"
      ]
     },
     "metadata": {
      "needs_background": "light"
     },
     "output_type": "display_data"
    }
   ],
   "source": [
    "# Visualize the probability distribution of the 10-year Monte Carlo simulation \n",
    "# by plotting a histogram\n",
    "# YOUR CODE HERE\n",
    "MC_simulation_10.plot_distribution()"
   ]
  },
  {
   "cell_type": "code",
   "execution_count": 44,
   "metadata": {},
   "outputs": [
    {
     "data": {
      "text/plain": [
       "count           500.000000\n",
       "mean              3.370689\n",
       "std               1.831547\n",
       "min               0.695484\n",
       "25%               2.036055\n",
       "50%               2.957854\n",
       "75%               4.294523\n",
       "max              14.149222\n",
       "95% CI Lower      1.108054\n",
       "95% CI Upper      7.581077\n",
       "Name: 2520, dtype: float64"
      ]
     },
     "execution_count": 44,
     "metadata": {},
     "output_type": "execute_result"
    }
   ],
   "source": [
    "# Generate summary statistics from the 10-year Monte Carlo simulation results\n",
    "# Save the results as a variable\n",
    "# YOUR CODE HERE\n",
    "summary_stat_10 = MC_simulation_10.summarize_cumulative_return()\n",
    "\n",
    "# Review the 10-year Monte Carlo summary statistics\n",
    "# YOUR CODE HERE\n",
    "summary_stat_10"
   ]
  },
  {
   "cell_type": "markdown",
   "metadata": {},
   "source": [
    "### Answer the following questions:"
   ]
  },
  {
   "cell_type": "markdown",
   "metadata": {},
   "source": [
    "#### Question: Using the current value of only the stock and bond portion of the member's portfolio and the summary statistics that you generated from the new Monte Carlo simulation, what are the lower and upper bounds for the expected value of the portfolio (with the new weights) with a 95% confidence interval?"
   ]
  },
  {
   "cell_type": "code",
   "execution_count": 45,
   "metadata": {},
   "outputs": [
    {
     "name": "stdout",
     "output_type": "stream",
     "text": [
      "131250.45299999998\n"
     ]
    }
   ],
   "source": [
    "# Print the current balance of the stock and bond portion of the members portfolio\n",
    "# YOUR CODE HERE\n",
    "print(total_portfolio)"
   ]
  },
  {
   "cell_type": "code",
   "execution_count": 46,
   "metadata": {},
   "outputs": [
    {
     "name": "stdout",
     "output_type": "stream",
     "text": [
      "Lower cumulative return: $145433.0, Upper Cummulative return: $995020.0\n"
     ]
    }
   ],
   "source": [
    "# Use the lower and upper `95%` confidence intervals to calculate the range of the possible outcomes for the current stock/bond portfolio\n",
    "ci_lower_ten_cumulative_return = round(summary_stat_10[8] *total_portfolio, 0)\n",
    "ci_upper_ten_cumulative_return = round(summary_stat_10[9] *total_portfolio, 0)\n",
    "\n",
    "# Print the result of your calculations\n",
    "# YOUR CODE HERE\n",
    "print(f\"Lower cumulative return: ${ci_lower_ten_cumulative_return}, Upper Cummulative return: ${ci_upper_ten_cumulative_return}\")"
   ]
  },
  {
   "cell_type": "markdown",
   "metadata": {},
   "source": [
    "#### Question: Will weighting the portfolio more heavily to stocks allow the credit union members to retire after only 10 years?"
   ]
  },
  {
   "cell_type": "raw",
   "metadata": {},
   "source": [
    "**Answer** # This doesn't look so as he is making like 20% of what he initially will make in 30 years. It is not that favourable"
   ]
  },
  {
   "cell_type": "code",
   "execution_count": null,
   "metadata": {},
   "outputs": [],
   "source": []
  }
 ],
 "metadata": {
  "kernelspec": {
   "display_name": "Python 3",
   "language": "python",
   "name": "python3"
  },
  "language_info": {
   "codemirror_mode": {
    "name": "ipython",
    "version": 3
   },
   "file_extension": ".py",
   "mimetype": "text/x-python",
   "name": "python",
   "nbconvert_exporter": "python",
   "pygments_lexer": "ipython3",
   "version": "3.8.8"
  }
 },
 "nbformat": 4,
 "nbformat_minor": 4
}
